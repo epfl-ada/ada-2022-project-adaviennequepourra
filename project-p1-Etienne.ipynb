{
 "cells": [
  {
   "cell_type": "code",
   "execution_count": 84,
   "id": "502848f9",
   "metadata": {},
   "outputs": [],
   "source": [
    "import pandas as pd\n",
    "import numpy as np\n",
    "import matplotlib.pyplot as plt\n",
    "%matplotlib inline\n",
    "import seaborn as sns\n",
    "import math\n",
    "import datetime"
   ]
  },
  {
   "cell_type": "code",
   "execution_count": 85,
   "id": "79e2f6c7",
   "metadata": {},
   "outputs": [],
   "source": [
    "data_folder = './MovieSummaries/'\n",
    "\n",
    "summaries = pd.read_csv(data_folder+'plot_summaries.txt', sep='\t', header=None, names=[\"wiki_id\", \"summary\"])\n",
    "movie_meta = pd.read_csv(data_folder+'movie.metadata.tsv', sep='\t', header=None, names=[\"wiki_id\", \"freebase_id\", \"movie_name\", \"release_date\", \"revenue\", \"runtime\", \"languages\", \"coutries\", \"genres\"])\n",
    "char_meta = pd.read_csv(data_folder+'character.metadata.tsv', sep='\t', header=None, names=[\"wiki_id\", \"freebase_id\", \"release_date\", \"character_name\", \"birth\", \"gender\", \"height\", \"ethnicity\", \"actor_name\", \"actor_age\", \"character_actor_map\", \"character_id\", \"actor_id\"])\n",
    "#tvtropes_clusters = pd.read_csv(data_folder+'tvtropes.clusters.txt')\n",
    "#name_clusters = pd.read_csv(data_folder+'name.clusters.txt')"
   ]
  },
  {
   "cell_type": "code",
   "execution_count": 86,
   "id": "88cd47aa",
   "metadata": {},
   "outputs": [
    {
     "name": "stderr",
     "output_type": "stream",
     "text": [
      "[nltk_data] Downloading package omw-1.4 to\n",
      "[nltk_data]     C:\\Users\\etien\\AppData\\Roaming\\nltk_data...\n",
      "[nltk_data]   Package omw-1.4 is already up-to-date!\n"
     ]
    }
   ],
   "source": [
    "import nltk\n",
    "nltk.download('omw-1.4')\n",
    "from pattern.en import sentiment"
   ]
  },
  {
   "cell_type": "code",
   "execution_count": 87,
   "id": "df39de0f",
   "metadata": {},
   "outputs": [],
   "source": [
    "# number of samples\n",
    "total_length = len(summaries)"
   ]
  },
  {
   "cell_type": "code",
   "execution_count": 88,
   "id": "61248239",
   "metadata": {},
   "outputs": [],
   "source": [
    "# select only the data with 'war' in it\n",
    "summary_with_war = summaries[summaries['summary'].str.contains('war')]"
   ]
  },
  {
   "cell_type": "code",
   "execution_count": 89,
   "id": "5901c5c9",
   "metadata": {},
   "outputs": [
    {
     "name": "stdout",
     "output_type": "stream",
     "text": [
      "There is 14079 movies with world war in the summary\n",
      "pourcentage =  33.281327565420895\n"
     ]
    }
   ],
   "source": [
    "with_war_length = len(summary_with_war)\n",
    "print('There is', with_war_length, 'movies with world war in the summary')\n",
    "print('pourcentage = ', len(summary_with_war)/total_length * 100)"
   ]
  },
  {
   "cell_type": "code",
   "execution_count": 90,
   "id": "59230d23",
   "metadata": {},
   "outputs": [],
   "source": [
    "# mergin databases\n",
    "summaries = summaries.merge(movie_meta, on=\"wiki_id\", how = 'right')\n",
    "summaries[\"languages\"] = summaries.apply(lambda x: list(eval(x[\"languages\"]).values()), axis=1)\n",
    "summaries[\"coutries\"] = summaries.apply(lambda x: list(eval(x[\"coutries\"]).values()), axis=1)\n",
    "summaries[\"genres\"] = summaries.apply(lambda x: list(eval(x[\"genres\"]).values()), axis=1)"
   ]
  },
  {
   "cell_type": "code",
   "execution_count": 91,
   "id": "b5c5f055",
   "metadata": {},
   "outputs": [
    {
     "data": {
      "text/html": [
       "<div>\n",
       "<style scoped>\n",
       "    .dataframe tbody tr th:only-of-type {\n",
       "        vertical-align: middle;\n",
       "    }\n",
       "\n",
       "    .dataframe tbody tr th {\n",
       "        vertical-align: top;\n",
       "    }\n",
       "\n",
       "    .dataframe thead th {\n",
       "        text-align: right;\n",
       "    }\n",
       "</style>\n",
       "<table border=\"1\" class=\"dataframe\">\n",
       "  <thead>\n",
       "    <tr style=\"text-align: right;\">\n",
       "      <th></th>\n",
       "      <th>wiki_id</th>\n",
       "      <th>summary</th>\n",
       "      <th>freebase_id</th>\n",
       "      <th>movie_name</th>\n",
       "      <th>release_date</th>\n",
       "      <th>revenue</th>\n",
       "      <th>runtime</th>\n",
       "      <th>languages</th>\n",
       "      <th>coutries</th>\n",
       "      <th>genres</th>\n",
       "    </tr>\n",
       "  </thead>\n",
       "  <tbody>\n",
       "    <tr>\n",
       "      <th>0</th>\n",
       "      <td>975900</td>\n",
       "      <td>Set in the second half of the 22nd century, th...</td>\n",
       "      <td>/m/03vyhn</td>\n",
       "      <td>Ghosts of Mars</td>\n",
       "      <td>2001-08-24</td>\n",
       "      <td>14010832.0</td>\n",
       "      <td>98.0</td>\n",
       "      <td>[English Language]</td>\n",
       "      <td>[United States of America]</td>\n",
       "      <td>[Thriller, Science Fiction, Horror, Adventure,...</td>\n",
       "    </tr>\n",
       "    <tr>\n",
       "      <th>1</th>\n",
       "      <td>3196793</td>\n",
       "      <td>NaN</td>\n",
       "      <td>/m/08yl5d</td>\n",
       "      <td>Getting Away with Murder: The JonBenét Ramsey ...</td>\n",
       "      <td>2000-02-16</td>\n",
       "      <td>NaN</td>\n",
       "      <td>95.0</td>\n",
       "      <td>[English Language]</td>\n",
       "      <td>[United States of America]</td>\n",
       "      <td>[Mystery, Biographical film, Drama, Crime Drama]</td>\n",
       "    </tr>\n",
       "    <tr>\n",
       "      <th>2</th>\n",
       "      <td>28463795</td>\n",
       "      <td>NaN</td>\n",
       "      <td>/m/0crgdbh</td>\n",
       "      <td>Brun bitter</td>\n",
       "      <td>1988</td>\n",
       "      <td>NaN</td>\n",
       "      <td>83.0</td>\n",
       "      <td>[Norwegian Language]</td>\n",
       "      <td>[Norway]</td>\n",
       "      <td>[Crime Fiction, Drama]</td>\n",
       "    </tr>\n",
       "    <tr>\n",
       "      <th>3</th>\n",
       "      <td>9363483</td>\n",
       "      <td>A series of murders of rich young women throug...</td>\n",
       "      <td>/m/0285_cd</td>\n",
       "      <td>White Of The Eye</td>\n",
       "      <td>1987</td>\n",
       "      <td>NaN</td>\n",
       "      <td>110.0</td>\n",
       "      <td>[English Language]</td>\n",
       "      <td>[United Kingdom]</td>\n",
       "      <td>[Thriller, Erotic thriller, Psychological thri...</td>\n",
       "    </tr>\n",
       "    <tr>\n",
       "      <th>4</th>\n",
       "      <td>261236</td>\n",
       "      <td>Eva, an upper class housewife, becomes frustra...</td>\n",
       "      <td>/m/01mrr1</td>\n",
       "      <td>A Woman in Flames</td>\n",
       "      <td>1983</td>\n",
       "      <td>NaN</td>\n",
       "      <td>106.0</td>\n",
       "      <td>[German Language]</td>\n",
       "      <td>[Germany]</td>\n",
       "      <td>[Drama]</td>\n",
       "    </tr>\n",
       "  </tbody>\n",
       "</table>\n",
       "</div>"
      ],
      "text/plain": [
       "    wiki_id                                            summary freebase_id  \\\n",
       "0    975900  Set in the second half of the 22nd century, th...   /m/03vyhn   \n",
       "1   3196793                                                NaN   /m/08yl5d   \n",
       "2  28463795                                                NaN  /m/0crgdbh   \n",
       "3   9363483  A series of murders of rich young women throug...  /m/0285_cd   \n",
       "4    261236  Eva, an upper class housewife, becomes frustra...   /m/01mrr1   \n",
       "\n",
       "                                          movie_name release_date     revenue  \\\n",
       "0                                     Ghosts of Mars   2001-08-24  14010832.0   \n",
       "1  Getting Away with Murder: The JonBenét Ramsey ...   2000-02-16         NaN   \n",
       "2                                        Brun bitter         1988         NaN   \n",
       "3                                   White Of The Eye         1987         NaN   \n",
       "4                                  A Woman in Flames         1983         NaN   \n",
       "\n",
       "   runtime             languages                    coutries  \\\n",
       "0     98.0    [English Language]  [United States of America]   \n",
       "1     95.0    [English Language]  [United States of America]   \n",
       "2     83.0  [Norwegian Language]                    [Norway]   \n",
       "3    110.0    [English Language]            [United Kingdom]   \n",
       "4    106.0     [German Language]                   [Germany]   \n",
       "\n",
       "                                              genres  \n",
       "0  [Thriller, Science Fiction, Horror, Adventure,...  \n",
       "1   [Mystery, Biographical film, Drama, Crime Drama]  \n",
       "2                             [Crime Fiction, Drama]  \n",
       "3  [Thriller, Erotic thriller, Psychological thri...  \n",
       "4                                            [Drama]  "
      ]
     },
     "execution_count": 91,
     "metadata": {},
     "output_type": "execute_result"
    }
   ],
   "source": [
    "summaries.head()"
   ]
  },
  {
   "cell_type": "markdown",
   "id": "f21a0aae",
   "metadata": {},
   "source": [
    "#### Over war movies : "
   ]
  },
  {
   "cell_type": "code",
   "execution_count": 92,
   "id": "aaa6b6aa",
   "metadata": {},
   "outputs": [],
   "source": [
    "# df is used for average sentiment analysis over war movies\n",
    "df = summaries.copy()"
   ]
  },
  {
   "cell_type": "code",
   "execution_count": 93,
   "id": "f838faee",
   "metadata": {},
   "outputs": [],
   "source": [
    "df.summary = df.summary.fillna('')\n",
    "df.loc[df['wiki_id']== 29666067, 'release_date'] = datetime.datetime(2010, 12, 2)\n",
    "dates = pd.to_datetime(df['release_date'])\n",
    "df['release_date'] = dates"
   ]
  },
  {
   "cell_type": "code",
   "execution_count": 94,
   "id": "37de3a5e",
   "metadata": {},
   "outputs": [
    {
     "data": {
      "text/html": [
       "<div>\n",
       "<style scoped>\n",
       "    .dataframe tbody tr th:only-of-type {\n",
       "        vertical-align: middle;\n",
       "    }\n",
       "\n",
       "    .dataframe tbody tr th {\n",
       "        vertical-align: top;\n",
       "    }\n",
       "\n",
       "    .dataframe thead th {\n",
       "        text-align: right;\n",
       "    }\n",
       "</style>\n",
       "<table border=\"1\" class=\"dataframe\">\n",
       "  <thead>\n",
       "    <tr style=\"text-align: right;\">\n",
       "      <th></th>\n",
       "      <th>wiki_id</th>\n",
       "      <th>summary</th>\n",
       "      <th>freebase_id</th>\n",
       "      <th>movie_name</th>\n",
       "      <th>release_date</th>\n",
       "      <th>revenue</th>\n",
       "      <th>runtime</th>\n",
       "      <th>languages</th>\n",
       "      <th>coutries</th>\n",
       "      <th>genres</th>\n",
       "    </tr>\n",
       "  </thead>\n",
       "  <tbody>\n",
       "    <tr>\n",
       "      <th>0</th>\n",
       "      <td>975900</td>\n",
       "      <td>Set in the second half of the 22nd century, th...</td>\n",
       "      <td>/m/03vyhn</td>\n",
       "      <td>Ghosts of Mars</td>\n",
       "      <td>2001-08-24</td>\n",
       "      <td>14010832.0</td>\n",
       "      <td>98.0</td>\n",
       "      <td>[English Language]</td>\n",
       "      <td>[United States of America]</td>\n",
       "      <td>[Thriller, Science Fiction, Horror, Adventure,...</td>\n",
       "    </tr>\n",
       "    <tr>\n",
       "      <th>1</th>\n",
       "      <td>3196793</td>\n",
       "      <td></td>\n",
       "      <td>/m/08yl5d</td>\n",
       "      <td>Getting Away with Murder: The JonBenét Ramsey ...</td>\n",
       "      <td>2000-02-16</td>\n",
       "      <td>NaN</td>\n",
       "      <td>95.0</td>\n",
       "      <td>[English Language]</td>\n",
       "      <td>[United States of America]</td>\n",
       "      <td>[Mystery, Biographical film, Drama, Crime Drama]</td>\n",
       "    </tr>\n",
       "    <tr>\n",
       "      <th>2</th>\n",
       "      <td>28463795</td>\n",
       "      <td></td>\n",
       "      <td>/m/0crgdbh</td>\n",
       "      <td>Brun bitter</td>\n",
       "      <td>1988-01-01</td>\n",
       "      <td>NaN</td>\n",
       "      <td>83.0</td>\n",
       "      <td>[Norwegian Language]</td>\n",
       "      <td>[Norway]</td>\n",
       "      <td>[Crime Fiction, Drama]</td>\n",
       "    </tr>\n",
       "    <tr>\n",
       "      <th>3</th>\n",
       "      <td>9363483</td>\n",
       "      <td>A series of murders of rich young women throug...</td>\n",
       "      <td>/m/0285_cd</td>\n",
       "      <td>White Of The Eye</td>\n",
       "      <td>1987-01-01</td>\n",
       "      <td>NaN</td>\n",
       "      <td>110.0</td>\n",
       "      <td>[English Language]</td>\n",
       "      <td>[United Kingdom]</td>\n",
       "      <td>[Thriller, Erotic thriller, Psychological thri...</td>\n",
       "    </tr>\n",
       "    <tr>\n",
       "      <th>4</th>\n",
       "      <td>261236</td>\n",
       "      <td>Eva, an upper class housewife, becomes frustra...</td>\n",
       "      <td>/m/01mrr1</td>\n",
       "      <td>A Woman in Flames</td>\n",
       "      <td>1983-01-01</td>\n",
       "      <td>NaN</td>\n",
       "      <td>106.0</td>\n",
       "      <td>[German Language]</td>\n",
       "      <td>[Germany]</td>\n",
       "      <td>[Drama]</td>\n",
       "    </tr>\n",
       "  </tbody>\n",
       "</table>\n",
       "</div>"
      ],
      "text/plain": [
       "    wiki_id                                            summary freebase_id  \\\n",
       "0    975900  Set in the second half of the 22nd century, th...   /m/03vyhn   \n",
       "1   3196793                                                      /m/08yl5d   \n",
       "2  28463795                                                     /m/0crgdbh   \n",
       "3   9363483  A series of murders of rich young women throug...  /m/0285_cd   \n",
       "4    261236  Eva, an upper class housewife, becomes frustra...   /m/01mrr1   \n",
       "\n",
       "                                          movie_name release_date     revenue  \\\n",
       "0                                     Ghosts of Mars   2001-08-24  14010832.0   \n",
       "1  Getting Away with Murder: The JonBenét Ramsey ...   2000-02-16         NaN   \n",
       "2                                        Brun bitter   1988-01-01         NaN   \n",
       "3                                   White Of The Eye   1987-01-01         NaN   \n",
       "4                                  A Woman in Flames   1983-01-01         NaN   \n",
       "\n",
       "   runtime             languages                    coutries  \\\n",
       "0     98.0    [English Language]  [United States of America]   \n",
       "1     95.0    [English Language]  [United States of America]   \n",
       "2     83.0  [Norwegian Language]                    [Norway]   \n",
       "3    110.0    [English Language]            [United Kingdom]   \n",
       "4    106.0     [German Language]                   [Germany]   \n",
       "\n",
       "                                              genres  \n",
       "0  [Thriller, Science Fiction, Horror, Adventure,...  \n",
       "1   [Mystery, Biographical film, Drama, Crime Drama]  \n",
       "2                             [Crime Fiction, Drama]  \n",
       "3  [Thriller, Erotic thriller, Psychological thri...  \n",
       "4                                            [Drama]  "
      ]
     },
     "execution_count": 94,
     "metadata": {},
     "output_type": "execute_result"
    }
   ],
   "source": [
    "df.head()"
   ]
  },
  {
   "cell_type": "code",
   "execution_count": 95,
   "id": "02b3f061",
   "metadata": {},
   "outputs": [],
   "source": [
    "# add a indicator of war movie or not\n",
    "df['is_war_film'] = df['genres'].apply(lambda x: 'War film' in x)"
   ]
  },
  {
   "cell_type": "code",
   "execution_count": 96,
   "id": "da8df6dc",
   "metadata": {},
   "outputs": [],
   "source": [
    "# select only the war movies\n",
    "df = df[df.is_war_film]"
   ]
  },
  {
   "cell_type": "code",
   "execution_count": 97,
   "id": "43bb3be4",
   "metadata": {},
   "outputs": [],
   "source": [
    "# apply sentiment analysis over the summaries\n",
    "df['sentiment'] = df['summary'].apply(lambda x: sentiment(x))"
   ]
  },
  {
   "cell_type": "code",
   "execution_count": 98,
   "id": "117f85cc",
   "metadata": {},
   "outputs": [],
   "source": [
    "# select only the sentiment score\n",
    "df['sentiment'] = df['sentiment'].apply(lambda x: x[0])"
   ]
  },
  {
   "cell_type": "code",
   "execution_count": 99,
   "id": "43b8b6c0",
   "metadata": {},
   "outputs": [],
   "source": [
    "# take data only where there is a summary\n",
    "df = df[(df['sentiment'] != 0)]"
   ]
  },
  {
   "cell_type": "code",
   "execution_count": 100,
   "id": "e68b88e0",
   "metadata": {},
   "outputs": [
    {
     "name": "stdout",
     "output_type": "stream",
     "text": [
      "average sentiment : 0.02891878364859746\n"
     ]
    }
   ],
   "source": [
    "average_sentiment = df['sentiment'].sum() / len(df)\n",
    "print(\"average sentiment :\", average_sentiment)"
   ]
  },
  {
   "cell_type": "markdown",
   "id": "b1c54a58",
   "metadata": {},
   "source": [
    "Average sentiment analysis of war movies summaries is about 0.029."
   ]
  },
  {
   "cell_type": "markdown",
   "id": "e9040217",
   "metadata": {},
   "source": [
    "#### Over all movies :"
   ]
  },
  {
   "cell_type": "code",
   "execution_count": 101,
   "id": "d4824daf",
   "metadata": {},
   "outputs": [],
   "source": [
    "# cleaning of the db\n",
    "summaries.summary = summaries.summary.fillna('')"
   ]
  },
  {
   "cell_type": "code",
   "execution_count": 102,
   "id": "e54d4896",
   "metadata": {},
   "outputs": [],
   "source": [
    "summaries.loc[summaries['wiki_id']== 29666067, 'release_date'] = datetime.datetime(2010, 12, 2)\n",
    "dates = pd.to_datetime(summaries['release_date'])\n",
    "summaries['release_date'] = dates"
   ]
  },
  {
   "cell_type": "code",
   "execution_count": 103,
   "id": "460faa63",
   "metadata": {},
   "outputs": [
    {
     "data": {
      "text/html": [
       "<div>\n",
       "<style scoped>\n",
       "    .dataframe tbody tr th:only-of-type {\n",
       "        vertical-align: middle;\n",
       "    }\n",
       "\n",
       "    .dataframe tbody tr th {\n",
       "        vertical-align: top;\n",
       "    }\n",
       "\n",
       "    .dataframe thead th {\n",
       "        text-align: right;\n",
       "    }\n",
       "</style>\n",
       "<table border=\"1\" class=\"dataframe\">\n",
       "  <thead>\n",
       "    <tr style=\"text-align: right;\">\n",
       "      <th></th>\n",
       "      <th>wiki_id</th>\n",
       "      <th>summary</th>\n",
       "      <th>freebase_id</th>\n",
       "      <th>movie_name</th>\n",
       "      <th>release_date</th>\n",
       "      <th>revenue</th>\n",
       "      <th>runtime</th>\n",
       "      <th>languages</th>\n",
       "      <th>coutries</th>\n",
       "      <th>genres</th>\n",
       "    </tr>\n",
       "  </thead>\n",
       "  <tbody>\n",
       "    <tr>\n",
       "      <th>0</th>\n",
       "      <td>975900</td>\n",
       "      <td>Set in the second half of the 22nd century, th...</td>\n",
       "      <td>/m/03vyhn</td>\n",
       "      <td>Ghosts of Mars</td>\n",
       "      <td>2001-08-24</td>\n",
       "      <td>14010832.0</td>\n",
       "      <td>98.0</td>\n",
       "      <td>[English Language]</td>\n",
       "      <td>[United States of America]</td>\n",
       "      <td>[Thriller, Science Fiction, Horror, Adventure,...</td>\n",
       "    </tr>\n",
       "    <tr>\n",
       "      <th>1</th>\n",
       "      <td>3196793</td>\n",
       "      <td></td>\n",
       "      <td>/m/08yl5d</td>\n",
       "      <td>Getting Away with Murder: The JonBenét Ramsey ...</td>\n",
       "      <td>2000-02-16</td>\n",
       "      <td>NaN</td>\n",
       "      <td>95.0</td>\n",
       "      <td>[English Language]</td>\n",
       "      <td>[United States of America]</td>\n",
       "      <td>[Mystery, Biographical film, Drama, Crime Drama]</td>\n",
       "    </tr>\n",
       "    <tr>\n",
       "      <th>2</th>\n",
       "      <td>28463795</td>\n",
       "      <td></td>\n",
       "      <td>/m/0crgdbh</td>\n",
       "      <td>Brun bitter</td>\n",
       "      <td>1988-01-01</td>\n",
       "      <td>NaN</td>\n",
       "      <td>83.0</td>\n",
       "      <td>[Norwegian Language]</td>\n",
       "      <td>[Norway]</td>\n",
       "      <td>[Crime Fiction, Drama]</td>\n",
       "    </tr>\n",
       "    <tr>\n",
       "      <th>3</th>\n",
       "      <td>9363483</td>\n",
       "      <td>A series of murders of rich young women throug...</td>\n",
       "      <td>/m/0285_cd</td>\n",
       "      <td>White Of The Eye</td>\n",
       "      <td>1987-01-01</td>\n",
       "      <td>NaN</td>\n",
       "      <td>110.0</td>\n",
       "      <td>[English Language]</td>\n",
       "      <td>[United Kingdom]</td>\n",
       "      <td>[Thriller, Erotic thriller, Psychological thri...</td>\n",
       "    </tr>\n",
       "    <tr>\n",
       "      <th>4</th>\n",
       "      <td>261236</td>\n",
       "      <td>Eva, an upper class housewife, becomes frustra...</td>\n",
       "      <td>/m/01mrr1</td>\n",
       "      <td>A Woman in Flames</td>\n",
       "      <td>1983-01-01</td>\n",
       "      <td>NaN</td>\n",
       "      <td>106.0</td>\n",
       "      <td>[German Language]</td>\n",
       "      <td>[Germany]</td>\n",
       "      <td>[Drama]</td>\n",
       "    </tr>\n",
       "  </tbody>\n",
       "</table>\n",
       "</div>"
      ],
      "text/plain": [
       "    wiki_id                                            summary freebase_id  \\\n",
       "0    975900  Set in the second half of the 22nd century, th...   /m/03vyhn   \n",
       "1   3196793                                                      /m/08yl5d   \n",
       "2  28463795                                                     /m/0crgdbh   \n",
       "3   9363483  A series of murders of rich young women throug...  /m/0285_cd   \n",
       "4    261236  Eva, an upper class housewife, becomes frustra...   /m/01mrr1   \n",
       "\n",
       "                                          movie_name release_date     revenue  \\\n",
       "0                                     Ghosts of Mars   2001-08-24  14010832.0   \n",
       "1  Getting Away with Murder: The JonBenét Ramsey ...   2000-02-16         NaN   \n",
       "2                                        Brun bitter   1988-01-01         NaN   \n",
       "3                                   White Of The Eye   1987-01-01         NaN   \n",
       "4                                  A Woman in Flames   1983-01-01         NaN   \n",
       "\n",
       "   runtime             languages                    coutries  \\\n",
       "0     98.0    [English Language]  [United States of America]   \n",
       "1     95.0    [English Language]  [United States of America]   \n",
       "2     83.0  [Norwegian Language]                    [Norway]   \n",
       "3    110.0    [English Language]            [United Kingdom]   \n",
       "4    106.0     [German Language]                   [Germany]   \n",
       "\n",
       "                                              genres  \n",
       "0  [Thriller, Science Fiction, Horror, Adventure,...  \n",
       "1   [Mystery, Biographical film, Drama, Crime Drama]  \n",
       "2                             [Crime Fiction, Drama]  \n",
       "3  [Thriller, Erotic thriller, Psychological thri...  \n",
       "4                                            [Drama]  "
      ]
     },
     "execution_count": 103,
     "metadata": {},
     "output_type": "execute_result"
    }
   ],
   "source": [
    "summaries.head()"
   ]
  },
  {
   "cell_type": "code",
   "execution_count": 104,
   "id": "ce4f1853",
   "metadata": {},
   "outputs": [],
   "source": [
    "df_sorted = summaries.sort_values(by=['release_date'])"
   ]
  },
  {
   "cell_type": "code",
   "execution_count": 105,
   "id": "f219f444",
   "metadata": {},
   "outputs": [],
   "source": [
    "df_sorted['sentiment'] = df_sorted['summary'].apply(lambda x: sentiment(x))"
   ]
  },
  {
   "cell_type": "code",
   "execution_count": 106,
   "id": "bcbd38e7",
   "metadata": {},
   "outputs": [],
   "source": [
    "df_sorted['sentiment'] = df_sorted['sentiment'].apply(lambda x: x[0])"
   ]
  },
  {
   "cell_type": "code",
   "execution_count": 107,
   "id": "84d9b365",
   "metadata": {},
   "outputs": [
    {
     "data": {
      "text/html": [
       "<div>\n",
       "<style scoped>\n",
       "    .dataframe tbody tr th:only-of-type {\n",
       "        vertical-align: middle;\n",
       "    }\n",
       "\n",
       "    .dataframe tbody tr th {\n",
       "        vertical-align: top;\n",
       "    }\n",
       "\n",
       "    .dataframe thead th {\n",
       "        text-align: right;\n",
       "    }\n",
       "</style>\n",
       "<table border=\"1\" class=\"dataframe\">\n",
       "  <thead>\n",
       "    <tr style=\"text-align: right;\">\n",
       "      <th></th>\n",
       "      <th>wiki_id</th>\n",
       "      <th>summary</th>\n",
       "      <th>freebase_id</th>\n",
       "      <th>movie_name</th>\n",
       "      <th>release_date</th>\n",
       "      <th>revenue</th>\n",
       "      <th>runtime</th>\n",
       "      <th>languages</th>\n",
       "      <th>coutries</th>\n",
       "      <th>genres</th>\n",
       "      <th>sentiment</th>\n",
       "    </tr>\n",
       "  </thead>\n",
       "  <tbody>\n",
       "    <tr>\n",
       "      <th>24279</th>\n",
       "      <td>28802682</td>\n",
       "      <td>The film describes the organization and its hi...</td>\n",
       "      <td>/m/0ddhpwm</td>\n",
       "      <td>Chicken Hawk: Men Who Love Boys</td>\n",
       "      <td>1994-07-08</td>\n",
       "      <td>NaN</td>\n",
       "      <td>55.0</td>\n",
       "      <td>[English Language]</td>\n",
       "      <td>[United States of America]</td>\n",
       "      <td>[Crime Fiction, Documentary]</td>\n",
       "      <td>0.220833</td>\n",
       "    </tr>\n",
       "    <tr>\n",
       "      <th>3219</th>\n",
       "      <td>16395026</td>\n",
       "      <td>A brash American actor, Robin Grange, goes to ...</td>\n",
       "      <td>/m/03y062v</td>\n",
       "      <td>The Leading Man</td>\n",
       "      <td>1996-01-01</td>\n",
       "      <td>18012.0</td>\n",
       "      <td>96.0</td>\n",
       "      <td>[English Language]</td>\n",
       "      <td>[United Kingdom]</td>\n",
       "      <td>[Romantic comedy, Romance Film, Comedy]</td>\n",
       "      <td>0.155019</td>\n",
       "    </tr>\n",
       "    <tr>\n",
       "      <th>24131</th>\n",
       "      <td>9362221</td>\n",
       "      <td>The Soul of Nigger Charley continues the story...</td>\n",
       "      <td>/m/0285ykn</td>\n",
       "      <td>The Soul of Nigger Charley</td>\n",
       "      <td>1973-05-16</td>\n",
       "      <td>NaN</td>\n",
       "      <td>109.0</td>\n",
       "      <td>[English Language]</td>\n",
       "      <td>[United States of America]</td>\n",
       "      <td>[Blaxploitation, Action, Drama, Western]</td>\n",
       "      <td>-0.175000</td>\n",
       "    </tr>\n",
       "    <tr>\n",
       "      <th>68364</th>\n",
       "      <td>16211880</td>\n",
       "      <td></td>\n",
       "      <td>/m/03wd1gr</td>\n",
       "      <td>Berkeley in the Sixties</td>\n",
       "      <td>1990-01-01</td>\n",
       "      <td>NaN</td>\n",
       "      <td>118.0</td>\n",
       "      <td>[English Language]</td>\n",
       "      <td>[United States of America]</td>\n",
       "      <td>[Political cinema, History, Documentary]</td>\n",
       "      <td>0.000000</td>\n",
       "    </tr>\n",
       "    <tr>\n",
       "      <th>24802</th>\n",
       "      <td>32567844</td>\n",
       "      <td>{{expand section}} In an old house next to an ...</td>\n",
       "      <td>/m/0h1g768</td>\n",
       "      <td>The Intruder</td>\n",
       "      <td>NaT</td>\n",
       "      <td>120630.0</td>\n",
       "      <td>104.0</td>\n",
       "      <td>[]</td>\n",
       "      <td>[]</td>\n",
       "      <td>[Horror]</td>\n",
       "      <td>-0.018681</td>\n",
       "    </tr>\n",
       "  </tbody>\n",
       "</table>\n",
       "</div>"
      ],
      "text/plain": [
       "        wiki_id                                            summary  \\\n",
       "24279  28802682  The film describes the organization and its hi...   \n",
       "3219   16395026  A brash American actor, Robin Grange, goes to ...   \n",
       "24131   9362221  The Soul of Nigger Charley continues the story...   \n",
       "68364  16211880                                                      \n",
       "24802  32567844  {{expand section}} In an old house next to an ...   \n",
       "\n",
       "      freebase_id                       movie_name release_date   revenue  \\\n",
       "24279  /m/0ddhpwm  Chicken Hawk: Men Who Love Boys   1994-07-08       NaN   \n",
       "3219   /m/03y062v                  The Leading Man   1996-01-01   18012.0   \n",
       "24131  /m/0285ykn       The Soul of Nigger Charley   1973-05-16       NaN   \n",
       "68364  /m/03wd1gr          Berkeley in the Sixties   1990-01-01       NaN   \n",
       "24802  /m/0h1g768                     The Intruder          NaT  120630.0   \n",
       "\n",
       "       runtime           languages                    coutries  \\\n",
       "24279     55.0  [English Language]  [United States of America]   \n",
       "3219      96.0  [English Language]            [United Kingdom]   \n",
       "24131    109.0  [English Language]  [United States of America]   \n",
       "68364    118.0  [English Language]  [United States of America]   \n",
       "24802    104.0                  []                          []   \n",
       "\n",
       "                                         genres  sentiment  \n",
       "24279              [Crime Fiction, Documentary]   0.220833  \n",
       "3219    [Romantic comedy, Romance Film, Comedy]   0.155019  \n",
       "24131  [Blaxploitation, Action, Drama, Western]  -0.175000  \n",
       "68364  [Political cinema, History, Documentary]   0.000000  \n",
       "24802                                  [Horror]  -0.018681  "
      ]
     },
     "execution_count": 107,
     "metadata": {},
     "output_type": "execute_result"
    }
   ],
   "source": [
    "df_sorted.sample(5)"
   ]
  },
  {
   "cell_type": "code",
   "execution_count": 108,
   "id": "08cce48c",
   "metadata": {},
   "outputs": [],
   "source": [
    "df_sorted = df_sorted[(df_sorted['sentiment'] != 0)]"
   ]
  },
  {
   "cell_type": "markdown",
   "id": "9f3195db",
   "metadata": {},
   "source": [
    "Now we have obtained all sentiment scores for all movies."
   ]
  },
  {
   "cell_type": "code",
   "execution_count": 109,
   "id": "a806759d",
   "metadata": {},
   "outputs": [],
   "source": [
    "def calculate_average_sentiment(df):\n",
    "    return df['sentiment'].sum() / len(df)"
   ]
  },
  {
   "cell_type": "code",
   "execution_count": 111,
   "id": "849df8f7",
   "metadata": {},
   "outputs": [
    {
     "name": "stdout",
     "output_type": "stream",
     "text": [
      "the average is : 0.04721542729080025\n"
     ]
    }
   ],
   "source": [
    "av_of_all_movies = calculate_average_sentiment(df_sorted)\n",
    "print('the average is :', av_of_all_movies)"
   ]
  },
  {
   "cell_type": "markdown",
   "id": "0a17d702",
   "metadata": {},
   "source": [
    "The average over all movies is 0.047 (this is 1.6 times more 'happy' than the war movies)"
   ]
  },
  {
   "cell_type": "markdown",
   "id": "5f132215",
   "metadata": {},
   "source": [
    "#### Let's see the average sentiment analysis over different countries and different periods."
   ]
  },
  {
   "cell_type": "code",
   "execution_count": 112,
   "id": "5e410748",
   "metadata": {},
   "outputs": [],
   "source": [
    "def get_country_movies(df, country):\n",
    "    return df[df.coutries.apply(lambda x : country in x)]"
   ]
  },
  {
   "cell_type": "code",
   "execution_count": 114,
   "id": "f0d7f6ce",
   "metadata": {},
   "outputs": [],
   "source": [
    "def create_history_span(df, begin, end):\n",
    "    return df.loc[(df.release_date.dt.year < end) & (df.release_date.dt.year > begin)]"
   ]
  },
  {
   "cell_type": "code",
   "execution_count": 116,
   "id": "e460d134",
   "metadata": {},
   "outputs": [],
   "source": [
    "def plot_sentiment_country_span(span):\n",
    "    fig, axs = plt.subplots(figsize=(25, 5))\n",
    "    sentiments = span.groupby(span.release_date.dt.year)['sentiment'].mean()\n",
    "    sentiments.plot(kind='bar', rot=90, ax=axs)"
   ]
  },
  {
   "cell_type": "markdown",
   "id": "58816727",
   "metadata": {},
   "source": [
    "For USA, between 1900 and 1990 :"
   ]
  },
  {
   "cell_type": "code",
   "execution_count": 126,
   "id": "2f9bccb8",
   "metadata": {},
   "outputs": [
    {
     "name": "stdout",
     "output_type": "stream",
     "text": [
      "average sentiment of all movies in usa : 0.04044205833529916\n"
     ]
    },
    {
     "data": {
      "image/png": "[encoded data removed]",
      "text/plain": [
       "<Figure size 1800x360 with 1 Axes>"
      ]
     },
     "metadata": {
      "needs_background": "light"
     },
     "output_type": "display_data"
    }
   ],
   "source": [
    "df_sorted_us = get_country_movies(df_sorted, 'United States of America')\n",
    "\n",
    "begin = 1900\n",
    "end = 1990\n",
    "span_us = create_history_span(df_sorted_us, begin, end)\n",
    "\n",
    "plot_sentiment_country_span(span_us)\n",
    "\n",
    "print('Average sentiment of all movies in usa :', calculate_average_sentiment(df_sorted_us))"
   ]
  },
  {
   "cell_type": "markdown",
   "id": "7a081639",
   "metadata": {},
   "source": [
    "For Germany, between 1900 and 1990 :"
   ]
  },
  {
   "cell_type": "code",
   "execution_count": 127,
   "id": "a5849a5a",
   "metadata": {},
   "outputs": [
    {
     "name": "stdout",
     "output_type": "stream",
     "text": [
      "average sentiment of all movies in germany : 0.04266313626282843\n"
     ]
    },
    {
     "data": {
      "image/png": "[encoded data removed]",
      "text/plain": [
       "<Figure size 1800x360 with 1 Axes>"
      ]
     },
     "metadata": {
      "needs_background": "light"
     },
     "output_type": "display_data"
    }
   ],
   "source": [
    "df_sorted_ge = get_country_movies(df_sorted, 'Germany')\n",
    "\n",
    "begin = 1900\n",
    "end = 1990\n",
    "span_ge = create_history_span(df_sorted_ge, begin, end)\n",
    "\n",
    "plot_sentiment_country_span(span_ge)\n",
    "\n",
    "print('Average sentiment of all movies in germany :', calculate_average_sentiment(df_sorted_ge))"
   ]
  },
  {
   "cell_type": "markdown",
   "id": "1855e864",
   "metadata": {},
   "source": [
    "For France, between 1900 and 1990 :"
   ]
  },
  {
   "cell_type": "code",
   "execution_count": 128,
   "id": "db18025d",
   "metadata": {},
   "outputs": [
    {
     "name": "stdout",
     "output_type": "stream",
     "text": [
      "average sentiment of all movies in france : 0.05001018041703206\n"
     ]
    },
    {
     "data": {
      "image/png": "[encoded data removed]",
      "text/plain": [
       "<Figure size 1800x360 with 1 Axes>"
      ]
     },
     "metadata": {
      "needs_background": "light"
     },
     "output_type": "display_data"
    }
   ],
   "source": [
    "df_sorted_fr = get_country_movies(df_sorted, 'France')\n",
    "\n",
    "begin = 1900\n",
    "end = 1990\n",
    "span_fr = create_history_span(df_sorted_fr, begin, end)\n",
    "\n",
    "plot_sentiment_country_span(span_fr)\n",
    "\n",
    "print('Average sentiment of all movies in france :', calculate_average_sentiment(df_sorted_fr))"
   ]
  },
  {
   "cell_type": "markdown",
   "id": "794b859b",
   "metadata": {},
   "source": [
    "For Italy, between 1900 and 1990 :"
   ]
  },
  {
   "cell_type": "code",
   "execution_count": 129,
   "id": "59c91df5",
   "metadata": {},
   "outputs": [
    {
     "name": "stdout",
     "output_type": "stream",
     "text": [
      "average sentiment of all movies in Italy : 0.03857576341424649\n"
     ]
    },
    {
     "data": {
      "image/png": "[encoded data removed]",
      "text/plain": [
       "<Figure size 1800x360 with 1 Axes>"
      ]
     },
     "metadata": {
      "needs_background": "light"
     },
     "output_type": "display_data"
    }
   ],
   "source": [
    "df_sorted_it = get_country_movies(df_sorted, 'Italy')\n",
    "\n",
    "begin = 1900\n",
    "end = 1990\n",
    "span_it = create_history_span(df_sorted_it, begin, end)\n",
    "\n",
    "plot_sentiment_country_span(span_it)\n",
    "\n",
    "print('Average sentiment of all movies in Italy :', calculate_average_sentiment(df_sorted_it))"
   ]
  }
 ],
 "metadata": {
  "kernelspec": {
   "display_name": "Python 3 (ipykernel)",
   "language": "python",
   "name": "python3"
  },
  "language_info": {
   "codemirror_mode": {
    "name": "ipython",
    "version": 3
   },
   "file_extension": ".py",
   "mimetype": "text/x-python",
   "name": "python",
   "nbconvert_exporter": "python",
   "pygments_lexer": "ipython3",
   "version": "3.9.10"
  }
 },
 "nbformat": 4,
 "nbformat_minor": 5
}
