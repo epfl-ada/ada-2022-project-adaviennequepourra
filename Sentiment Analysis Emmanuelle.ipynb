{
 "cells": [
  {
   "cell_type": "code",
   "execution_count": 1,
   "id": "d6e8a2dd",
   "metadata": {},
   "outputs": [],
   "source": [
    "import pandas as pd\n",
    "import numpy as np\n",
    "import matplotlib.pyplot as plt\n",
    "%matplotlib inline\n",
    "import seaborn as sns\n",
    "import math\n",
    "import datetime\n",
    "import re\n",
    "\n",
    "%load_ext autoreload\n",
    "%autoreload 2\n",
    "\n",
    "import warnings; warnings.simplefilter('ignore')\n",
    "import os, codecs, string, random\n",
    "from numpy.random import seed as random_seed\n",
    "from numpy.random import shuffle as random_shuffle\n",
    "\n",
    "seed = 42\n",
    "random.seed(seed)\n",
    "np.random.seed(seed)\n",
    "\n",
    "#NLP libraries\n",
    "import spacy, nltk, gensim, sklearn\n",
    "import pyLDAvis.gensim_models\n",
    "\n",
    "#Vader\n",
    "import vaderSentiment\n",
    "from vaderSentiment.vaderSentiment import SentimentIntensityAnalyzer"
   ]
  },
  {
   "cell_type": "code",
   "execution_count": 2,
   "id": "b6de807a",
   "metadata": {},
   "outputs": [],
   "source": [
    "data_folder = './MovieSummaries/'\n",
    "\n",
    "summaries = pd.read_csv(data_folder+'plot_summaries.txt', sep='\t', header=None, names=[\"wiki_id\", \"summary\"])\n",
    "movie_meta = pd.read_csv(data_folder+'movie.metadata.tsv', sep='\t', header=None, names=[\"wiki_id\", \"freebase_id\", \"movie_name\", \"release_date\", \"revenue\", \"runtime\", \"languages\", \"coutries\", \"genres\"])\n",
    "char_meta = pd.read_csv(data_folder+'character.metadata.tsv', sep='\t', header=None, names=[\"wiki_id\", \"freebase_id\", \"release_date\", \"character_name\", \"birth\", \"gender\", \"height\", \"ethnicity\", \"actor_name\", \"actor_age\", \"character_actor_map\", \"character_id\", \"actor_id\"])"
   ]
  },
  {
   "cell_type": "code",
   "execution_count": 3,
   "id": "3ee2b229",
   "metadata": {},
   "outputs": [],
   "source": [
    "# mergin databases\n",
    "summaries = summaries.merge(movie_meta, on=\"wiki_id\", how = 'right')\n",
    "summaries[\"languages\"] = summaries.apply(lambda x: list(eval(x[\"languages\"]).values()), axis=1)\n",
    "summaries[\"coutries\"] = summaries.apply(lambda x: list(eval(x[\"coutries\"]).values()), axis=1)\n",
    "summaries[\"genres\"] = summaries.apply(lambda x: list(eval(x[\"genres\"]).values()), axis=1)"
   ]
  },
  {
   "cell_type": "code",
   "execution_count": 4,
   "id": "c9424b03-d2db-4553-b207-145b7590a7e1",
   "metadata": {},
   "outputs": [],
   "source": [
    "# import dataset scraped from wikipedia\n",
    "\n",
    "df_wikipedia = pd.read_json('with_plot.txt', lines=True)\n",
    "df_wikipedia = df_wikipedia[['id', 'directors', 'plot']]\n",
    "df_wikipedia.rename(columns={'id':'wiki_id', 'plot':'summary'}, inplace=True)\n",
    "df_wikipedia = df_wikipedia[df_wikipedia['summary'].notna()] # only keep rows that have a plot summary"
   ]
  },
  {
   "cell_type": "code",
   "execution_count": 5,
   "id": "dd9e4e16",
   "metadata": {},
   "outputs": [
    {
     "data": {
      "text/html": [
       "<div>\n",
       "<style scoped>\n",
       "    .dataframe tbody tr th:only-of-type {\n",
       "        vertical-align: middle;\n",
       "    }\n",
       "\n",
       "    .dataframe tbody tr th {\n",
       "        vertical-align: top;\n",
       "    }\n",
       "\n",
       "    .dataframe thead th {\n",
       "        text-align: right;\n",
       "    }\n",
       "</style>\n",
       "<table border=\"1\" class=\"dataframe\">\n",
       "  <thead>\n",
       "    <tr style=\"text-align: right;\">\n",
       "      <th></th>\n",
       "      <th>wiki_id</th>\n",
       "      <th>summary</th>\n",
       "      <th>freebase_id</th>\n",
       "      <th>movie_name</th>\n",
       "      <th>release_date</th>\n",
       "      <th>revenue</th>\n",
       "      <th>runtime</th>\n",
       "      <th>languages</th>\n",
       "      <th>coutries</th>\n",
       "      <th>genres</th>\n",
       "    </tr>\n",
       "  </thead>\n",
       "  <tbody>\n",
       "    <tr>\n",
       "      <th>0</th>\n",
       "      <td>975900</td>\n",
       "      <td>Set in the second half of the 22nd century, th...</td>\n",
       "      <td>/m/03vyhn</td>\n",
       "      <td>Ghosts of Mars</td>\n",
       "      <td>2001-08-24</td>\n",
       "      <td>14010832.0</td>\n",
       "      <td>98.0</td>\n",
       "      <td>[English Language]</td>\n",
       "      <td>[United States of America]</td>\n",
       "      <td>[Thriller, Science Fiction, Horror, Adventure,...</td>\n",
       "    </tr>\n",
       "    <tr>\n",
       "      <th>1</th>\n",
       "      <td>3196793</td>\n",
       "      <td>NaN</td>\n",
       "      <td>/m/08yl5d</td>\n",
       "      <td>Getting Away with Murder: The JonBenét Ramsey ...</td>\n",
       "      <td>2000-02-16</td>\n",
       "      <td>NaN</td>\n",
       "      <td>95.0</td>\n",
       "      <td>[English Language]</td>\n",
       "      <td>[United States of America]</td>\n",
       "      <td>[Mystery, Biographical film, Drama, Crime Drama]</td>\n",
       "    </tr>\n",
       "    <tr>\n",
       "      <th>2</th>\n",
       "      <td>28463795</td>\n",
       "      <td>NaN</td>\n",
       "      <td>/m/0crgdbh</td>\n",
       "      <td>Brun bitter</td>\n",
       "      <td>1988</td>\n",
       "      <td>NaN</td>\n",
       "      <td>83.0</td>\n",
       "      <td>[Norwegian Language]</td>\n",
       "      <td>[Norway]</td>\n",
       "      <td>[Crime Fiction, Drama]</td>\n",
       "    </tr>\n",
       "    <tr>\n",
       "      <th>3</th>\n",
       "      <td>9363483</td>\n",
       "      <td>A series of murders of rich young women throug...</td>\n",
       "      <td>/m/0285_cd</td>\n",
       "      <td>White Of The Eye</td>\n",
       "      <td>1987</td>\n",
       "      <td>NaN</td>\n",
       "      <td>110.0</td>\n",
       "      <td>[English Language]</td>\n",
       "      <td>[United Kingdom]</td>\n",
       "      <td>[Thriller, Erotic thriller, Psychological thri...</td>\n",
       "    </tr>\n",
       "    <tr>\n",
       "      <th>4</th>\n",
       "      <td>261236</td>\n",
       "      <td>Eva, an upper class housewife, becomes frustra...</td>\n",
       "      <td>/m/01mrr1</td>\n",
       "      <td>A Woman in Flames</td>\n",
       "      <td>1983</td>\n",
       "      <td>NaN</td>\n",
       "      <td>106.0</td>\n",
       "      <td>[German Language]</td>\n",
       "      <td>[Germany]</td>\n",
       "      <td>[Drama]</td>\n",
       "    </tr>\n",
       "  </tbody>\n",
       "</table>\n",
       "</div>"
      ],
      "text/plain": [
       "    wiki_id                                            summary freebase_id  \\\n",
       "0    975900  Set in the second half of the 22nd century, th...   /m/03vyhn   \n",
       "1   3196793                                                NaN   /m/08yl5d   \n",
       "2  28463795                                                NaN  /m/0crgdbh   \n",
       "3   9363483  A series of murders of rich young women throug...  /m/0285_cd   \n",
       "4    261236  Eva, an upper class housewife, becomes frustra...   /m/01mrr1   \n",
       "\n",
       "                                          movie_name release_date     revenue  \\\n",
       "0                                     Ghosts of Mars   2001-08-24  14010832.0   \n",
       "1  Getting Away with Murder: The JonBenét Ramsey ...   2000-02-16         NaN   \n",
       "2                                        Brun bitter         1988         NaN   \n",
       "3                                   White Of The Eye         1987         NaN   \n",
       "4                                  A Woman in Flames         1983         NaN   \n",
       "\n",
       "   runtime             languages                    coutries  \\\n",
       "0     98.0    [English Language]  [United States of America]   \n",
       "1     95.0    [English Language]  [United States of America]   \n",
       "2     83.0  [Norwegian Language]                    [Norway]   \n",
       "3    110.0    [English Language]            [United Kingdom]   \n",
       "4    106.0     [German Language]                   [Germany]   \n",
       "\n",
       "                                              genres  \n",
       "0  [Thriller, Science Fiction, Horror, Adventure,...  \n",
       "1   [Mystery, Biographical film, Drama, Crime Drama]  \n",
       "2                             [Crime Fiction, Drama]  \n",
       "3  [Thriller, Erotic thriller, Psychological thri...  \n",
       "4                                            [Drama]  "
      ]
     },
     "execution_count": 5,
     "metadata": {},
     "output_type": "execute_result"
    }
   ],
   "source": [
    "summaries.head()"
   ]
  },
  {
   "cell_type": "code",
   "execution_count": 6,
   "id": "d8d7487e",
   "metadata": {},
   "outputs": [
    {
     "data": {
      "text/plain": [
       "81741"
      ]
     },
     "execution_count": 6,
     "metadata": {},
     "output_type": "execute_result"
    }
   ],
   "source": [
    "len(summaries)"
   ]
  },
  {
   "cell_type": "code",
   "execution_count": 7,
   "id": "c7cac817",
   "metadata": {},
   "outputs": [],
   "source": [
    "summaries.loc[summaries['wiki_id']== 29666067, 'release_date'] = datetime.datetime(2010, 12, 2)\n",
    "dates = pd.to_datetime(summaries['release_date'])\n",
    "summaries['release_date'] = dates"
   ]
  },
  {
   "cell_type": "code",
   "execution_count": 8,
   "id": "fbbad010",
   "metadata": {},
   "outputs": [],
   "source": [
    "# df is used for average sentiment analysis over movies\n",
    "df = summaries.copy()"
   ]
  },
  {
   "cell_type": "code",
   "execution_count": 9,
   "id": "c4f068da",
   "metadata": {},
   "outputs": [],
   "source": [
    "df = df.sort_values(by=['release_date'])"
   ]
  },
  {
   "cell_type": "code",
   "execution_count": 10,
   "id": "4f21c81d",
   "metadata": {},
   "outputs": [],
   "source": [
    "df = df.dropna(subset=['summary'])"
   ]
  },
  {
   "cell_type": "code",
   "execution_count": 11,
   "id": "3354afb2",
   "metadata": {},
   "outputs": [
    {
     "data": {
      "text/html": [
       "<div>\n",
       "<style scoped>\n",
       "    .dataframe tbody tr th:only-of-type {\n",
       "        vertical-align: middle;\n",
       "    }\n",
       "\n",
       "    .dataframe tbody tr th {\n",
       "        vertical-align: top;\n",
       "    }\n",
       "\n",
       "    .dataframe thead th {\n",
       "        text-align: right;\n",
       "    }\n",
       "</style>\n",
       "<table border=\"1\" class=\"dataframe\">\n",
       "  <thead>\n",
       "    <tr style=\"text-align: right;\">\n",
       "      <th></th>\n",
       "      <th>wiki_id</th>\n",
       "      <th>summary</th>\n",
       "      <th>freebase_id</th>\n",
       "      <th>movie_name</th>\n",
       "      <th>release_date</th>\n",
       "      <th>revenue</th>\n",
       "      <th>runtime</th>\n",
       "      <th>languages</th>\n",
       "      <th>coutries</th>\n",
       "      <th>genres</th>\n",
       "    </tr>\n",
       "  </thead>\n",
       "  <tbody>\n",
       "    <tr>\n",
       "      <th>25563</th>\n",
       "      <td>73372</td>\n",
       "      <td>The scene is all filmed from a stationary came...</td>\n",
       "      <td>/m/0jq3g</td>\n",
       "      <td>Blacksmith Scene</td>\n",
       "      <td>1893-01-01</td>\n",
       "      <td>NaN</td>\n",
       "      <td>0.566667</td>\n",
       "      <td>[Silent film]</td>\n",
       "      <td>[United States of America]</td>\n",
       "      <td>[Short Film, Silent film, Indie, Black-and-white]</td>\n",
       "    </tr>\n",
       "    <tr>\n",
       "      <th>67253</th>\n",
       "      <td>10109752</td>\n",
       "      <td>After finding out that her father is suffering...</td>\n",
       "      <td>/m/02q23xk</td>\n",
       "      <td>Miss Jerry</td>\n",
       "      <td>1894-10-09</td>\n",
       "      <td>NaN</td>\n",
       "      <td>NaN</td>\n",
       "      <td>[Silent film]</td>\n",
       "      <td>[United States of America]</td>\n",
       "      <td>[Short Film, Silent film, Indie, Black-and-white]</td>\n",
       "    </tr>\n",
       "    <tr>\n",
       "      <th>81230</th>\n",
       "      <td>10104497</td>\n",
       "      <td>James J. Corbett and Peter Courtney both take ...</td>\n",
       "      <td>/m/02q1zd3</td>\n",
       "      <td>Corbett and Courtney Before the Kinetograph</td>\n",
       "      <td>1894-11-17</td>\n",
       "      <td>NaN</td>\n",
       "      <td>NaN</td>\n",
       "      <td>[Silent film]</td>\n",
       "      <td>[United States of America]</td>\n",
       "      <td>[Short Film, Silent film, Indie, Black-and-white]</td>\n",
       "    </tr>\n",
       "    <tr>\n",
       "      <th>67567</th>\n",
       "      <td>10330688</td>\n",
       "      <td>The film consists of a series of animations on...</td>\n",
       "      <td>/m/02q8pr6</td>\n",
       "      <td>Autour d'une cabine</td>\n",
       "      <td>1895-01-01</td>\n",
       "      <td>NaN</td>\n",
       "      <td>15.000000</td>\n",
       "      <td>[Silent film]</td>\n",
       "      <td>[France]</td>\n",
       "      <td>[Short Film, Silent film, Animation, Comedy, I...</td>\n",
       "    </tr>\n",
       "    <tr>\n",
       "      <th>73179</th>\n",
       "      <td>10483292</td>\n",
       "      <td>Two men stand working as blacksmiths. The one ...</td>\n",
       "      <td>/m/02qfh7r</td>\n",
       "      <td>Les Forgerons</td>\n",
       "      <td>1895-01-01</td>\n",
       "      <td>NaN</td>\n",
       "      <td>0.816667</td>\n",
       "      <td>[Silent film]</td>\n",
       "      <td>[France]</td>\n",
       "      <td>[Short Film, Silent film, Indie, Black-and-whi...</td>\n",
       "    </tr>\n",
       "  </tbody>\n",
       "</table>\n",
       "</div>"
      ],
      "text/plain": [
       "        wiki_id                                            summary  \\\n",
       "25563     73372  The scene is all filmed from a stationary came...   \n",
       "67253  10109752  After finding out that her father is suffering...   \n",
       "81230  10104497  James J. Corbett and Peter Courtney both take ...   \n",
       "67567  10330688  The film consists of a series of animations on...   \n",
       "73179  10483292  Two men stand working as blacksmiths. The one ...   \n",
       "\n",
       "      freebase_id                                   movie_name release_date  \\\n",
       "25563    /m/0jq3g                             Blacksmith Scene   1893-01-01   \n",
       "67253  /m/02q23xk                                   Miss Jerry   1894-10-09   \n",
       "81230  /m/02q1zd3  Corbett and Courtney Before the Kinetograph   1894-11-17   \n",
       "67567  /m/02q8pr6                          Autour d'une cabine   1895-01-01   \n",
       "73179  /m/02qfh7r                                Les Forgerons   1895-01-01   \n",
       "\n",
       "       revenue    runtime      languages                    coutries  \\\n",
       "25563      NaN   0.566667  [Silent film]  [United States of America]   \n",
       "67253      NaN        NaN  [Silent film]  [United States of America]   \n",
       "81230      NaN        NaN  [Silent film]  [United States of America]   \n",
       "67567      NaN  15.000000  [Silent film]                    [France]   \n",
       "73179      NaN   0.816667  [Silent film]                    [France]   \n",
       "\n",
       "                                                  genres  \n",
       "25563  [Short Film, Silent film, Indie, Black-and-white]  \n",
       "67253  [Short Film, Silent film, Indie, Black-and-white]  \n",
       "81230  [Short Film, Silent film, Indie, Black-and-white]  \n",
       "67567  [Short Film, Silent film, Animation, Comedy, I...  \n",
       "73179  [Short Film, Silent film, Indie, Black-and-whi...  "
      ]
     },
     "execution_count": 11,
     "metadata": {},
     "output_type": "execute_result"
    }
   ],
   "source": [
    "df.head()"
   ]
  },
  {
   "cell_type": "code",
   "execution_count": 12,
   "id": "d4537ecc",
   "metadata": {},
   "outputs": [
    {
     "data": {
      "text/plain": [
       "42204"
      ]
     },
     "execution_count": 12,
     "metadata": {},
     "output_type": "execute_result"
    }
   ],
   "source": [
    "len(df)"
   ]
  },
  {
   "cell_type": "markdown",
   "id": "02597004",
   "metadata": {},
   "source": [
    "Here we have that df contains all the movies with their informations, ordered by release date with a existing summary. We will use this to derive all our other dataframes (per countries, per date). We have 42204 movies compared to 81741 before."
   ]
  },
  {
   "cell_type": "markdown",
   "id": "6be0a1a2-da30-4b7e-8d04-7edfc0720b97",
   "metadata": {},
   "source": [
    "## Creation of a dataset with plot summmaries "
   ]
  },
  {
   "cell_type": "code",
   "execution_count": 13,
   "id": "87a05d4b-e46e-4f33-8f3a-9fbf9d5ba809",
   "metadata": {},
   "outputs": [],
   "source": [
    "df_additional = summaries.copy()\n",
    "df_additional = df_additional[df_additional['release_date'].notna()]  "
   ]
  },
  {
   "cell_type": "code",
   "execution_count": 14,
   "id": "30bdccad-9d91-4be1-902a-e04017f8bfbd",
   "metadata": {},
   "outputs": [],
   "source": [
    "# Method for a first cleanup of the data ; this will need more work in the future\n",
    "\n",
    "def remove_html(line):\n",
    "    CLEANR = re.compile('<!--.*--') \n",
    "    CLEANR2 = re.compile('<ref.*</ref')  \n",
    "    CLEANR3 = re.compile('<Ref.*</ref')\n",
    "    CLEANR4 = re.compile('<ref.*/>')\n",
    "    x = re.sub(CLEANR, '', line)\n",
    "    x = re.sub(CLEANR3, '', x)\n",
    "    x = re.sub(CLEANR2, '', x)\n",
    "    x = re.sub(CLEANR4, '', x)\n",
    "    x = x.replace('\\n', '') # remove newlines\n",
    "    x = x.replace('([[', '') \n",
    "    x = x.replace(']])', '') \n",
    "    x = x.replace('[[', '') \n",
    "    x = x.replace(']]', '')\n",
    "    x = x.replace('|', ' | ')\n",
    "    x = x.replace('**', '\"') \n",
    "    x = x.replace('*', \"'\") \n",
    "    if(len(line) < 50):\n",
    "        x = \"\"      \n",
    "    return x\n",
    "\n",
    "# remove html references in plot summaries\n",
    "df_wikipedia['summary'] = df_wikipedia['summary'].apply(lambda x : remove_html(x))\n",
    "\n"
   ]
  },
  {
   "cell_type": "code",
   "execution_count": null,
   "id": "a9d89285-b430-4a1c-9763-1763d37437ed",
   "metadata": {},
   "outputs": [],
   "source": [
    "rows = df_wikipedia.sample(10)\n",
    "for index, row in rows.iterrows():\n",
    "    print(row['summary'])\n",
    "    print(\"===================\")"
   ]
  },
  {
   "cell_type": "code",
   "execution_count": 16,
   "id": "56e55968-2098-4430-9d89-b941f4b8c0e2",
   "metadata": {},
   "outputs": [],
   "source": [
    "# Method that takes the wikipedia summary if the CMU database doesn't provide one\n",
    "\n",
    "def pick_better_plot(x):\n",
    "    if x.summary_x == '':\n",
    "        if x['summary_y'] == '':\n",
    "            return np.nan\n",
    "        else:\n",
    "            return x['summary_y']\n",
    "    else:\n",
    "        return x['summary_x']\n",
    "\n",
    "# since we base our analysis on release dates, we remove films with no release date\n",
    "df_additional = df_additional[df_additional['release_date'].notna()]  \n",
    "    \n",
    "summary_df = pd.merge(df_additional,df_wikipedia,on='wiki_id',how='left')\n",
    "summary_df['summary_x'] = summary_df['summary_x'].fillna('')\n",
    "summary_df['summary_y'] = summary_df['summary_y'].fillna('')\n",
    "\n",
    "\n",
    "# create new column with the wikipedia summary if CMU doesn't provide one\n",
    "summary_df['summary'] = summary_df.apply(lambda x : pick_better_plot(x),axis=1)\n",
    "\n",
    "# keep only rows that have a summary\n",
    "summary_df = summary_df[summary_df['summary'].notna()]\n",
    "summary_df = summary_df.drop(columns=['summary_x', 'summary_y'])"
   ]
  },
  {
   "cell_type": "code",
   "execution_count": 17,
   "id": "6d41b431",
   "metadata": {},
   "outputs": [],
   "source": [
    "analyzer = SentimentIntensityAnalyzer()"
   ]
  },
  {
   "cell_type": "code",
   "execution_count": 18,
   "id": "7a62d1e7",
   "metadata": {},
   "outputs": [],
   "source": [
    "def get_country_movies(df, country):\n",
    "    return df[df.coutries.apply(lambda x : country in x)]"
   ]
  },
  {
   "cell_type": "code",
   "execution_count": 19,
   "id": "9bfe1c4e",
   "metadata": {},
   "outputs": [],
   "source": [
    "def create_history_span(df, begin, end):\n",
    "    return df.loc[(df.release_date.dt.year < end) & (df.release_date.dt.year > begin)]"
   ]
  },
  {
   "cell_type": "code",
   "execution_count": 68,
   "id": "b71040ff-0f30-46d0-b93b-03467d1dced3",
   "metadata": {},
   "outputs": [],
   "source": [
    "def get_one_year(df, year):\n",
    "    return df.loc[(df.release_date.dt.year == year)]"
   ]
  },
  {
   "cell_type": "code",
   "execution_count": 20,
   "id": "aedd8500",
   "metadata": {},
   "outputs": [],
   "source": [
    "def plot_sentiment_country_span(span, attribute, year:bool):\n",
    "    fig, axs = plt.subplots(figsize=(25, 5))\n",
    "    if year:\n",
    "        sentiments = span.groupby(span.release_date.dt.year)[attribute].mean()\n",
    "    else:\n",
    "        sentiments = span.groupby(span.release_date)[attribute].mean()\n",
    "    sentiments.plot(kind='bar', rot=90, ax=axs)"
   ]
  },
  {
   "cell_type": "code",
   "execution_count": 21,
   "id": "77c733d5",
   "metadata": {},
   "outputs": [],
   "source": [
    "def sentiment_df(df):\n",
    "    \n",
    "    df_copy = df.copy()\n",
    "    \n",
    "    # calculate the sentiment over the summaries\n",
    "    df_copy['sentiment'] = df_copy['summary'].apply(lambda x: analyzer.polarity_scores(x))\n",
    "\n",
    "    # isolate the most interesting values\n",
    "    df_copy['positive'] = df_copy['sentiment'].apply(lambda x: x['pos'])\n",
    "    df_copy['neutral'] = df_copy['sentiment'].apply(lambda x: x['neu'])\n",
    "    df_copy['negative'] = df_copy['sentiment'].apply(lambda x: x['neg'])\n",
    "    df_copy['compound'] = df_copy['sentiment'].apply(lambda x: x['compound'])\n",
    "    \n",
    "    return df_copy"
   ]
  },
  {
   "cell_type": "code",
   "execution_count": 22,
   "id": "a91dec2f-261f-49c4-bd5c-3f4ea4c9eef4",
   "metadata": {},
   "outputs": [],
   "source": [
    "# the texts are in english\n",
    "nlp = spacy.load('en_core_web_sm')\n",
    "spacy_stopwords = spacy.lang.en.stop_words.STOP_WORDS"
   ]
  },
  {
   "cell_type": "markdown",
   "id": "5b6cac28",
   "metadata": {},
   "source": [
    "Firstly we'll just look at movies made around the WW2, that is from 1930 to 1955."
   ]
  },
  {
   "cell_type": "code",
   "execution_count": 23,
   "id": "01265da0",
   "metadata": {},
   "outputs": [],
   "source": [
    "begin = 1930\n",
    "end = 1955"
   ]
  },
  {
   "cell_type": "code",
   "execution_count": 24,
   "id": "885ef01d",
   "metadata": {},
   "outputs": [
    {
     "name": "stdout",
     "output_type": "stream",
     "text": [
      "There is 8237 movies made worldwide bewteen 1930 and 1955\n"
     ]
    }
   ],
   "source": [
    "df_ww2 = create_history_span(summary_df, begin, end)\n",
    "print(\"There is\", len(df_ww2), \"movies made worldwide bewteen\", begin, \"and\", end)"
   ]
  },
  {
   "cell_type": "markdown",
   "id": "394c7cfa",
   "metadata": {},
   "source": [
    "We will first run a sentiment analysis over all **german** movie during this period **(1930 to 1955)**."
   ]
  },
  {
   "cell_type": "code",
   "execution_count": 25,
   "id": "ae1f1e7a",
   "metadata": {},
   "outputs": [],
   "source": [
    "# get all the german movies\n",
    "df_ww2_germany = get_country_movies(df_ww2, 'Germany')\n",
    "\n",
    "# calculate sentiment and add it nicely to the df\n",
    "df_ww2_germany = sentiment_df(df_ww2_germany)"
   ]
  },
  {
   "cell_type": "code",
   "execution_count": 26,
   "id": "9bb0774f",
   "metadata": {},
   "outputs": [
    {
     "name": "stdout",
     "output_type": "stream",
     "text": [
      "There is 110 movies made in Germany bewteen 1930 and 1955\n"
     ]
    }
   ],
   "source": [
    "print(\"There is\", len(df_ww2_germany), \"movies made in Germany bewteen\", begin, \"and\", end)"
   ]
  },
  {
   "cell_type": "code",
   "execution_count": 111,
   "id": "596a1878-d02a-4fe0-bb7e-0be4f4c8b0b0",
   "metadata": {},
   "outputs": [],
   "source": [
    "from collections import Counter\n",
    "from empath import Empath\n",
    "\n",
    "\n",
    "# get most common words across all summaries by summing up the summaries\n",
    "def most_common_in_text(text):\n",
    "    summary = nlp(text)\n",
    "    tokens = [token.lemma_ for token in summary if token.is_stop != True and token.is_punct != True]\n",
    "    tokens_lower = [x.lower() for x in tokens]\n",
    "    return Counter(tokens_lower)\n",
    "\n",
    "# from tutorial 10\n",
    "def get_chunks(l, n):\n",
    "    \"\"\"Yield successive n-sized chunks from l.\"\"\"\n",
    "    for i in range(0, len(l), n):\n",
    "        yield l[i:i + n]\n",
    "    \n",
    "\n",
    "def most_common_sum(df, n):\n",
    "    text = ' '.join(df[\"summary\"])\n",
    "    if(len(text) < 1000000):\n",
    "        return most_common_in_text(text).most_common(n)\n",
    "    else:\n",
    "        chunks = [x for x in get_chunks(text,1000000)]\n",
    "        master_list = []\n",
    "        for chunk in chunks:\n",
    "            counter = most_common_in_text(chunk).items()\n",
    "            [master_list.append(x) for x in counter]\n",
    "        d = {x: 0 for x, _ in master_list}\n",
    "        for word, num in master_list:\n",
    "            d[word] += num\n",
    "        out = list(map(tuple, d.items()))\n",
    "        sorted_list = sorted(out,key=lambda t: t[1],reverse=True)\n",
    "        return sorted_list[0:n]\n",
    "    \n",
    "    \n",
    "def topic_analysis(df, cats):\n",
    "    text = ' '.join(df[\"summary\"])\n",
    "    lexicon = Empath()\n",
    "    if(len(text) < 1000000):\n",
    "        doc = nlp(text)\n",
    "        return lexicon.analyze(doc.text,categories = cats, normalize=True)\n",
    "    else:\n",
    "        chunks = [x for x in get_chunks(text,1000000)]\n",
    "        categories_sum =  dict(zip(cats, [0] * len(cats)))\n",
    "        for chunk in chunks:\n",
    "            doc = nlp(chunk)\n",
    "            topics = lexicon.analyze(doc.text,categories = cats, normalize=True)\n",
    "            for key, value in topics.items():\n",
    "                categories_sum[key] += value\n",
    "                \n",
    "        for key, value in categories_sum.items():\n",
    "            categories_sum[key] /= len(chunks)\n",
    "        return categories_sum\n",
    "    \n",
    "def topic_analysis_by_year(df, begin, end, cats):\n",
    "    categories_all =  dict(zip(cats, [ [] for _ in range(len(cats)) ]))\n",
    "    for year in range(begin, end):\n",
    "        df_year = get_one_year(df, year)\n",
    "        categories_year = topic_analysis(df_year, cats)\n",
    "        if categories_year is not None :\n",
    "            for key, value in categories_year.items():\n",
    "                old = categories_all[key]\n",
    "                old.append(value)\n",
    "                categories_all[key] = old\n",
    "        else:\n",
    "            for key, value in categories_all.items():\n",
    "                old = categories_all[key]\n",
    "                old.append(0)\n",
    "                categories_all[key] = old\n",
    "    return categories_all\n",
    "\n",
    "def plot_topic_analysis_by_year(df, begin, end, cats):\n",
    "    values = topic_analysis_by_year(df, begin, end, cats)\n",
    "    x_axis = range(begin, end)\n",
    "    for cat in cats:\n",
    "        plt.plot(x_axis, values[cat], label = cat)\n",
    "\n",
    "    plt.xlabel(\"year\")\n",
    "    plt.ylabel(\"frequency of a category\")\n",
    "    plt.legend()\n",
    "        "
   ]
  },
  {
   "cell_type": "code",
   "execution_count": 70,
   "id": "17c98488-216a-4e78-abe4-f3c6326f98a8",
   "metadata": {},
   "outputs": [
    {
     "name": "stdout",
     "output_type": "stream",
     "text": [
      "[('film', 73), ('german', 62), ('find', 53), ('war', 50), ('man', 49), ('love', 49), (' ', 46), ('von', 46), ('leave', 45), ('young', 41), ('take', 40), ('father', 40), ('fall', 37), ('return', 37), ('meet', 35), ('woman', 33), ('|', 32), ('order', 31), ('british', 31), ('girl', 31), ('tell', 31), ('manuela', 31), ('world', 30), ('escape', 29), ('nazi', 29), ('die', 29), ('day', 29), ('play', 28), ('work', 28), ('hitler', 27), ('end', 27), ('son', 27), ('plan', 27), ('try', 26), ('baron', 26), ('wife', 25), ('follow', 25), ('give', 25), ('old', 25), ('family', 25)]\n"
     ]
    }
   ],
   "source": [
    "print(most_common_sum(df_ww2_germany, 40))"
   ]
  },
  {
   "cell_type": "code",
   "execution_count": 74,
   "id": "9cf901e4",
   "metadata": {},
   "outputs": [
    {
     "data": {
      "image/png": "[encoded data removed]",
      "text/plain": [
       "<Figure size 1800x360 with 1 Axes>"
      ]
     },
     "metadata": {
      "needs_background": "light"
     },
     "output_type": "display_data"
    }
   ],
   "source": [
    "plot_sentiment_country_span(df_ww2_germany, 'compound', year=True)"
   ]
  },
  {
   "cell_type": "code",
   "execution_count": 113,
   "id": "5b74948c-3a7e-49dc-b94f-d85ad1c3de4c",
   "metadata": {},
   "outputs": [
    {
     "data": {
      "image/png": "[encoded data removed]",
      "text/plain": [
       "<Figure size 432x288 with 1 Axes>"
      ]
     },
     "metadata": {
      "needs_background": "light"
     },
     "output_type": "display_data"
    }
   ],
   "source": [
    "categories = [\"joy\", \"love\", \"war\"]\n",
    "plot_topic_analysis_by_year(df_ww2_germany, begin+1, end, categories)\n"
   ]
  },
  {
   "cell_type": "markdown",
   "id": "74435a4f",
   "metadata": {},
   "source": [
    "Seeing the compound value of all the movies at this period we can clearly see that the post war (1946-1951) overall sentiment is negative.\n",
    "\n",
    "---"
   ]
  },
  {
   "cell_type": "markdown",
   "id": "0f59f6bf",
   "metadata": {},
   "source": [
    "We then run a sentiment analysis over all **french** movie during this period **(1930 to 1955)**."
   ]
  },
  {
   "cell_type": "code",
   "execution_count": 50,
   "id": "6deb4681",
   "metadata": {},
   "outputs": [],
   "source": [
    "# get all the french movies\n",
    "df_ww2_french = get_country_movies(df_ww2, 'France')\n",
    "\n",
    "# calculate sentiment and add it nicely to the df\n",
    "df_ww2_french = sentiment_df(df_ww2_french)"
   ]
  },
  {
   "cell_type": "code",
   "execution_count": 51,
   "id": "e027b7de",
   "metadata": {},
   "outputs": [
    {
     "name": "stdout",
     "output_type": "stream",
     "text": [
      "There is 193 movies made in France bewteen 1930 and 1955\n"
     ]
    }
   ],
   "source": [
    "print(\"There is\", len(df_ww2_french), \"movies made in France bewteen\", begin, \"and\", end)"
   ]
  },
  {
   "cell_type": "code",
   "execution_count": 52,
   "id": "cd36dde9-acd0-4c70-b90e-e405867493f9",
   "metadata": {
    "tags": []
   },
   "outputs": [
    {
     "name": "stdout",
     "output_type": "stream",
     "text": [
      "[('find', 138), (' ', 130), ('love', 125), ('man', 109), ('leave', 96), ('tell', 91), ('take', 91), ('young', 82), ('return', 82), ('woman', 81), ('film', 81), ('life', 69), ('go', 69), ('try', 68), ('|', 67), ('away', 63), ('wife', 62), ('father', 62), ('war', 60), ('paris', 58), ('end', 57), ('night', 56), ('come', 56), ('kill', 55), ('town', 55), ('day', 55), ('friend', 55), ('old', 53), ('french', 53), ('robert', 53), ('fall', 50), ('de', 50), ('police', 49), ('see', 47), ('run', 46), ('time', 45), ('work', 45), ('decide', 45), ('jean', 44), ('arrive', 44)]\n"
     ]
    }
   ],
   "source": [
    "print(most_common_sum(df_ww2_french, 40))"
   ]
  },
  {
   "cell_type": "code",
   "execution_count": 53,
   "id": "20eb0f7d",
   "metadata": {},
   "outputs": [
    {
     "data": {
      "image/png": "[encoded data removed]",
      "text/plain": [
       "<Figure size 1800x360 with 1 Axes>"
      ]
     },
     "metadata": {
      "needs_background": "light"
     },
     "output_type": "display_data"
    }
   ],
   "source": [
    "plot_sentiment_country_span(df_ww2_french, 'compound', year=True)"
   ]
  },
  {
   "cell_type": "code",
   "execution_count": 114,
   "id": "64988845-a6ed-4f52-a823-814fedfdfdb4",
   "metadata": {},
   "outputs": [
    {
     "data": {
      "image/png": "[encoded data removed]",
      "text/plain": [
       "<Figure size 432x288 with 1 Axes>"
      ]
     },
     "metadata": {
      "needs_background": "light"
     },
     "output_type": "display_data"
    }
   ],
   "source": [
    "plot_topic_analysis_by_year(df_ww2_french, begin+1, end, categories)"
   ]
  },
  {
   "cell_type": "markdown",
   "id": "bae4db22",
   "metadata": {},
   "source": [
    "We can't see any form of pattern here ?... Except the 1945 year that is very positive (victory for France)\n",
    "\n",
    "---"
   ]
  },
  {
   "cell_type": "markdown",
   "id": "54a03c03",
   "metadata": {},
   "source": [
    "We then run a sentiment analysis over all **italy** movie during this period **(1930 to 1955)**."
   ]
  },
  {
   "cell_type": "code",
   "execution_count": 115,
   "id": "ab8ac182",
   "metadata": {},
   "outputs": [],
   "source": [
    "# get all the french movies\n",
    "df_ww2_italy = get_country_movies(df_ww2, 'Italy')\n",
    "\n",
    "# calculate sentiment and add it nicely to the df\n",
    "df_ww2_italy = sentiment_df(df_ww2_italy)"
   ]
  },
  {
   "cell_type": "code",
   "execution_count": null,
   "id": "7e08ab4e",
   "metadata": {},
   "outputs": [],
   "source": [
    "print(\"There is\", len(df_ww2_italy), \"movies made in Italy bewteen\", begin, \"and\", end)"
   ]
  },
  {
   "cell_type": "code",
   "execution_count": null,
   "id": "77e5e9ca-e14c-407c-8952-797dd716bffd",
   "metadata": {},
   "outputs": [],
   "source": [
    "print(most_common_sum(df_ww2_italy, 40))"
   ]
  },
  {
   "cell_type": "code",
   "execution_count": null,
   "id": "f3536bfd",
   "metadata": {},
   "outputs": [],
   "source": [
    "plot_sentiment_country_span(df_ww2_italy, 'compound', year=True)"
   ]
  },
  {
   "cell_type": "code",
   "execution_count": 117,
   "id": "78877c3d-5989-4fea-a788-e2589aec02e7",
   "metadata": {},
   "outputs": [
    {
     "data": {
      "image/png": "[encoded data removed]",
      "text/plain": [
       "<Figure size 432x288 with 1 Axes>"
      ]
     },
     "metadata": {
      "needs_background": "light"
     },
     "output_type": "display_data"
    }
   ],
   "source": [
    "plot_topic_analysis_by_year(df_ww2_italy, begin+1, end, categories)"
   ]
  },
  {
   "cell_type": "markdown",
   "id": "ca88e742",
   "metadata": {},
   "source": [
    "Seeing the compound value of all the movies at this period we can clearly see that the post war (1945-1949) overall sentiment is negative.\n",
    "\n",
    "---"
   ]
  },
  {
   "cell_type": "markdown",
   "id": "0f10da06",
   "metadata": {},
   "source": [
    "We then run a sentiment analysis over all **united kingdom** movie during this period **(1930 to 1955)**."
   ]
  },
  {
   "cell_type": "code",
   "execution_count": 55,
   "id": "9fca0a4b",
   "metadata": {},
   "outputs": [],
   "source": [
    "# get all the UK movies\n",
    "df_ww2_UK = get_country_movies(df_ww2, 'United Kingdom')\n",
    "\n",
    "# calculate sentiment and add it nicely to the df\n",
    "df_ww2_UK = sentiment_df(df_ww2_UK)"
   ]
  },
  {
   "cell_type": "code",
   "execution_count": 56,
   "id": "a12a9c79-673d-4240-90a7-73cdd085c514",
   "metadata": {},
   "outputs": [
    {
     "data": {
      "text/plain": [
       "{'disappointment': 0.0005275869028407385,\n",
       " 'pain': 0.0019374588014384807,\n",
       " 'joy': 0.00037628650088340255,\n",
       " 'beauty': 0.0006651848221083407,\n",
       " 'affection': 0.0021843828545154726,\n",
       " 'war': 0.0037315031261970287}"
      ]
     },
     "execution_count": 56,
     "metadata": {},
     "output_type": "execute_result"
    }
   ],
   "source": [
    "topic_analysis(df_ww2_UK, categories)"
   ]
  },
  {
   "cell_type": "code",
   "execution_count": null,
   "id": "96c455dd",
   "metadata": {},
   "outputs": [],
   "source": [
    "print(\"There is\", len(df_ww2_UK), \"movies made in UK bewteen\", begin, \"and\", end)"
   ]
  },
  {
   "cell_type": "code",
   "execution_count": 302,
   "id": "a72c74f4-5e91-4f5f-9477-095a0ee09901",
   "metadata": {},
   "outputs": [
    {
     "name": "stdout",
     "output_type": "stream",
     "text": [
      "('inspector', 57)\n",
      "[(' ', 893), ('find', 627), ('man', 546), ('leave', 471), ('take', 447), ('love', 416), ('tell', 415), ('return', 370), ('try', 356), ('go', 347), ('film', 340), ('work', 325), ('young', 309), ('wife', 305), ('war', 295), ('come', 294), ('fall', 292), ('london', 289), ('police', 279), ('home', 274), ('woman', 270), ('marry', 270), ('british', 269), ('father', 264), ('arrive', 262), ('time', 262), ('kill', 259), ('meet', 259), ('life', 250), ('new', 248), ('train', 245), ('friend', 242), ('run', 238), ('house', 237), ('help', 237), ('murder', 232), ('day', 231), ('away', 230), ('discover', 229), ('year', 227)]\n"
     ]
    }
   ],
   "source": [
    "print(most_common_sum(df_ww2_UK, 40))"
   ]
  },
  {
   "cell_type": "code",
   "execution_count": 122,
   "id": "4ab9302d",
   "metadata": {},
   "outputs": [
    {
     "data": {
      "image/png": "[encoded data removed]",
      "text/plain": [
       "<Figure size 1800x360 with 1 Axes>"
      ]
     },
     "metadata": {
      "needs_background": "light"
     },
     "output_type": "display_data"
    }
   ],
   "source": [
    "plot_sentiment_country_span(df_ww2_UK, 'compound', year=True)"
   ]
  },
  {
   "cell_type": "code",
   "execution_count": null,
   "id": "b8b0f7ac-fca0-4c62-b135-33af1e6b1739",
   "metadata": {},
   "outputs": [],
   "source": [
    "plot_topic_analysis_by_year(df, 1920, 2010, categories)"
   ]
  },
  {
   "cell_type": "markdown",
   "id": "f89e3e19",
   "metadata": {},
   "source": [
    "Seeing the compound value of all the movies at this period we can see that the war (1939-1945) overall sentiment is negative, execpt the last year (vicory for UK) where it is positive. \n",
    "Also the post war period is tainted with negativity  (1946 - 1951)\n",
    "\n",
    "---"
   ]
  },
  {
   "cell_type": "markdown",
   "id": "e4fea1c1",
   "metadata": {},
   "source": [
    "We then run a sentiment analysis over all **soviet union** movie during this period **(1930 to 1955)**."
   ]
  },
  {
   "cell_type": "code",
   "execution_count": 304,
   "id": "2b8ae8cb",
   "metadata": {},
   "outputs": [],
   "source": [
    "# get all the Russian movies\n",
    "df_ww2_SovietUnion = get_country_movies(df_ww2, 'Soviet Union')\n",
    "\n",
    "# calculate sentiment and add it nicely to the df\n",
    "df_ww2_SovietUnion = sentiment_df(df_ww2_SovietUnion)"
   ]
  },
  {
   "cell_type": "code",
   "execution_count": 305,
   "id": "249442cd",
   "metadata": {},
   "outputs": [
    {
     "name": "stdout",
     "output_type": "stream",
     "text": [
      "There is 54 movies made in Soviet Union bewteen 1930 and 1955\n"
     ]
    }
   ],
   "source": [
    "print(\"There is\", len(df_ww2_SovietUnion), \"movies made in Soviet Union bewteen\", begin, \"and\", end)"
   ]
  },
  {
   "cell_type": "code",
   "execution_count": 306,
   "id": "9b586862",
   "metadata": {},
   "outputs": [
    {
     "data": {
      "image/png": "[encoded data removed]",
      "text/plain": [
       "<Figure size 1800x360 with 1 Axes>"
      ]
     },
     "metadata": {
      "needs_background": "light"
     },
     "output_type": "display_data"
    }
   ],
   "source": [
    "plot_sentiment_country_span(df_ww2_SovietUnion, 'compound', year=True)"
   ]
  },
  {
   "cell_type": "markdown",
   "id": "12e074ab",
   "metadata": {},
   "source": [
    "We then run a sentiment analysis over all **USA** movie during this period **(1930 to 1955)**."
   ]
  },
  {
   "cell_type": "code",
   "execution_count": 307,
   "id": "f99004dc",
   "metadata": {},
   "outputs": [],
   "source": [
    "# get all the USA movies\n",
    "df_ww2_USA = get_country_movies(df_ww2, 'United States of America')\n",
    "\n",
    "# calculate sentiment and add it nicely to the df\n",
    "df_ww2_USA = sentiment_df(df_ww2_USA)"
   ]
  },
  {
   "cell_type": "code",
   "execution_count": 308,
   "id": "b32323dd",
   "metadata": {},
   "outputs": [
    {
     "name": "stdout",
     "output_type": "stream",
     "text": [
      "There is 5591 movies made in USA bewteen 1930 and 1955\n"
     ]
    }
   ],
   "source": [
    "print(\"There is\", len(df_ww2_USA), \"movies made in USA bewteen\", begin, \"and\", end)"
   ]
  },
  {
   "cell_type": "code",
   "execution_count": 309,
   "id": "5cec90c2-84d1-4e7a-a1f9-19e972dc82b1",
   "metadata": {},
   "outputs": [
    {
     "name": "stdout",
     "output_type": "stream",
     "text": [
      "[(' ', 7473), ('find', 4117), ('man', 4009), ('tell', 3594), ('leave', 3433), ('try', 3053), ('take', 2761), ('go', 2658), ('love', 2585), ('new', 2557), ('return', 2544), ('kill', 2402), ('come', 2208), ('tom', 2064), ('|', 1981), ('father', 1950), ('time', 1945), ('work', 1890), ('home', 1879), ('friend', 1860), ('marry', 1825), ('get', 1818), ('run', 1807), ('fall', 1805), ('meet', 1779), ('see', 1771), ('help', 1767), ('away', 1687), ('decide', 1670), ('money', 1659), ('arrive', 1647), ('end', 1639), ('give', 1623), ('turn', 1615), ('woman', 1600), ('day', 1588), ('life', 1586), ('later', 1559), ('want', 1556), ('police', 1553)]\n"
     ]
    }
   ],
   "source": [
    "print(most_common_sum(df_ww2_USA, 40))"
   ]
  },
  {
   "cell_type": "code",
   "execution_count": 128,
   "id": "e6d77640",
   "metadata": {},
   "outputs": [
    {
     "data": {
      "image/png": "[encoded data removed]",
      "text/plain": [
       "<Figure size 1800x360 with 1 Axes>"
      ]
     },
     "metadata": {
      "needs_background": "light"
     },
     "output_type": "display_data"
    }
   ],
   "source": [
    "plot_sentiment_country_span(df_ww2_USA, 'compound', year=True)"
   ]
  },
  {
   "cell_type": "markdown",
   "id": "671ba4fa",
   "metadata": {},
   "source": [
    "Seeing the compound value of all the movies at this period we can see that the war and prewar (1941-1951) overall sentiment is very negative. There is a clear mark between before the involvement of USA in the war and after.\n",
    "\n",
    "---"
   ]
  },
  {
   "cell_type": "markdown",
   "id": "1b34a28b",
   "metadata": {},
   "source": [
    "We then run a sentiment analysis over all **Japan** movie during this period **(1930 to 1955)**."
   ]
  },
  {
   "cell_type": "code",
   "execution_count": 310,
   "id": "7ab471b8",
   "metadata": {},
   "outputs": [],
   "source": [
    "# get all the Japan movies\n",
    "df_ww2_japan = get_country_movies(df_ww2, 'Japan')\n",
    "\n",
    "# calculate sentiment and add it nicely to the df\n",
    "df_ww2_japan = sentiment_df(df_ww2_japan)"
   ]
  },
  {
   "cell_type": "code",
   "execution_count": 311,
   "id": "7ded97af",
   "metadata": {},
   "outputs": [
    {
     "name": "stdout",
     "output_type": "stream",
     "text": [
      "There is 74 movies made in Japan bewteen 1930 and 1955\n"
     ]
    }
   ],
   "source": [
    "print(\"There is\", len(df_ww2_japan), \"movies made in Japan bewteen\", begin, \"and\", end)"
   ]
  },
  {
   "cell_type": "code",
   "execution_count": 312,
   "id": "64621547",
   "metadata": {},
   "outputs": [
    {
     "data": {
      "image/png": "[encoded data removed]",
      "text/plain": [
       "<Figure size 1800x360 with 1 Axes>"
      ]
     },
     "metadata": {
      "needs_background": "light"
     },
     "output_type": "display_data"
    }
   ],
   "source": [
    "plot_sentiment_country_span(df_ww2_japan, 'compound', year=True)"
   ]
  },
  {
   "cell_type": "markdown",
   "id": "75e6b01f",
   "metadata": {},
   "source": [
    "Pre war (before 1939)  is pretty positive. The rest of the period is moslty negative."
   ]
  },
  {
   "cell_type": "code",
   "execution_count": null,
   "id": "83c54257",
   "metadata": {},
   "outputs": [],
   "source": []
  }
 ],
 "metadata": {
  "kernelspec": {
   "display_name": "Python 3 (ipykernel)",
   "language": "python",
   "name": "python3"
  },
  "language_info": {
   "codemirror_mode": {
    "name": "ipython",
    "version": 3
   },
   "file_extension": ".py",
   "mimetype": "text/x-python",
   "name": "python",
   "nbconvert_exporter": "python",
   "pygments_lexer": "ipython3",
   "version": "3.9.12"
  }
 },
 "nbformat": 4,
 "nbformat_minor": 5
}
