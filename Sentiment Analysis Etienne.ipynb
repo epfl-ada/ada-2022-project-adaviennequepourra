{
 "cells": [
  {
   "cell_type": "code",
   "execution_count": 46,
   "id": "d6e8a2dd",
   "metadata": {},
   "outputs": [
    {
     "name": "stdout",
     "output_type": "stream",
     "text": [
      "The autoreload extension is already loaded. To reload it, use:\n",
      "  %reload_ext autoreload\n"
     ]
    },
    {
     "ename": "ImportError",
     "evalue": "cannot import name 'spline' from 'scipy.interpolate' (C:\\Users\\etien\\anaconda3\\lib\\site-packages\\scipy\\interpolate\\__init__.py)",
     "output_type": "error",
     "traceback": [
      "\u001b[1;31m---------------------------------------------------------------------------\u001b[0m",
      "\u001b[1;31mImportError\u001b[0m                               Traceback (most recent call last)",
      "\u001b[1;32m~\\AppData\\Local\\Temp/ipykernel_12848/400980525.py\u001b[0m in \u001b[0;36m<module>\u001b[1;34m\u001b[0m\n\u001b[0;32m     32\u001b[0m \u001b[1;32mfrom\u001b[0m \u001b[0mitertools\u001b[0m \u001b[1;32mimport\u001b[0m \u001b[0mchain\u001b[0m\u001b[1;33m\u001b[0m\u001b[1;33m\u001b[0m\u001b[0m\n\u001b[0;32m     33\u001b[0m \u001b[1;33m\u001b[0m\u001b[0m\n\u001b[1;32m---> 34\u001b[1;33m \u001b[1;32mfrom\u001b[0m \u001b[0mscipy\u001b[0m\u001b[1;33m.\u001b[0m\u001b[0minterpolate\u001b[0m \u001b[1;32mimport\u001b[0m \u001b[0mspline\u001b[0m\u001b[1;33m\u001b[0m\u001b[1;33m\u001b[0m\u001b[0m\n\u001b[0m\u001b[0;32m     35\u001b[0m \u001b[1;33m\u001b[0m\u001b[0m\n\u001b[0;32m     36\u001b[0m \u001b[1;33m\u001b[0m\u001b[0m\n",
      "\u001b[1;31mImportError\u001b[0m: cannot import name 'spline' from 'scipy.interpolate' (C:\\Users\\etien\\anaconda3\\lib\\site-packages\\scipy\\interpolate\\__init__.py)"
     ]
    }
   ],
   "source": [
    "import pandas as pd\n",
    "import numpy as np\n",
    "import matplotlib.pyplot as plt\n",
    "%matplotlib inline\n",
    "import seaborn as sns\n",
    "import math\n",
    "import datetime\n",
    "\n",
    "%load_ext autoreload\n",
    "%autoreload 2\n",
    "\n",
    "import warnings; warnings.simplefilter('ignore')\n",
    "import os, codecs, string, random\n",
    "from numpy.random import seed as random_seed\n",
    "from numpy.random import shuffle as random_shuffle\n",
    "\n",
    "seed = 42\n",
    "random.seed(seed)\n",
    "np.random.seed(seed)\n",
    "\n",
    "#NLP libraries\n",
    "import spacy, nltk, gensim, sklearn\n",
    "import pyLDAvis.gensim_models\n",
    "#import pyLDAvis.gensim #LDA visualization library\n",
    "\n",
    "import gensim #the library for Topic modelling\n",
    "from gensim.models.ldamulticore import LdaMulticore\n",
    "from gensim import corpora, models\n",
    "from nltk.corpus import stopwords\n",
    "import string\n",
    "from nltk.stem.wordnet import WordNetLemmatizer\n",
    "from itertools import chain\n",
    "\n",
    "\n",
    "#Vader\n",
    "import vaderSentiment\n",
    "from vaderSentiment.vaderSentiment import SentimentIntensityAnalyzer"
   ]
  },
  {
   "cell_type": "code",
   "execution_count": 2,
   "id": "b6de807a",
   "metadata": {},
   "outputs": [],
   "source": [
    "data_folder = './MovieSummaries/'\n",
    "\n",
    "summaries = pd.read_csv(data_folder+'plot_summaries.txt', sep='\t', header=None, names=[\"wiki_id\", \"summary\"])\n",
    "movie_meta = pd.read_csv(data_folder+'movie.metadata.tsv', sep='\t', header=None, names=[\"wiki_id\", \"freebase_id\", \"movie_name\", \"release_date\", \"revenue\", \"runtime\", \"languages\", \"coutries\", \"genres\"])\n",
    "char_meta = pd.read_csv(data_folder+'character.metadata.tsv', sep='\t', header=None, names=[\"wiki_id\", \"freebase_id\", \"release_date\", \"character_name\", \"birth\", \"gender\", \"height\", \"ethnicity\", \"actor_name\", \"actor_age\", \"character_actor_map\", \"character_id\", \"actor_id\"])"
   ]
  },
  {
   "cell_type": "code",
   "execution_count": 3,
   "id": "3ee2b229",
   "metadata": {},
   "outputs": [],
   "source": [
    "# mergin databases\n",
    "summaries = summaries.merge(movie_meta, on=\"wiki_id\", how = 'right')\n",
    "summaries[\"languages\"] = summaries.apply(lambda x: list(eval(x[\"languages\"]).values()), axis=1)\n",
    "summaries[\"coutries\"] = summaries.apply(lambda x: list(eval(x[\"coutries\"]).values()), axis=1)\n",
    "summaries[\"genres\"] = summaries.apply(lambda x: list(eval(x[\"genres\"]).values()), axis=1)"
   ]
  },
  {
   "cell_type": "code",
   "execution_count": 4,
   "id": "dd9e4e16",
   "metadata": {},
   "outputs": [
    {
     "data": {
      "text/html": [
       "<div>\n",
       "<style scoped>\n",
       "    .dataframe tbody tr th:only-of-type {\n",
       "        vertical-align: middle;\n",
       "    }\n",
       "\n",
       "    .dataframe tbody tr th {\n",
       "        vertical-align: top;\n",
       "    }\n",
       "\n",
       "    .dataframe thead th {\n",
       "        text-align: right;\n",
       "    }\n",
       "</style>\n",
       "<table border=\"1\" class=\"dataframe\">\n",
       "  <thead>\n",
       "    <tr style=\"text-align: right;\">\n",
       "      <th></th>\n",
       "      <th>wiki_id</th>\n",
       "      <th>summary</th>\n",
       "      <th>freebase_id</th>\n",
       "      <th>movie_name</th>\n",
       "      <th>release_date</th>\n",
       "      <th>revenue</th>\n",
       "      <th>runtime</th>\n",
       "      <th>languages</th>\n",
       "      <th>coutries</th>\n",
       "      <th>genres</th>\n",
       "    </tr>\n",
       "  </thead>\n",
       "  <tbody>\n",
       "    <tr>\n",
       "      <th>0</th>\n",
       "      <td>975900</td>\n",
       "      <td>Set in the second half of the 22nd century, th...</td>\n",
       "      <td>/m/03vyhn</td>\n",
       "      <td>Ghosts of Mars</td>\n",
       "      <td>2001-08-24</td>\n",
       "      <td>14010832.0</td>\n",
       "      <td>98.0</td>\n",
       "      <td>[English Language]</td>\n",
       "      <td>[United States of America]</td>\n",
       "      <td>[Thriller, Science Fiction, Horror, Adventure,...</td>\n",
       "    </tr>\n",
       "    <tr>\n",
       "      <th>1</th>\n",
       "      <td>3196793</td>\n",
       "      <td>NaN</td>\n",
       "      <td>/m/08yl5d</td>\n",
       "      <td>Getting Away with Murder: The JonBenét Ramsey ...</td>\n",
       "      <td>2000-02-16</td>\n",
       "      <td>NaN</td>\n",
       "      <td>95.0</td>\n",
       "      <td>[English Language]</td>\n",
       "      <td>[United States of America]</td>\n",
       "      <td>[Mystery, Biographical film, Drama, Crime Drama]</td>\n",
       "    </tr>\n",
       "    <tr>\n",
       "      <th>2</th>\n",
       "      <td>28463795</td>\n",
       "      <td>NaN</td>\n",
       "      <td>/m/0crgdbh</td>\n",
       "      <td>Brun bitter</td>\n",
       "      <td>1988</td>\n",
       "      <td>NaN</td>\n",
       "      <td>83.0</td>\n",
       "      <td>[Norwegian Language]</td>\n",
       "      <td>[Norway]</td>\n",
       "      <td>[Crime Fiction, Drama]</td>\n",
       "    </tr>\n",
       "    <tr>\n",
       "      <th>3</th>\n",
       "      <td>9363483</td>\n",
       "      <td>A series of murders of rich young women throug...</td>\n",
       "      <td>/m/0285_cd</td>\n",
       "      <td>White Of The Eye</td>\n",
       "      <td>1987</td>\n",
       "      <td>NaN</td>\n",
       "      <td>110.0</td>\n",
       "      <td>[English Language]</td>\n",
       "      <td>[United Kingdom]</td>\n",
       "      <td>[Thriller, Erotic thriller, Psychological thri...</td>\n",
       "    </tr>\n",
       "    <tr>\n",
       "      <th>4</th>\n",
       "      <td>261236</td>\n",
       "      <td>Eva, an upper class housewife, becomes frustra...</td>\n",
       "      <td>/m/01mrr1</td>\n",
       "      <td>A Woman in Flames</td>\n",
       "      <td>1983</td>\n",
       "      <td>NaN</td>\n",
       "      <td>106.0</td>\n",
       "      <td>[German Language]</td>\n",
       "      <td>[Germany]</td>\n",
       "      <td>[Drama]</td>\n",
       "    </tr>\n",
       "  </tbody>\n",
       "</table>\n",
       "</div>"
      ],
      "text/plain": [
       "    wiki_id                                            summary freebase_id  \\\n",
       "0    975900  Set in the second half of the 22nd century, th...   /m/03vyhn   \n",
       "1   3196793                                                NaN   /m/08yl5d   \n",
       "2  28463795                                                NaN  /m/0crgdbh   \n",
       "3   9363483  A series of murders of rich young women throug...  /m/0285_cd   \n",
       "4    261236  Eva, an upper class housewife, becomes frustra...   /m/01mrr1   \n",
       "\n",
       "                                          movie_name release_date     revenue  \\\n",
       "0                                     Ghosts of Mars   2001-08-24  14010832.0   \n",
       "1  Getting Away with Murder: The JonBenét Ramsey ...   2000-02-16         NaN   \n",
       "2                                        Brun bitter         1988         NaN   \n",
       "3                                   White Of The Eye         1987         NaN   \n",
       "4                                  A Woman in Flames         1983         NaN   \n",
       "\n",
       "   runtime             languages                    coutries  \\\n",
       "0     98.0    [English Language]  [United States of America]   \n",
       "1     95.0    [English Language]  [United States of America]   \n",
       "2     83.0  [Norwegian Language]                    [Norway]   \n",
       "3    110.0    [English Language]            [United Kingdom]   \n",
       "4    106.0     [German Language]                   [Germany]   \n",
       "\n",
       "                                              genres  \n",
       "0  [Thriller, Science Fiction, Horror, Adventure,...  \n",
       "1   [Mystery, Biographical film, Drama, Crime Drama]  \n",
       "2                             [Crime Fiction, Drama]  \n",
       "3  [Thriller, Erotic thriller, Psychological thri...  \n",
       "4                                            [Drama]  "
      ]
     },
     "execution_count": 4,
     "metadata": {},
     "output_type": "execute_result"
    }
   ],
   "source": [
    "summaries.head()"
   ]
  },
  {
   "cell_type": "code",
   "execution_count": 5,
   "id": "d8d7487e",
   "metadata": {},
   "outputs": [
    {
     "data": {
      "text/plain": [
       "81741"
      ]
     },
     "execution_count": 5,
     "metadata": {},
     "output_type": "execute_result"
    }
   ],
   "source": [
    "len(summaries)"
   ]
  },
  {
   "cell_type": "code",
   "execution_count": 6,
   "id": "fbbad010",
   "metadata": {},
   "outputs": [],
   "source": [
    "# df is used for average sentiment analysis over movies\n",
    "df = summaries.copy()"
   ]
  },
  {
   "cell_type": "code",
   "execution_count": 7,
   "id": "c7cac817",
   "metadata": {},
   "outputs": [],
   "source": [
    "df.loc[df['wiki_id']== 29666067, 'release_date'] = datetime.datetime(2010, 12, 2)\n",
    "dates = pd.to_datetime(df['release_date'])\n",
    "df['release_date'] = dates"
   ]
  },
  {
   "cell_type": "code",
   "execution_count": 8,
   "id": "c4f068da",
   "metadata": {},
   "outputs": [],
   "source": [
    "df = df.sort_values(by=['release_date'])"
   ]
  },
  {
   "cell_type": "code",
   "execution_count": 9,
   "id": "4f21c81d",
   "metadata": {},
   "outputs": [],
   "source": [
    "df = df.dropna(subset=['summary'])"
   ]
  },
  {
   "cell_type": "code",
   "execution_count": 10,
   "id": "3354afb2",
   "metadata": {},
   "outputs": [
    {
     "data": {
      "text/html": [
       "<div>\n",
       "<style scoped>\n",
       "    .dataframe tbody tr th:only-of-type {\n",
       "        vertical-align: middle;\n",
       "    }\n",
       "\n",
       "    .dataframe tbody tr th {\n",
       "        vertical-align: top;\n",
       "    }\n",
       "\n",
       "    .dataframe thead th {\n",
       "        text-align: right;\n",
       "    }\n",
       "</style>\n",
       "<table border=\"1\" class=\"dataframe\">\n",
       "  <thead>\n",
       "    <tr style=\"text-align: right;\">\n",
       "      <th></th>\n",
       "      <th>wiki_id</th>\n",
       "      <th>summary</th>\n",
       "      <th>freebase_id</th>\n",
       "      <th>movie_name</th>\n",
       "      <th>release_date</th>\n",
       "      <th>revenue</th>\n",
       "      <th>runtime</th>\n",
       "      <th>languages</th>\n",
       "      <th>coutries</th>\n",
       "      <th>genres</th>\n",
       "    </tr>\n",
       "  </thead>\n",
       "  <tbody>\n",
       "    <tr>\n",
       "      <th>25563</th>\n",
       "      <td>73372</td>\n",
       "      <td>The scene is all filmed from a stationary came...</td>\n",
       "      <td>/m/0jq3g</td>\n",
       "      <td>Blacksmith Scene</td>\n",
       "      <td>1893-01-01</td>\n",
       "      <td>NaN</td>\n",
       "      <td>0.566667</td>\n",
       "      <td>[Silent film]</td>\n",
       "      <td>[United States of America]</td>\n",
       "      <td>[Short Film, Silent film, Indie, Black-and-white]</td>\n",
       "    </tr>\n",
       "    <tr>\n",
       "      <th>67253</th>\n",
       "      <td>10109752</td>\n",
       "      <td>After finding out that her father is suffering...</td>\n",
       "      <td>/m/02q23xk</td>\n",
       "      <td>Miss Jerry</td>\n",
       "      <td>1894-10-09</td>\n",
       "      <td>NaN</td>\n",
       "      <td>NaN</td>\n",
       "      <td>[Silent film]</td>\n",
       "      <td>[United States of America]</td>\n",
       "      <td>[Short Film, Silent film, Indie, Black-and-white]</td>\n",
       "    </tr>\n",
       "    <tr>\n",
       "      <th>81230</th>\n",
       "      <td>10104497</td>\n",
       "      <td>James J. Corbett and Peter Courtney both take ...</td>\n",
       "      <td>/m/02q1zd3</td>\n",
       "      <td>Corbett and Courtney Before the Kinetograph</td>\n",
       "      <td>1894-11-17</td>\n",
       "      <td>NaN</td>\n",
       "      <td>NaN</td>\n",
       "      <td>[Silent film]</td>\n",
       "      <td>[United States of America]</td>\n",
       "      <td>[Short Film, Silent film, Indie, Black-and-white]</td>\n",
       "    </tr>\n",
       "    <tr>\n",
       "      <th>67567</th>\n",
       "      <td>10330688</td>\n",
       "      <td>The film consists of a series of animations on...</td>\n",
       "      <td>/m/02q8pr6</td>\n",
       "      <td>Autour d'une cabine</td>\n",
       "      <td>1895-01-01</td>\n",
       "      <td>NaN</td>\n",
       "      <td>15.000000</td>\n",
       "      <td>[Silent film]</td>\n",
       "      <td>[France]</td>\n",
       "      <td>[Short Film, Silent film, Animation, Comedy, I...</td>\n",
       "    </tr>\n",
       "    <tr>\n",
       "      <th>73179</th>\n",
       "      <td>10483292</td>\n",
       "      <td>Two men stand working as blacksmiths. The one ...</td>\n",
       "      <td>/m/02qfh7r</td>\n",
       "      <td>Les Forgerons</td>\n",
       "      <td>1895-01-01</td>\n",
       "      <td>NaN</td>\n",
       "      <td>0.816667</td>\n",
       "      <td>[Silent film]</td>\n",
       "      <td>[France]</td>\n",
       "      <td>[Short Film, Silent film, Indie, Black-and-whi...</td>\n",
       "    </tr>\n",
       "  </tbody>\n",
       "</table>\n",
       "</div>"
      ],
      "text/plain": [
       "        wiki_id                                            summary  \\\n",
       "25563     73372  The scene is all filmed from a stationary came...   \n",
       "67253  10109752  After finding out that her father is suffering...   \n",
       "81230  10104497  James J. Corbett and Peter Courtney both take ...   \n",
       "67567  10330688  The film consists of a series of animations on...   \n",
       "73179  10483292  Two men stand working as blacksmiths. The one ...   \n",
       "\n",
       "      freebase_id                                   movie_name release_date  \\\n",
       "25563    /m/0jq3g                             Blacksmith Scene   1893-01-01   \n",
       "67253  /m/02q23xk                                   Miss Jerry   1894-10-09   \n",
       "81230  /m/02q1zd3  Corbett and Courtney Before the Kinetograph   1894-11-17   \n",
       "67567  /m/02q8pr6                          Autour d'une cabine   1895-01-01   \n",
       "73179  /m/02qfh7r                                Les Forgerons   1895-01-01   \n",
       "\n",
       "       revenue    runtime      languages                    coutries  \\\n",
       "25563      NaN   0.566667  [Silent film]  [United States of America]   \n",
       "67253      NaN        NaN  [Silent film]  [United States of America]   \n",
       "81230      NaN        NaN  [Silent film]  [United States of America]   \n",
       "67567      NaN  15.000000  [Silent film]                    [France]   \n",
       "73179      NaN   0.816667  [Silent film]                    [France]   \n",
       "\n",
       "                                                  genres  \n",
       "25563  [Short Film, Silent film, Indie, Black-and-white]  \n",
       "67253  [Short Film, Silent film, Indie, Black-and-white]  \n",
       "81230  [Short Film, Silent film, Indie, Black-and-white]  \n",
       "67567  [Short Film, Silent film, Animation, Comedy, I...  \n",
       "73179  [Short Film, Silent film, Indie, Black-and-whi...  "
      ]
     },
     "execution_count": 10,
     "metadata": {},
     "output_type": "execute_result"
    }
   ],
   "source": [
    "df.head()"
   ]
  },
  {
   "cell_type": "code",
   "execution_count": 11,
   "id": "d4537ecc",
   "metadata": {},
   "outputs": [
    {
     "data": {
      "text/plain": [
       "42204"
      ]
     },
     "execution_count": 11,
     "metadata": {},
     "output_type": "execute_result"
    }
   ],
   "source": [
    "len(df)"
   ]
  },
  {
   "cell_type": "markdown",
   "id": "02597004",
   "metadata": {},
   "source": [
    "Here we have that df contains all the movies with their informations, ordered by release date with a existing summary. We will use this to derive all our other dataframes (per countries, per date). We have 42204 movies compared to 81741 before."
   ]
  },
  {
   "cell_type": "code",
   "execution_count": 12,
   "id": "6d41b431",
   "metadata": {},
   "outputs": [],
   "source": [
    "analyzer = SentimentIntensityAnalyzer()"
   ]
  },
  {
   "cell_type": "code",
   "execution_count": 13,
   "id": "7a62d1e7",
   "metadata": {},
   "outputs": [],
   "source": [
    "def get_country_movies(df, country):\n",
    "    return df[df.coutries.apply(lambda x : country in x)]"
   ]
  },
  {
   "cell_type": "code",
   "execution_count": 14,
   "id": "9bfe1c4e",
   "metadata": {},
   "outputs": [],
   "source": [
    "def create_history_span(df, begin, end):\n",
    "    return df.loc[(df.release_date.dt.year < end) & (df.release_date.dt.year > begin)]"
   ]
  },
  {
   "cell_type": "code",
   "execution_count": 15,
   "id": "aedd8500",
   "metadata": {},
   "outputs": [],
   "source": [
    "def plot_sentiment_country_span(span, attribute, year:bool):\n",
    "    fig, axs = plt.subplots(figsize=(25, 5))\n",
    "    if year:\n",
    "        sentiments = span.groupby(span.release_date.dt.year)[attribute].mean()\n",
    "    else:\n",
    "        sentiments = span.groupby(span.release_date)[attribute].mean()\n",
    "    sentiments.plot(kind='bar', rot=90, ax=axs)"
   ]
  },
  {
   "cell_type": "code",
   "execution_count": 16,
   "id": "77c733d5",
   "metadata": {},
   "outputs": [],
   "source": [
    "def sentiment_df(df):\n",
    "    \n",
    "    df_copy = df.copy()\n",
    "    \n",
    "    # calculate the sentiment over the summaries\n",
    "    df_copy['sentiment'] = df_copy['summary'].apply(lambda x: analyzer.polarity_scores(x))\n",
    "\n",
    "    # isolate the most interesting values\n",
    "    df_copy['positive'] = df_copy['sentiment'].apply(lambda x: x['pos'])\n",
    "    df_copy['neutral'] = df_copy['sentiment'].apply(lambda x: x['neu'])\n",
    "    df_copy['negative'] = df_copy['sentiment'].apply(lambda x: x['neg'])\n",
    "    df_copy['compound'] = df_copy['sentiment'].apply(lambda x: x['compound'])\n",
    "    \n",
    "    return df_copy"
   ]
  },
  {
   "cell_type": "markdown",
   "id": "5b6cac28",
   "metadata": {},
   "source": [
    "Firstly we'll just look at movies made around the WW2, that is from 1930 to 1955."
   ]
  },
  {
   "cell_type": "code",
   "execution_count": 17,
   "id": "01265da0",
   "metadata": {},
   "outputs": [],
   "source": [
    "begin = 1930\n",
    "end = 1955"
   ]
  },
  {
   "cell_type": "code",
   "execution_count": 18,
   "id": "885ef01d",
   "metadata": {},
   "outputs": [
    {
     "name": "stdout",
     "output_type": "stream",
     "text": [
      "There is 5341 movies made worldwide bewteen 1930 and 1955\n"
     ]
    }
   ],
   "source": [
    "df_ww2 = create_history_span(df, begin, end)\n",
    "print(\"There is\", len(df_ww2), \"movies made worldwide bewteen\", begin, \"and\", end)"
   ]
  },
  {
   "cell_type": "markdown",
   "id": "394c7cfa",
   "metadata": {},
   "source": [
    "We will first run a sentiment analysis over all **german** movie during this period **(1930 to 1955)**."
   ]
  },
  {
   "cell_type": "code",
   "execution_count": 19,
   "id": "ae1f1e7a",
   "metadata": {},
   "outputs": [],
   "source": [
    "# get all the german movies\n",
    "df_ww2_germany = get_country_movies(df_ww2, 'Germany')\n",
    "\n",
    "# calculate sentiment and add it nicely to the df\n",
    "df_ww2_germany = sentiment_df(df_ww2_germany)"
   ]
  },
  {
   "cell_type": "code",
   "execution_count": 20,
   "id": "9bb0774f",
   "metadata": {},
   "outputs": [
    {
     "name": "stdout",
     "output_type": "stream",
     "text": [
      "There is 69 movies made in Germany bewteen 1930 and 1955\n"
     ]
    }
   ],
   "source": [
    "print(\"There is\", len(df_ww2_germany), \"movies made in Germany bewteen\", begin, \"and\", end)"
   ]
  },
  {
   "cell_type": "code",
   "execution_count": 21,
   "id": "9cf901e4",
   "metadata": {},
   "outputs": [
    {
     "data": {
      "image/png": "[encoded data removed]",
      "text/plain": [
       "<Figure size 1800x360 with 1 Axes>"
      ]
     },
     "metadata": {
      "needs_background": "light"
     },
     "output_type": "display_data"
    }
   ],
   "source": [
    "plot_sentiment_country_span(df_ww2_germany, 'compound', year=True)"
   ]
  },
  {
   "cell_type": "markdown",
   "id": "74435a4f",
   "metadata": {},
   "source": [
    "Seeing the compound value of all the movies at this period we can clearly see that the post war (1946-1951) overall sentiment is negative.\n",
    "\n",
    "---"
   ]
  },
  {
   "cell_type": "markdown",
   "id": "0f59f6bf",
   "metadata": {},
   "source": [
    "We then run a sentiment analysis over all **french** movie during this period **(1930 to 1955)**."
   ]
  },
  {
   "cell_type": "code",
   "execution_count": 22,
   "id": "6deb4681",
   "metadata": {},
   "outputs": [],
   "source": [
    "# get all the french movies\n",
    "df_ww2_french = get_country_movies(df_ww2, 'France')\n",
    "\n",
    "# calculate sentiment and add it nicely to the df\n",
    "df_ww2_french = sentiment_df(df_ww2_french)"
   ]
  },
  {
   "cell_type": "code",
   "execution_count": 23,
   "id": "e027b7de",
   "metadata": {},
   "outputs": [
    {
     "name": "stdout",
     "output_type": "stream",
     "text": [
      "There is 100 movies made in France bewteen 1930 and 1955\n"
     ]
    }
   ],
   "source": [
    "print(\"There is\", len(df_ww2_french), \"movies made in France bewteen\", begin, \"and\", end)"
   ]
  },
  {
   "cell_type": "code",
   "execution_count": 24,
   "id": "20eb0f7d",
   "metadata": {},
   "outputs": [
    {
     "data": {
      "image/png": "[encoded data removed]",
      "text/plain": [
       "<Figure size 1800x360 with 1 Axes>"
      ]
     },
     "metadata": {
      "needs_background": "light"
     },
     "output_type": "display_data"
    }
   ],
   "source": [
    "plot_sentiment_country_span(df_ww2_french, 'compound', year=True)"
   ]
  },
  {
   "cell_type": "markdown",
   "id": "bae4db22",
   "metadata": {},
   "source": [
    "We can't see any form of pattern here ?... Except the 1945 year that is very positive (victory for France)\n",
    "\n",
    "---"
   ]
  },
  {
   "cell_type": "markdown",
   "id": "54a03c03",
   "metadata": {},
   "source": [
    "We then run a sentiment analysis over all **italy** movie during this period **(1930 to 1955)**."
   ]
  },
  {
   "cell_type": "code",
   "execution_count": 25,
   "id": "ab8ac182",
   "metadata": {},
   "outputs": [],
   "source": [
    "# get all the french movies\n",
    "df_ww2_italy = get_country_movies(df_ww2, 'Italy')\n",
    "\n",
    "# calculate sentiment and add it nicely to the df\n",
    "df_ww2_italy = sentiment_df(df_ww2_italy)"
   ]
  },
  {
   "cell_type": "code",
   "execution_count": 26,
   "id": "7e08ab4e",
   "metadata": {},
   "outputs": [
    {
     "name": "stdout",
     "output_type": "stream",
     "text": [
      "There is 73 movies made in Italy bewteen 1930 and 1955\n"
     ]
    }
   ],
   "source": [
    "print(\"There is\", len(df_ww2_italy), \"movies made in Italy bewteen\", begin, \"and\", end)"
   ]
  },
  {
   "cell_type": "code",
   "execution_count": 27,
   "id": "f3536bfd",
   "metadata": {},
   "outputs": [
    {
     "data": {
      "image/png": "[encoded data removed]",
      "text/plain": [
       "<Figure size 1800x360 with 1 Axes>"
      ]
     },
     "metadata": {
      "needs_background": "light"
     },
     "output_type": "display_data"
    }
   ],
   "source": [
    "plot_sentiment_country_span(df_ww2_italy, 'compound', year=True)"
   ]
  },
  {
   "cell_type": "markdown",
   "id": "ca88e742",
   "metadata": {},
   "source": [
    "Seeing the compound value of all the movies at this period we can clearly see that the post war (1945-1949) overall sentiment is negative.\n",
    "\n",
    "---"
   ]
  },
  {
   "cell_type": "markdown",
   "id": "0f10da06",
   "metadata": {},
   "source": [
    "We then run a sentiment analysis over all **united kingdom** movie during this period **(1930 to 1955)**."
   ]
  },
  {
   "cell_type": "code",
   "execution_count": 28,
   "id": "9fca0a4b",
   "metadata": {},
   "outputs": [],
   "source": [
    "# get all the UK movies\n",
    "df_ww2_UK = get_country_movies(df_ww2, 'United Kingdom')\n",
    "\n",
    "# calculate sentiment and add it nicely to the df\n",
    "df_ww2_UK = sentiment_df(df_ww2_UK)"
   ]
  },
  {
   "cell_type": "code",
   "execution_count": 29,
   "id": "96c455dd",
   "metadata": {},
   "outputs": [
    {
     "name": "stdout",
     "output_type": "stream",
     "text": [
      "There is 593 movies made in UK bewteen 1930 and 1955\n"
     ]
    }
   ],
   "source": [
    "print(\"There is\", len(df_ww2_UK), \"movies made in UK bewteen\", begin, \"and\", end)"
   ]
  },
  {
   "cell_type": "code",
   "execution_count": 30,
   "id": "4ab9302d",
   "metadata": {},
   "outputs": [
    {
     "data": {
      "image/png": "[encoded data removed]",
      "text/plain": [
       "<Figure size 1800x360 with 1 Axes>"
      ]
     },
     "metadata": {
      "needs_background": "light"
     },
     "output_type": "display_data"
    }
   ],
   "source": [
    "plot_sentiment_country_span(df_ww2_UK, 'compound', year=True)"
   ]
  },
  {
   "cell_type": "markdown",
   "id": "f89e3e19",
   "metadata": {},
   "source": [
    "Seeing the compound value of all the movies at this period we can see that the war (1939-1945) overall sentiment is negative, execpt the last year (vicory for UK) where it is positive. \n",
    "Also the post war period is tainted with negativity  (1946 - 1951)\n",
    "\n",
    "---"
   ]
  },
  {
   "cell_type": "markdown",
   "id": "e4fea1c1",
   "metadata": {},
   "source": [
    "We then run a sentiment analysis over all **soviet union** movie during this period **(1930 to 1955)**."
   ]
  },
  {
   "cell_type": "code",
   "execution_count": 31,
   "id": "2b8ae8cb",
   "metadata": {},
   "outputs": [],
   "source": [
    "# get all the Russian movies\n",
    "df_ww2_SovietUnion = get_country_movies(df_ww2, 'Soviet Union')\n",
    "\n",
    "# calculate sentiment and add it nicely to the df\n",
    "df_ww2_SovietUnion = sentiment_df(df_ww2_SovietUnion)"
   ]
  },
  {
   "cell_type": "code",
   "execution_count": 32,
   "id": "249442cd",
   "metadata": {},
   "outputs": [
    {
     "name": "stdout",
     "output_type": "stream",
     "text": [
      "There is 24 movies made in Soviet Union bewteen 1930 and 1955\n"
     ]
    }
   ],
   "source": [
    "print(\"There is\", len(df_ww2_SovietUnion), \"movies made in Soviet Union bewteen\", begin, \"and\", end)"
   ]
  },
  {
   "cell_type": "code",
   "execution_count": 33,
   "id": "9b586862",
   "metadata": {},
   "outputs": [
    {
     "data": {
      "image/png": "[encoded data removed]",
      "text/plain": [
       "<Figure size 1800x360 with 1 Axes>"
      ]
     },
     "metadata": {
      "needs_background": "light"
     },
     "output_type": "display_data"
    }
   ],
   "source": [
    "plot_sentiment_country_span(df_ww2_SovietUnion, 'compound', year=True)"
   ]
  },
  {
   "cell_type": "markdown",
   "id": "12e074ab",
   "metadata": {},
   "source": [
    "We then run a sentiment analysis over all **USA** movie during this period **(1930 to 1955)**."
   ]
  },
  {
   "cell_type": "code",
   "execution_count": 34,
   "id": "f99004dc",
   "metadata": {},
   "outputs": [],
   "source": [
    "# get all the USA movies\n",
    "df_ww2_USA = get_country_movies(df_ww2, 'United States of America')\n",
    "\n",
    "# calculate sentiment and add it nicely to the df\n",
    "df_ww2_USA = sentiment_df(df_ww2_USA)"
   ]
  },
  {
   "cell_type": "code",
   "execution_count": 35,
   "id": "b32323dd",
   "metadata": {},
   "outputs": [
    {
     "name": "stdout",
     "output_type": "stream",
     "text": [
      "There is 3863 movies made in USA bewteen 1930 and 1955\n"
     ]
    }
   ],
   "source": [
    "print(\"There is\", len(df_ww2_USA), \"movies made in USA bewteen\", begin, \"and\", end)"
   ]
  },
  {
   "cell_type": "code",
   "execution_count": 36,
   "id": "e6d77640",
   "metadata": {},
   "outputs": [
    {
     "data": {
      "image/png": "[encoded data removed]",
      "text/plain": [
       "<Figure size 1800x360 with 1 Axes>"
      ]
     },
     "metadata": {
      "needs_background": "light"
     },
     "output_type": "display_data"
    }
   ],
   "source": [
    "plot_sentiment_country_span(df_ww2_USA, 'compound', year=True)"
   ]
  },
  {
   "cell_type": "markdown",
   "id": "671ba4fa",
   "metadata": {},
   "source": [
    "Seeing the compound value of all the movies at this period we can see that the war and prewar (1941-1951) overall sentiment is very negative. There is a clear mark between before the involvement of USA in the war and after.\n",
    "\n",
    "---"
   ]
  },
  {
   "cell_type": "markdown",
   "id": "1b34a28b",
   "metadata": {},
   "source": [
    "We then run a sentiment analysis over all **Japan** movie during this period **(1930 to 1955)**."
   ]
  },
  {
   "cell_type": "code",
   "execution_count": 37,
   "id": "7ab471b8",
   "metadata": {},
   "outputs": [],
   "source": [
    "# get all the Japan movies\n",
    "df_ww2_japan = get_country_movies(df_ww2, 'Japan')\n",
    "\n",
    "# calculate sentiment and add it nicely to the df\n",
    "df_ww2_japan = sentiment_df(df_ww2_japan)"
   ]
  },
  {
   "cell_type": "code",
   "execution_count": 38,
   "id": "7ded97af",
   "metadata": {},
   "outputs": [
    {
     "name": "stdout",
     "output_type": "stream",
     "text": [
      "There is 44 movies made in Japan bewteen 1930 and 1955\n"
     ]
    }
   ],
   "source": [
    "print(\"There is\", len(df_ww2_japan), \"movies made in Japan bewteen\", begin, \"and\", end)"
   ]
  },
  {
   "cell_type": "code",
   "execution_count": 39,
   "id": "64621547",
   "metadata": {},
   "outputs": [
    {
     "data": {
      "image/png": "[encoded data removed]",
      "text/plain": [
       "<Figure size 1800x360 with 1 Axes>"
      ]
     },
     "metadata": {
      "needs_background": "light"
     },
     "output_type": "display_data"
    }
   ],
   "source": [
    "plot_sentiment_country_span(df_ww2_japan, 'compound', year=True)"
   ]
  },
  {
   "cell_type": "markdown",
   "id": "75e6b01f",
   "metadata": {},
   "source": [
    "Pre war (before 1939)  is pretty positive. The rest of the period is moslty negative.\n",
    "\n",
    "---"
   ]
  },
  {
   "cell_type": "markdown",
   "id": "eb7e2a67",
   "metadata": {},
   "source": [
    "### We will now do LDA."
   ]
  },
  {
   "cell_type": "code",
   "execution_count": 40,
   "id": "a83d2b14",
   "metadata": {},
   "outputs": [],
   "source": [
    "lemma = WordNetLemmatizer()\n",
    "stopwords_set = set(stopwords.words('english'))\n",
    "punctuation_set = set(string.punctuation)\n",
    "names_set = {'lucas', 'pierre', 'baptiste', 'garance', 'marius', 'jean', 'roxane', 'jeanne', 'george', 'émile', 'louis', 'louise', 'robert', \n",
    "             'mario', 'françois', 'fanny', 'liliom', 'michel', 'frédérick', 'christina', 'christian', 'christine', 'andré', 'george', \n",
    "             'edmund', 'julie', 'marie', 'jo', 'anne', 'genevieve'}\n",
    "\n",
    "\n",
    "# remove stopwords and punctuation\n",
    "def clean_text(text):\n",
    "    no_stopwords = ' '.join([word for word in text.lower().split() if word not in stopwords_set])\n",
    "    no_punctuation = ''.join(ch for ch in no_stopwords if ch not in punctuation_set)\n",
    "    no_names = ' '.join([word for word in no_punctuation.split() if word not in names_set])\n",
    "    return no_names\n",
    "\n",
    "# lemmatize the text\n",
    "def lemmatize(text):\n",
    "    lemmatized = ' '.join([lemma.lemmatize(word) for word in text.split()])\n",
    "    return lemmatized.split()\n",
    "\n",
    "# compute the LDA for the given dataframe\n",
    "def LDA(dataframe, num_topics=5):\n",
    "    \n",
    "    # remove stopwords and punctuation in the summaries\n",
    "    dataframe['clean_summary'] = dataframe['summary'].apply(clean_text)\n",
    "    \n",
    "    # lemmatize the summaries\n",
    "    dataframe['clean_summary'] = dataframe['clean_summary'].apply(lemmatize)\n",
    "    \n",
    "    # create dictionary (all unique words in all the summaries)\n",
    "    dictionary = corpora.Dictionary(dataframe['clean_summary'])\n",
    "    \n",
    "    # create the document term matrix (frequencies and number of words : bag of words)\n",
    "    doc_term_matrix = [dictionary.doc2bow(doc) for doc in dataframe['clean_summary']]\n",
    "\n",
    "    # init the LDA model\n",
    "    lda = gensim.models.ldamodel.LdaModel\n",
    "    \n",
    "    # compute the LDA\n",
    "    ldamodel = lda(doc_term_matrix, num_topics=num_topics, id2word=dictionary, passes=50, minimum_probability=0)\n",
    "    \n",
    "    # print the topics found\n",
    "    print(\"--- Here are all the topics found : ---\")\n",
    "    topics = ldamodel.print_topics()\n",
    "    for i in range(len(topics)):\n",
    "        print(topics[i])\n",
    "        print(\"---\")\n",
    "        \n",
    "    lda_display = pyLDAvis.gensim_models.prepare(ldamodel, doc_term_matrix, dictionary, sort_topics=True, mds='mmds')\n",
    "    \n",
    "    return lda_display, doc_term_matrix, ldamodel"
   ]
  },
  {
   "cell_type": "code",
   "execution_count": 41,
   "id": "1e5dadc6",
   "metadata": {},
   "outputs": [
    {
     "name": "stdout",
     "output_type": "stream",
     "text": [
      "--- Here are all the topics found : ---\n",
      "(0, '0.006*\"baron\" + 0.006*\"gray\" + 0.005*\"find\" + 0.004*\"young\" + 0.004*\"love\" + 0.004*\"village\" + 0.004*\"man\" + 0.004*\"dr\" + 0.003*\"one\" + 0.003*\"woman\"')\n",
      "---\n",
      "(1, '0.008*\"film\" + 0.006*\"father\" + 0.005*\"nazi\" + 0.005*\"hitler\" + 0.005*\"friedemann\" + 0.004*\"german\" + 0.004*\"son\" + 0.003*\"day\" + 0.003*\"family\" + 0.003*\"party\"')\n",
      "---\n",
      "(2, '0.005*\"snowman\" + 0.005*\"war\" + 0.004*\"french\" + 0.004*\"german\" + 0.004*\"film\" + 0.004*\"krüger\" + 0.003*\"british\" + 0.003*\"find\" + 0.003*\"two\" + 0.003*\"leader\"')\n",
      "---\n"
     ]
    },
    {
     "data": {
      "text/html": [
       "\n",
       "<link rel=\"stylesheet\" type=\"text/css\" href=\"https://cdn.jsdelivr.net/gh/bmabey/pyLDAvis@3.3.1/pyLDAvis/js/ldavis.v1.0.0.css\">\n",
       "\n",
       "\n",
       "<div id=\"ldavis_el1284821039745856166394267984\"></div>\n",
       "<script type=\"text/javascript\">\n",
       "\n",
       "var ldavis_el1284821039745856166394267984_data = {\"mdsDat\": {\"x\": [-0.006528391711719283, 0.08712401024900998, -0.08059561853729072], \"y\": [0.10712043177411941, -0.054040966124364105, -0.053079465649755284], \"topics\": [1, 2, 3], \"cluster\": [1, 1, 1], \"Freq\": [39.441164148031476, 39.31740423281783, 21.2414316191507]}, \"tinfo\": {\"Term\": [\"baron\", \"snowman\", \"friedemann\", \"gray\", \"father\", \"french\", \"kr\\u00fcger\", \"nazi\", \"hitler\", \"family\", \"village\", \"baum\", \"beckert\", \"criminal\", \"christel\", \"miner\", \"gneisenau\", \"nettelbeck\", \"kolberg\", \"napoleon\", \"rothschild\", \"duroy\", \"lohmann\", \"junta\", \"inge\", \"fritz\", \"army\", \"war\", \"leader\", \"pedro\", \"baron\", \"baum\", \"beckert\", \"criminal\", \"lohmann\", \"junta\", \"inge\", \"kent\", \"mabuse\", \"moon\", \"astr\\u00e9e\", \"gray\", \"rico\", \"puerto\", \"light\", \"l\\u00e9one\", \"village\", \"hofmeister\", \"cagliostro\", \"servant\", \"manor\", \"nagel\", \"asylum\", \"professor\", \"erich\", \"discover\", \"kuchenreutter\", \"vampyr\", \"gis\\u00e9le\", \"outside\", \"girl\", \"crime\", \"herbert\", \"room\", \"her\", \"dr\", \"doctor\", \"love\", \"young\", \"find\", \"man\", \"police\", \"woman\", \"one\", \"fall\", \"two\", \"home\", \"him\", \"film\", \"meet\", \"german\", \"old\", \"friedemann\", \"family\", \"duroy\", \"antonia\", \"irish\", \"muck\", \"crown\", \"harry\", \"michael\", \"suzanne\", \"authority\", \"father\", \"madeleine\", \"laroche\", \"henning\", \"youth\", \"depicts\", \"act\", \"fritz\", \"lutze\", \"katte\", \"hella\", \"wilhelm\", \"anni\", \"capital\", \"nationalist\", \"troop\", \"actor\", \"help\", \"nazi\", \"hitler\", \"party\", \"polish\", \"music\", \"han\", \"sa\", \"much\", \"von\", \"film\", \"son\", \"order\", \"king\", \"also\", \"day\", \"german\", \"soldier\", \"wife\", \"end\", \"one\", \"take\", \"work\", \"war\", \"return\", \"finally\", \"him\", \"young\", \"find\", \"love\", \"snowman\", \"kr\\u00fcger\", \"christel\", \"miner\", \"gneisenau\", \"nettelbeck\", \"napoleon\", \"kolberg\", \"rothschild\", \"boer\", \"macheath\", \"mine\", \"flynn\", \"mcmacpherson\", \"holmes\", \"tsar\", \"peachum\", \"rhodes\", \"gold\", \"convinced\", \"citizen\", \"william\", \"queen\", \"dog\", \"peasant\", \"rabbit\", \"refrigerator\", \"uncle\", \"watson\", \"himself\", \"french\", \"army\", \"martha\", \"snow\", \"leader\", \"war\", \"treaty\", \"rescue\", \"bank\", \"british\", \"people\", \"german\", \"pedro\", \"however\", \"film\", \"world\", \"make\", \"two\", \"find\", \"try\", \"show\", \"set\", \"man\", \"fall\", \"work\", \"put\", \"visit\"], \"Freq\": [19.0, 9.0, 16.0, 18.0, 18.0, 10.0, 6.0, 19.0, 19.0, 10.0, 13.0, 10.0, 9.0, 9.0, 4.0, 4.0, 4.0, 4.0, 4.0, 4.0, 4.0, 8.0, 8.0, 8.0, 8.0, 10.0, 5.0, 22.0, 7.0, 8.0, 19.323013414174824, 9.783615025321144, 9.049818182013398, 9.049813164177563, 7.582211592391474, 7.582205140888256, 7.582203707220874, 6.848411881748965, 6.848411881748965, 6.84840758074682, 6.84840758074682, 17.123998471103057, 6.1146071532706205, 6.1146071532706205, 6.114597117598949, 5.380807084211267, 11.910573128955225, 4.647008807236141, 4.647007015151913, 4.647006656735068, 4.647005223067686, 4.647003789400305, 4.647000563648696, 4.64698694380857, 4.646981209139043, 3.9132058708420234, 3.913205512425178, 3.9132037203409507, 3.9132033619241056, 3.913199777755651, 7.584704739968241, 7.583113369174559, 6.852957324182629, 8.319372536210366, 9.770934237330051, 11.255744118698626, 7.589936909077737, 12.620972520593707, 12.735426488676568, 14.19069063580948, 11.261625739132029, 9.055108414651853, 9.874014205240234, 10.530373655426793, 8.954200452824937, 9.053116333824988, 8.316546777801046, 9.051318514928342, 9.76689129531367, 7.5826402589386, 6.861215248301193, 6.853738672905653, 15.609941520352786, 10.487759923841901, 7.5608522991283245, 6.829125750242122, 6.82905572097248, 6.0973720471493245, 5.365653001399155, 4.633907873318966, 4.633895010800052, 4.633877860774834, 4.633586310346123, 17.15160730813328, 3.902175965049883, 3.902175965049883, 3.902174178588923, 3.9021631025309693, 3.902143808752599, 3.90213702020095, 9.02553376745699, 3.1704551328387534, 3.170443699488608, 3.1704351244759987, 3.1704336953072305, 3.1704279786321576, 3.1704254775868135, 3.170413686944476, 3.1704126150679, 3.170383317108152, 6.098666159468922, 16.37365215168675, 16.364515475751695, 9.763825917664267, 5.371428629683612, 6.831113009414294, 9.03037650582801, 4.638234324472476, 4.637869171852203, 6.099105628865141, 23.66923857950406, 11.220557634719864, 9.026915059071447, 9.0255737841825, 9.027085130154862, 10.488458072785164, 13.391002657507368, 5.366888517799257, 9.029021653835763, 7.563523415556076, 9.757155987023115, 8.291231141866122, 6.8395472488997795, 8.286291220018866, 6.834921029597141, 6.0969282902468, 6.827572958375481, 6.831313807626224, 6.823070362171292, 6.197088010443633, 8.577244172578126, 6.183537975311244, 4.388248965456502, 3.789825215059708, 3.7898244429438663, 3.7898236708280244, 3.789822898712183, 3.7898232847701037, 3.7898182660171327, 3.191398569228507, 3.191385636288159, 2.592966711615375, 2.5929642022388895, 2.5929642022388895, 2.592964009209929, 2.5929636231520083, 2.592957060167354, 1.9945396797262536, 1.9945396797262536, 1.9945387145814515, 1.9945383285235307, 1.9945354330891243, 1.994535240060164, 1.9945354330891243, 1.9945348540022432, 1.994535240060164, 1.9945348540022432, 1.9945335027995201, 1.9945335027995201, 1.9945331167415994, 7.395737069326978, 3.793971863187435, 3.192655766847718, 3.1923926683746666, 4.392081362436667, 7.987057353980343, 2.600299688792743, 2.593974901875645, 2.593408554905775, 4.994199301077965, 3.1948236751021866, 6.790987373839323, 3.790072678186965, 4.389921754427496, 6.787302064926998, 3.793086246317031, 3.7914354626475255, 4.394014740504226, 4.988203435509422, 3.7958870965327147, 3.193148569783668, 3.1965111342741723, 3.7901035628206325, 3.195419941560922, 3.194307129604105, 3.193865672371626, 3.1936927184230903], \"Total\": [19.0, 9.0, 16.0, 18.0, 18.0, 10.0, 6.0, 19.0, 19.0, 10.0, 13.0, 10.0, 9.0, 9.0, 4.0, 4.0, 4.0, 4.0, 4.0, 4.0, 4.0, 8.0, 8.0, 8.0, 8.0, 10.0, 5.0, 22.0, 7.0, 8.0, 19.76643395007466, 10.227021485836099, 9.493221984263736, 9.493220788161537, 8.025617149596107, 8.025617139530503, 8.025616027532237, 7.291817321670445, 7.291817831682255, 7.2918168428734775, 7.291817190184144, 18.29635166651399, 6.558015032167194, 6.558015445428755, 6.5580135362683, 5.824213360165855, 13.026352357726298, 5.0904124660410766, 5.090411656746146, 5.090412311495575, 5.0904114826057825, 5.090411620039639, 5.090410766555765, 5.090408644278, 5.090408154125072, 4.356609568158443, 4.356609358580572, 4.356608623567677, 4.356608783631236, 4.35660794085125, 8.756927688936328, 8.75693380866835, 8.023136511078912, 10.089172632232307, 12.15512184572784, 15.086445507192265, 9.356261235276873, 21.409333413525037, 22.1444198863688, 26.001964433490194, 19.674988081487633, 14.215334231964627, 17.610840624873777, 21.67222443424928, 16.142284179993833, 16.60729905037452, 13.747935823111352, 18.47195045276228, 40.22343193974473, 13.745814919374611, 27.043205279647886, 12.745975797789978, 16.054044594401002, 10.931892994181652, 8.004957477950434, 7.273223656500081, 7.273212999379653, 6.541485516891044, 5.809752346650499, 5.078014327359502, 5.078012321888457, 5.078010083788278, 5.078008734741468, 18.849958412193768, 4.346278095400616, 4.346278770973317, 4.3462801355486675, 4.346276272593129, 4.346273109464393, 4.346272295427509, 10.201804260120523, 3.6145435713440253, 3.614542181349653, 3.6145407479213514, 3.614540530337627, 3.614539035855798, 3.614538720178136, 3.6145372867069345, 3.614536833479323, 3.6145325820748444, 7.139923036656401, 19.31649631904863, 19.316715733433668, 12.729659802053218, 6.5431051618539176, 8.740418703481271, 12.268143276182904, 5.677005629126562, 5.6769406717948145, 7.873201733969592, 40.22343193974473, 16.39359406309138, 13.329390975193057, 13.464566793589348, 13.60041080267951, 16.801921930496814, 27.043205279647886, 7.006621152359876, 16.129541175001915, 13.332992460736603, 21.67222443424928, 17.59836399990194, 12.46548346713148, 22.384245396086, 15.400901554237606, 10.402074763778618, 18.47195045276228, 22.1444198863688, 26.001964433490194, 21.409333413525037, 9.065784004094269, 6.672069315914579, 4.8767846744760135, 4.278355886513382, 4.278356135356709, 4.278356480271003, 4.278355785831654, 4.27835638472386, 4.278356365552832, 3.6799259981527865, 3.679927536973757, 3.0814966016329612, 3.081497004744799, 3.0814970272161424, 3.081497147801922, 3.081497430331335, 3.081497932302374, 2.4830654335622198, 2.4830656127706425, 2.4830656051072637, 2.4830656432635303, 2.483066015219751, 2.4830661810996717, 2.4830664904216375, 2.4830660456004914, 2.4830665883954914, 2.4830663148348706, 2.4830663946284774, 2.4830664170998213, 2.483066432855035, 10.061910614755107, 5.008745395903317, 4.410961229893587, 4.413081299265864, 7.072383205921832, 22.384245396086, 3.811172960604524, 3.8146495254311885, 3.814777070381262, 11.332841312689471, 5.875611186111724, 27.043205279647886, 8.680725613387901, 13.666794696796902, 40.22343193974473, 10.138993904212294, 10.145542683558546, 16.60729905037452, 26.001964433490194, 10.872174062031728, 6.60773143007424, 7.340800281716886, 19.674988081487633, 16.142284179993833, 12.46548346713148, 8.073125481475497, 11.738062437590283], \"Category\": [\"Default\", \"Default\", \"Default\", \"Default\", \"Default\", \"Default\", \"Default\", \"Default\", \"Default\", \"Default\", \"Default\", \"Default\", \"Default\", \"Default\", \"Default\", \"Default\", \"Default\", \"Default\", \"Default\", \"Default\", \"Default\", \"Default\", \"Default\", \"Default\", \"Default\", \"Default\", \"Default\", \"Default\", \"Default\", \"Default\", \"Topic1\", \"Topic1\", \"Topic1\", \"Topic1\", \"Topic1\", \"Topic1\", \"Topic1\", \"Topic1\", \"Topic1\", \"Topic1\", \"Topic1\", \"Topic1\", \"Topic1\", \"Topic1\", \"Topic1\", \"Topic1\", \"Topic1\", \"Topic1\", \"Topic1\", \"Topic1\", \"Topic1\", \"Topic1\", \"Topic1\", \"Topic1\", \"Topic1\", \"Topic1\", \"Topic1\", \"Topic1\", \"Topic1\", \"Topic1\", \"Topic1\", \"Topic1\", \"Topic1\", \"Topic1\", \"Topic1\", \"Topic1\", \"Topic1\", \"Topic1\", \"Topic1\", \"Topic1\", \"Topic1\", \"Topic1\", \"Topic1\", \"Topic1\", \"Topic1\", \"Topic1\", \"Topic1\", \"Topic1\", \"Topic1\", \"Topic1\", \"Topic1\", \"Topic1\", \"Topic2\", \"Topic2\", \"Topic2\", \"Topic2\", \"Topic2\", \"Topic2\", \"Topic2\", \"Topic2\", \"Topic2\", \"Topic2\", \"Topic2\", \"Topic2\", \"Topic2\", \"Topic2\", \"Topic2\", \"Topic2\", \"Topic2\", \"Topic2\", \"Topic2\", \"Topic2\", \"Topic2\", \"Topic2\", \"Topic2\", \"Topic2\", \"Topic2\", \"Topic2\", \"Topic2\", \"Topic2\", \"Topic2\", \"Topic2\", \"Topic2\", \"Topic2\", \"Topic2\", \"Topic2\", \"Topic2\", \"Topic2\", \"Topic2\", \"Topic2\", \"Topic2\", \"Topic2\", \"Topic2\", \"Topic2\", \"Topic2\", \"Topic2\", \"Topic2\", \"Topic2\", \"Topic2\", \"Topic2\", \"Topic2\", \"Topic2\", \"Topic2\", \"Topic2\", \"Topic2\", \"Topic2\", \"Topic2\", \"Topic2\", \"Topic2\", \"Topic2\", \"Topic3\", \"Topic3\", \"Topic3\", \"Topic3\", \"Topic3\", \"Topic3\", \"Topic3\", \"Topic3\", \"Topic3\", \"Topic3\", \"Topic3\", \"Topic3\", \"Topic3\", \"Topic3\", \"Topic3\", \"Topic3\", \"Topic3\", \"Topic3\", \"Topic3\", \"Topic3\", \"Topic3\", \"Topic3\", \"Topic3\", \"Topic3\", \"Topic3\", \"Topic3\", \"Topic3\", \"Topic3\", \"Topic3\", \"Topic3\", \"Topic3\", \"Topic3\", \"Topic3\", \"Topic3\", \"Topic3\", \"Topic3\", \"Topic3\", \"Topic3\", \"Topic3\", \"Topic3\", \"Topic3\", \"Topic3\", \"Topic3\", \"Topic3\", \"Topic3\", \"Topic3\", \"Topic3\", \"Topic3\", \"Topic3\", \"Topic3\", \"Topic3\", \"Topic3\", \"Topic3\", \"Topic3\", \"Topic3\", \"Topic3\", \"Topic3\"], \"logprob\": [30.0, 29.0, 28.0, 27.0, 26.0, 25.0, 24.0, 23.0, 22.0, 21.0, 20.0, 19.0, 18.0, 17.0, 16.0, 15.0, 14.0, 13.0, 12.0, 11.0, 10.0, 9.0, 8.0, 7.0, 6.0, 5.0, 4.0, 3.0, 2.0, 1.0, -5.071, -5.7516, -5.8295, -5.8295, -6.0065, -6.0065, -6.0065, -6.1083, -6.1083, -6.1083, -6.1083, -5.1918, -6.2216, -6.2216, -6.2216, -6.3494, -5.5549, -6.4961, -6.4961, -6.4961, -6.4961, -6.4961, -6.4961, -6.4961, -6.4961, -6.6679, -6.6679, -6.6679, -6.6679, -6.6679, -6.0062, -6.0064, -6.1076, -5.9137, -5.7529, -5.6114, -6.0055, -5.4969, -5.4879, -5.3797, -5.6109, -5.829, -5.7424, -5.678, -5.8402, -5.8292, -5.914, -5.8294, -5.7533, -6.0064, -6.1064, -6.1075, -5.2812, -5.6789, -6.0062, -6.1079, -6.108, -6.2213, -6.3491, -6.4957, -6.4957, -6.4958, -6.4958, -5.1871, -6.6676, -6.6676, -6.6676, -6.6676, -6.6676, -6.6676, -5.8291, -6.8753, -6.8753, -6.8753, -6.8753, -6.8753, -6.8753, -6.8753, -6.8753, -6.8753, -6.2211, -5.2335, -5.234, -5.7505, -6.3481, -6.1077, -5.8286, -6.4948, -6.4949, -6.221, -4.865, -5.6114, -5.8289, -5.8291, -5.8289, -5.6789, -5.4346, -6.3489, -5.8287, -6.0058, -5.7511, -5.9139, -6.1064, -5.9145, -6.1071, -6.2214, -6.1082, -6.1076, -6.1088, -6.2051, -5.2643, -5.5915, -5.9345, -6.0811, -6.0811, -6.0811, -6.0811, -6.0811, -6.0811, -6.253, -6.253, -6.4606, -6.4606, -6.4606, -6.4606, -6.4606, -6.4606, -6.723, -6.723, -6.723, -6.723, -6.723, -6.723, -6.723, -6.723, -6.723, -6.723, -6.723, -6.723, -6.723, -5.4125, -6.08, -6.2526, -6.2527, -5.9336, -5.3356, -6.4578, -6.4602, -6.4605, -5.8052, -6.2519, -5.4978, -6.081, -5.9341, -5.4984, -6.0803, -6.0807, -5.9332, -5.8064, -6.0795, -6.2524, -6.2514, -6.081, -6.2517, -6.2521, -6.2522, -6.2523], \"loglift\": [30.0, 29.0, 28.0, 27.0, 26.0, 25.0, 24.0, 23.0, 22.0, 21.0, 20.0, 19.0, 18.0, 17.0, 16.0, 15.0, 14.0, 13.0, 12.0, 11.0, 10.0, 9.0, 8.0, 7.0, 6.0, 5.0, 4.0, 3.0, 2.0, 1.0, 0.9077, 0.886, 0.8825, 0.8825, 0.8735, 0.8735, 0.8735, 0.8676, 0.8676, 0.8676, 0.8676, 0.8641, 0.8604, 0.8604, 0.8604, 0.8512, 0.8408, 0.8392, 0.8392, 0.8392, 0.8392, 0.8392, 0.8392, 0.8392, 0.8392, 0.823, 0.823, 0.823, 0.823, 0.823, 0.7866, 0.7864, 0.7727, 0.7375, 0.712, 0.6374, 0.7211, 0.4019, 0.3772, 0.3248, 0.3724, 0.4794, 0.3518, 0.2086, 0.341, 0.3236, 0.4277, 0.217, -0.4851, 0.3355, -0.4412, 0.3099, 0.9055, 0.892, 0.8764, 0.8705, 0.8705, 0.8632, 0.854, 0.842, 0.842, 0.842, 0.8419, 0.8391, 0.8257, 0.8257, 0.8257, 0.8257, 0.8257, 0.8257, 0.811, 0.8024, 0.8024, 0.8024, 0.8024, 0.8024, 0.8024, 0.8024, 0.8024, 0.8024, 0.7759, 0.7682, 0.7676, 0.6683, 0.7362, 0.687, 0.6271, 0.7314, 0.7313, 0.6782, 0.4032, 0.5544, 0.5437, 0.5335, 0.5236, 0.4623, 0.2307, 0.6669, 0.3533, 0.3666, 0.1355, 0.1809, 0.3333, -0.0603, 0.1211, 0.3993, -0.0618, -0.2426, -0.4044, -0.3062, 1.4938, 1.4732, 1.4437, 1.428, 1.428, 1.428, 1.428, 1.428, 1.428, 1.4068, 1.4068, 1.3766, 1.3766, 1.3766, 1.3766, 1.3766, 1.3766, 1.3301, 1.3301, 1.3301, 1.3301, 1.3301, 1.3301, 1.3301, 1.3301, 1.3301, 1.3301, 1.3301, 1.3301, 1.3301, 1.2414, 1.2714, 1.226, 1.2254, 1.0728, 0.5187, 1.1669, 1.1636, 1.1633, 0.7298, 0.9399, 0.1674, 0.7205, 0.4136, -0.2302, 0.566, 0.5649, 0.2196, -0.1019, 0.4969, 0.822, 0.7178, -0.0977, -0.0705, 0.1876, 0.6219, 0.2476]}, \"token.table\": {\"Topic\": [2, 2, 1, 2, 3, 2, 2, 2, 3, 1, 1, 2, 1, 3, 1, 1, 1, 3, 1, 2, 3, 1, 2, 3, 3, 3, 1, 2, 1, 2, 1, 2, 2, 1, 1, 2, 3, 3, 1, 2, 3, 2, 1, 2, 3, 1, 1, 2, 3, 2, 1, 2, 3, 1, 2, 3, 1, 2, 3, 1, 2, 3, 3, 1, 2, 3, 2, 1, 2, 1, 2, 3, 1, 2, 1, 3, 3, 1, 2, 1, 2, 3, 2, 2, 2, 3, 2, 1, 2, 3, 1, 2, 1, 2, 3, 3, 1, 2, 3, 1, 3, 1, 2, 3, 1, 2, 3, 1, 2, 1, 2, 1, 1, 2, 3, 3, 3, 1, 2, 1, 2, 3, 1, 1, 1, 2, 3, 2, 1, 1, 3, 2, 1, 2, 3, 1, 2, 3, 1, 2, 3, 3, 1, 2, 3, 2, 3, 3, 1, 2, 3, 2, 1, 2, 1, 3, 2, 1, 2, 3, 3, 1, 2, 3, 1, 2, 3, 1, 2, 3, 1, 1, 2, 3, 3, 3, 1, 3, 1, 2, 3, 1, 2, 3, 1, 2, 1, 1, 1, 2, 3, 3, 3, 3, 1, 3, 1, 2, 3, 3, 1, 1, 2, 3, 3, 2, 3, 1, 1, 2, 3, 1, 2, 3, 1, 3, 3, 2, 3, 1, 2, 3, 2, 1, 2, 3, 2, 3, 2, 1, 2, 3, 3, 1, 2, 3, 3, 1, 1, 3, 1, 2, 3, 1, 2, 3, 1, 2, 3, 3, 1, 2, 3, 2, 3, 1, 2, 3, 1, 2, 3, 1, 2, 3, 1, 2, 3, 2], \"Freq\": [0.9203288998271452, 0.8299828350912014, 0.22058157238963322, 0.6617447171688996, 0.0735271907965444, 0.8299813531519112, 0.9624343111935103, 0.19965079495114807, 0.7986031798045923, 0.9599801829128447, 0.9822390037460694, 0.9846379282084005, 0.2621385159736363, 0.786415547920909, 0.961225481945277, 0.9778017982899017, 0.948044827659006, 0.8152337850016307, 0.17647824978900783, 0.35295649957801567, 0.4411956244725196, 0.9822388319761278, 0.8299814256387743, 0.8202125513014946, 0.8054559513663804, 0.8054559637434967, 0.9135617757074886, 0.11419522196343608, 0.9480449471082981, 0.8606218822533208, 0.357102004450427, 0.5951700074173784, 0.9203287274537919, 0.918145162521602, 0.8550423934121012, 0.10688029917651265, 0.10688029917651265, 0.8054556765656282, 0.729131324854214, 0.13256933179167527, 0.06628466589583763, 0.9993806990275602, 0.22500575237213177, 0.6000153396590181, 0.22500575237213177, 0.9822395078375379, 0.5575419128820862, 0.24779640572537165, 0.18584730429402874, 0.9147546545984635, 0.05305051492066499, 0.9018587536513047, 0.05305051492066499, 0.2486113073339973, 0.5966671376015935, 0.17402791513379812, 0.19226933524495143, 0.5768080057348542, 0.2884040028674271, 0.5384208580013355, 0.2692104290006678, 0.19229316357190554, 0.97355278794063, 0.09938470319280794, 0.19876940638561588, 0.6956929223496556, 0.9966335838870255, 0.09802187676831452, 0.8821968909148307, 0.2588450565535604, 0.4807122478851836, 0.2588450565535604, 0.9135624141452435, 0.11419530176815544, 0.9181453278588851, 0.9349385309333299, 0.8054559612576526, 0.9291469856864102, 0.05465570504037707, 0.16302385413795703, 0.7336073436208066, 0.08151192706897852, 0.9846368437877039, 0.8299809600224424, 0.8403451926856872, 0.1400575321142812, 0.920327239674128, 0.8226984580590363, 0.08226984580590363, 0.08226984580590363, 0.8724767415254504, 0.12463953450363578, 0.4872252133317166, 0.37895294370244625, 0.16240840444390553, 0.80545569523905, 0.05176863467888512, 0.828298154862162, 0.10353726935777025, 0.9822386758157159, 0.9735527427438785, 0.5819055386155773, 0.36369096163473574, 0.07273819232694716, 0.2926801849842292, 0.3658502312302865, 0.2926801849842292, 0.9968082166597105, 0.9624357214063501, 0.9968080785458447, 0.8299806308747555, 0.959980165602449, 0.14853801319120236, 0.6684210593604106, 0.14853801319120236, 0.9349384764397494, 0.899271232942451, 0.9181452066896447, 0.9203275286238093, 0.14139505324919077, 0.28279010649838154, 0.5655802129967631, 0.9149111948027747, 0.9968080772956637, 0.6072118056598361, 0.28025160261223203, 0.14012580130611602, 0.8299803117007345, 0.8584850332230302, 0.9599800984585306, 0.8152334440984929, 0.9203276716768171, 0.4928272598076786, 0.09856545196153572, 0.3942618078461429, 0.5590854720948978, 0.2541297600431353, 0.20330380803450826, 0.982238865578014, 0.2267079549969485, 0.6801238649908455, 0.973552780841146, 0.5819953234437972, 0.36374707715237325, 0.07274941543047465, 0.9846372326525893, 0.9735529152977893, 0.9349385853124467, 0.9599802286368891, 0.8807560778011806, 0.1761512155602361, 0.9172228516759914, 0.22882198986684799, 0.800876964533968, 0.982238839058965, 0.9349386073141774, 0.8299817547969423, 0.051769222714259384, 0.8283075634281502, 0.10353844542851877, 0.9349384555600726, 0.5491929461543249, 0.31382454065961424, 0.15691227032980712, 0.5075621117422706, 0.46142010158388236, 0.04614201015838824, 0.15004436464667756, 0.675199640910049, 0.22506654697001632, 0.9181455054728723, 0.07855669480175, 0.7855669480175, 0.1571133896035, 0.9735524948928063, 0.8054558208564809, 0.5759887159995842, 0.46079097279966735, 0.17019506027963796, 0.3403901205592759, 0.5105851808389139, 0.633119127073536, 0.21103970902451202, 0.14069313934967467, 0.1528326345463567, 0.7641631727317836, 0.982239413258182, 0.9149109284550834, 0.24773552753381298, 0.37160329130071945, 0.37160329130071945, 0.8054557769033216, 0.8054556447849273, 0.8054557335223664, 0.2621472807221956, 0.7864418421665867, 0.32465631848833126, 0.45451884588366376, 0.19479379109299874, 0.8054560193892227, 0.9149109861093456, 0.7929292412384799, 0.09911615515480998, 0.09911615515480998, 0.934938480629146, 0.8807460000298216, 0.17614920000596432, 0.9822387056365948, 0.2724498587682915, 0.2724498587682915, 0.40867478815243724, 0.1513378699758632, 0.3026757399517264, 0.45401360992758966, 0.2265990432051081, 0.6797971296153242, 0.9927437048947383, 0.7136107249520645, 0.14272214499041289, 0.1829983094893276, 0.6709938014608678, 0.12199887299288506, 0.9846376666250964, 0.34094078290649243, 0.45458771054198993, 0.17047039145324622, 0.26238641235568094, 0.7871592370670428, 0.8299818588685469, 0.3679116961499882, 0.27593377211249115, 0.3679116961499882, 0.9735526534829619, 0.5419303869160491, 0.18064346230534972, 0.2408579497404663, 0.8054557076389595, 0.918145361591915, 0.921209535137629, 0.07676746126146908, 0.34077174331517385, 0.4259646791439673, 0.2555788074863804, 0.12701313059024205, 0.7620787835414524, 0.12701313059024205, 0.26804566755907394, 0.3573942234120986, 0.3573942234120986, 0.8054557003497174, 0.2479921751400672, 0.5579823940651512, 0.18599413135505038, 0.829981009984629, 0.8054558307113717, 0.5678320650904007, 0.28391603254520037, 0.17034961952712022, 0.16044303498324194, 0.5615506224413468, 0.24066455247486293, 0.2958873462537181, 0.2958873462537181, 0.39451646167162413, 0.5870553424613425, 0.3161067228637998, 0.13547430979877134, 0.9203280576578421], \"Term\": [\"act\", \"actor\", \"also\", \"also\", \"also\", \"anni\", \"antonia\", \"army\", \"army\", \"astr\\u00e9e\", \"asylum\", \"authority\", \"bank\", \"bank\", \"baron\", \"baum\", \"beckert\", \"boer\", \"british\", \"british\", \"british\", \"cagliostro\", \"capital\", \"christel\", \"citizen\", \"convinced\", \"crime\", \"crime\", \"criminal\", \"crown\", \"day\", \"day\", \"depicts\", \"discover\", \"doctor\", \"doctor\", \"doctor\", \"dog\", \"dr\", \"dr\", \"dr\", \"duroy\", \"end\", \"end\", \"end\", \"erich\", \"fall\", \"fall\", \"fall\", \"family\", \"father\", \"father\", \"father\", \"film\", \"film\", \"film\", \"finally\", \"finally\", \"finally\", \"find\", \"find\", \"find\", \"flynn\", \"french\", \"french\", \"french\", \"friedemann\", \"fritz\", \"fritz\", \"german\", \"german\", \"german\", \"girl\", \"girl\", \"gis\\u00e9le\", \"gneisenau\", \"gold\", \"gray\", \"gray\", \"han\", \"han\", \"han\", \"harry\", \"hella\", \"help\", \"help\", \"henning\", \"her\", \"her\", \"her\", \"herbert\", \"herbert\", \"him\", \"him\", \"him\", \"himself\", \"hitler\", \"hitler\", \"hitler\", \"hofmeister\", \"holmes\", \"home\", \"home\", \"home\", \"however\", \"however\", \"however\", \"inge\", \"irish\", \"junta\", \"katte\", \"kent\", \"king\", \"king\", \"king\", \"kolberg\", \"kr\\u00fcger\", \"kuchenreutter\", \"laroche\", \"leader\", \"leader\", \"leader\", \"light\", \"lohmann\", \"love\", \"love\", \"love\", \"lutze\", \"l\\u00e9one\", \"mabuse\", \"macheath\", \"madeleine\", \"make\", \"make\", \"make\", \"man\", \"man\", \"man\", \"manor\", \"martha\", \"martha\", \"mcmacpherson\", \"meet\", \"meet\", \"meet\", \"michael\", \"mine\", \"miner\", \"moon\", \"much\", \"much\", \"muck\", \"music\", \"music\", \"nagel\", \"napoleon\", \"nationalist\", \"nazi\", \"nazi\", \"nazi\", \"nettelbeck\", \"old\", \"old\", \"old\", \"one\", \"one\", \"one\", \"order\", \"order\", \"order\", \"outside\", \"party\", \"party\", \"party\", \"peachum\", \"peasant\", \"pedro\", \"pedro\", \"people\", \"people\", \"people\", \"police\", \"police\", \"police\", \"polish\", \"polish\", \"professor\", \"puerto\", \"put\", \"put\", \"put\", \"queen\", \"rabbit\", \"refrigerator\", \"rescue\", \"rescue\", \"return\", \"return\", \"return\", \"rhodes\", \"rico\", \"room\", \"room\", \"room\", \"rothschild\", \"sa\", \"sa\", \"servant\", \"set\", \"set\", \"set\", \"show\", \"show\", \"show\", \"snow\", \"snow\", \"snowman\", \"soldier\", \"soldier\", \"son\", \"son\", \"son\", \"suzanne\", \"take\", \"take\", \"take\", \"treaty\", \"treaty\", \"troop\", \"try\", \"try\", \"try\", \"tsar\", \"two\", \"two\", \"two\", \"uncle\", \"vampyr\", \"village\", \"village\", \"visit\", \"visit\", \"visit\", \"von\", \"von\", \"von\", \"war\", \"war\", \"war\", \"watson\", \"wife\", \"wife\", \"wife\", \"wilhelm\", \"william\", \"woman\", \"woman\", \"woman\", \"work\", \"work\", \"work\", \"world\", \"world\", \"world\", \"young\", \"young\", \"young\", \"youth\"]}, \"R\": 30, \"lambda.step\": 0.01, \"plot.opts\": {\"xlab\": \"PC1\", \"ylab\": \"PC2\"}, \"topic.order\": [1, 2, 3]};\n",
       "\n",
       "function LDAvis_load_lib(url, callback){\n",
       "  var s = document.createElement('script');\n",
       "  s.src = url;\n",
       "  s.async = true;\n",
       "  s.onreadystatechange = s.onload = callback;\n",
       "  s.onerror = function(){console.warn(\"failed to load library \" + url);};\n",
       "  document.getElementsByTagName(\"head\")[0].appendChild(s);\n",
       "}\n",
       "\n",
       "if(typeof(LDAvis) !== \"undefined\"){\n",
       "   // already loaded: just create the visualization\n",
       "   !function(LDAvis){\n",
       "       new LDAvis(\"#\" + \"ldavis_el1284821039745856166394267984\", ldavis_el1284821039745856166394267984_data);\n",
       "   }(LDAvis);\n",
       "}else if(typeof define === \"function\" && define.amd){\n",
       "   // require.js is available: use it to load d3/LDAvis\n",
       "   require.config({paths: {d3: \"https://d3js.org/d3.v5\"}});\n",
       "   require([\"d3\"], function(d3){\n",
       "      window.d3 = d3;\n",
       "      LDAvis_load_lib(\"https://cdn.jsdelivr.net/gh/bmabey/pyLDAvis@3.3.1/pyLDAvis/js/ldavis.v3.0.0.js\", function(){\n",
       "        new LDAvis(\"#\" + \"ldavis_el1284821039745856166394267984\", ldavis_el1284821039745856166394267984_data);\n",
       "      });\n",
       "    });\n",
       "}else{\n",
       "    // require.js not available: dynamically load d3 & LDAvis\n",
       "    LDAvis_load_lib(\"https://d3js.org/d3.v5.js\", function(){\n",
       "         LDAvis_load_lib(\"https://cdn.jsdelivr.net/gh/bmabey/pyLDAvis@3.3.1/pyLDAvis/js/ldavis.v3.0.0.js\", function(){\n",
       "                 new LDAvis(\"#\" + \"ldavis_el1284821039745856166394267984\", ldavis_el1284821039745856166394267984_data);\n",
       "            })\n",
       "         });\n",
       "}\n",
       "</script>"
      ],
      "text/plain": [
       "<IPython.core.display.HTML object>"
      ]
     },
     "execution_count": 41,
     "metadata": {},
     "output_type": "execute_result"
    }
   ],
   "source": [
    "display_ger, doc_term_matrix_ger, ldamodel_ger = LDA(df_ww2_germany, num_topics=3)\n",
    "pyLDAvis.display(display_ger)"
   ]
  },
  {
   "cell_type": "code",
   "execution_count": 45,
   "id": "e6e85765",
   "metadata": {},
   "outputs": [],
   "source": [
    "# p = pyLDAvis.gensim.prepare(topic_model, corpus, dictionary)\n",
    "pyLDAvis.save_html(display_ger, 'lda.html')"
   ]
  },
  {
   "cell_type": "code",
   "execution_count": 42,
   "id": "0caf73be",
   "metadata": {},
   "outputs": [],
   "source": [
    "# assigns the topics to the summaries\n",
    "lda_corpus_ger = ldamodel_ger[doc_term_matrix_ger]"
   ]
  },
  {
   "cell_type": "code",
   "execution_count": 43,
   "id": "2d026fc9",
   "metadata": {},
   "outputs": [],
   "source": [
    "threshold = 1/3\n",
    "\n",
    "cluster1 = [j for i,j in zip(lda_corpus_ger, df_ww2_germany['movie_name']) if i[0][1] > threshold]\n",
    "cluster2 = [j for i,j in zip(lda_corpus_ger, df_ww2_germany['movie_name']) if i[1][1] > threshold]\n",
    "cluster3 = [j for i,j in zip(lda_corpus_ger, df_ww2_germany['movie_name']) if i[2][1] > threshold]"
   ]
  },
  {
   "cell_type": "code",
   "execution_count": 44,
   "id": "2053afba",
   "metadata": {},
   "outputs": [
    {
     "data": {
      "text/plain": [
       "11854                                     M\n",
       "37861                Der Raub der Mona Lisa\n",
       "44975                      Happy Ever After\n",
       "8456           Das Testament des Dr. Mabuse\n",
       "73773                        The Blue Light\n",
       "20435                       Venetian Nights\n",
       "69650                                Vampyr\n",
       "907                         The Living Dead\n",
       "58708                   Master of the World\n",
       "29362                           La Habanera\n",
       "32913                   Festliches Nürnberg\n",
       "20230                       Der Postmeister\n",
       "37997                         Wunschkonzert\n",
       "73403                       The Golden City\n",
       "64800    The Adventures of Baron Munchausen\n",
       "15526                               Titanic\n",
       "67819                              Immensee\n",
       "11306                  Die Feuerzangenbowle\n",
       "34625                  Große Freiheit Nr. 7\n",
       "68856                    Murderers Among Us\n",
       "50665                   Council of the Gods\n",
       "42329                              La Paura\n",
       "Name: movie_name, dtype: object"
      ]
     },
     "execution_count": 44,
     "metadata": {},
     "output_type": "execute_result"
    }
   ],
   "source": [
    "df_ww2_germany['movie_name'].apply(lambda x: x if x in cluster1 else np.nan).dropna()"
   ]
  },
  {
   "cell_type": "code",
   "execution_count": null,
   "id": "fbde4581",
   "metadata": {},
   "outputs": [],
   "source": []
  },
  {
   "cell_type": "code",
   "execution_count": null,
   "id": "7420496b",
   "metadata": {},
   "outputs": [],
   "source": []
  }
 ],
 "metadata": {
  "kernelspec": {
   "display_name": "Python 3 (ipykernel)",
   "language": "python",
   "name": "python3"
  },
  "language_info": {
   "codemirror_mode": {
    "name": "ipython",
    "version": 3
   },
   "file_extension": ".py",
   "mimetype": "text/x-python",
   "name": "python",
   "nbconvert_exporter": "python",
   "pygments_lexer": "ipython3",
   "version": "3.9.7"
  }
 },
 "nbformat": 4,
 "nbformat_minor": 5
}
