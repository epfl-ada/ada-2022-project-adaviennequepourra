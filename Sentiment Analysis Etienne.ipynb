{
 "cells": [
  {
   "cell_type": "code",
   "execution_count": 1,
   "id": "d6e8a2dd",
   "metadata": {},
   "outputs": [],
   "source": [
    "import pandas as pd\n",
    "import numpy as np\n",
    "import matplotlib.pyplot as plt\n",
    "%matplotlib inline\n",
    "import seaborn as sns\n",
    "import math\n",
    "import datetime\n",
    "\n",
    "%load_ext autoreload\n",
    "%autoreload 2\n",
    "\n",
    "import warnings; warnings.simplefilter('ignore')\n",
    "import os, codecs, string, random\n",
    "from numpy.random import seed as random_seed\n",
    "from numpy.random import shuffle as random_shuffle\n",
    "\n",
    "seed = 42\n",
    "random.seed(seed)\n",
    "np.random.seed(seed)\n",
    "\n",
    "#NLP libraries\n",
    "import spacy, nltk, gensim, sklearn\n",
    "import pyLDAvis.gensim_models\n",
    "#import pyLDAvis.gensim #LDA visualization library\n",
    "\n",
    "import gensim #the library for Topic modelling\n",
    "from gensim.models.ldamulticore import LdaMulticore\n",
    "from gensim import corpora, models\n",
    "from nltk.corpus import stopwords\n",
    "import string\n",
    "from nltk.stem.wordnet import WordNetLemmatizer\n",
    "\n",
    "\n",
    "#Vader\n",
    "import vaderSentiment\n",
    "from vaderSentiment.vaderSentiment import SentimentIntensityAnalyzer"
   ]
  },
  {
   "cell_type": "code",
   "execution_count": 2,
   "id": "b6de807a",
   "metadata": {},
   "outputs": [],
   "source": [
    "data_folder = './MovieSummaries/'\n",
    "\n",
    "summaries = pd.read_csv(data_folder+'plot_summaries.txt', sep='\t', header=None, names=[\"wiki_id\", \"summary\"])\n",
    "movie_meta = pd.read_csv(data_folder+'movie.metadata.tsv', sep='\t', header=None, names=[\"wiki_id\", \"freebase_id\", \"movie_name\", \"release_date\", \"revenue\", \"runtime\", \"languages\", \"coutries\", \"genres\"])\n",
    "char_meta = pd.read_csv(data_folder+'character.metadata.tsv', sep='\t', header=None, names=[\"wiki_id\", \"freebase_id\", \"release_date\", \"character_name\", \"birth\", \"gender\", \"height\", \"ethnicity\", \"actor_name\", \"actor_age\", \"character_actor_map\", \"character_id\", \"actor_id\"])"
   ]
  },
  {
   "cell_type": "code",
   "execution_count": 3,
   "id": "3ee2b229",
   "metadata": {},
   "outputs": [],
   "source": [
    "# mergin databases\n",
    "summaries = summaries.merge(movie_meta, on=\"wiki_id\", how = 'right')\n",
    "summaries[\"languages\"] = summaries.apply(lambda x: list(eval(x[\"languages\"]).values()), axis=1)\n",
    "summaries[\"coutries\"] = summaries.apply(lambda x: list(eval(x[\"coutries\"]).values()), axis=1)\n",
    "summaries[\"genres\"] = summaries.apply(lambda x: list(eval(x[\"genres\"]).values()), axis=1)"
   ]
  },
  {
   "cell_type": "code",
   "execution_count": 4,
   "id": "dd9e4e16",
   "metadata": {},
   "outputs": [
    {
     "data": {
      "text/html": [
       "<div>\n",
       "<style scoped>\n",
       "    .dataframe tbody tr th:only-of-type {\n",
       "        vertical-align: middle;\n",
       "    }\n",
       "\n",
       "    .dataframe tbody tr th {\n",
       "        vertical-align: top;\n",
       "    }\n",
       "\n",
       "    .dataframe thead th {\n",
       "        text-align: right;\n",
       "    }\n",
       "</style>\n",
       "<table border=\"1\" class=\"dataframe\">\n",
       "  <thead>\n",
       "    <tr style=\"text-align: right;\">\n",
       "      <th></th>\n",
       "      <th>wiki_id</th>\n",
       "      <th>summary</th>\n",
       "      <th>freebase_id</th>\n",
       "      <th>movie_name</th>\n",
       "      <th>release_date</th>\n",
       "      <th>revenue</th>\n",
       "      <th>runtime</th>\n",
       "      <th>languages</th>\n",
       "      <th>coutries</th>\n",
       "      <th>genres</th>\n",
       "    </tr>\n",
       "  </thead>\n",
       "  <tbody>\n",
       "    <tr>\n",
       "      <th>0</th>\n",
       "      <td>975900</td>\n",
       "      <td>Set in the second half of the 22nd century, th...</td>\n",
       "      <td>/m/03vyhn</td>\n",
       "      <td>Ghosts of Mars</td>\n",
       "      <td>2001-08-24</td>\n",
       "      <td>14010832.0</td>\n",
       "      <td>98.0</td>\n",
       "      <td>[English Language]</td>\n",
       "      <td>[United States of America]</td>\n",
       "      <td>[Thriller, Science Fiction, Horror, Adventure,...</td>\n",
       "    </tr>\n",
       "    <tr>\n",
       "      <th>1</th>\n",
       "      <td>3196793</td>\n",
       "      <td>NaN</td>\n",
       "      <td>/m/08yl5d</td>\n",
       "      <td>Getting Away with Murder: The JonBenét Ramsey ...</td>\n",
       "      <td>2000-02-16</td>\n",
       "      <td>NaN</td>\n",
       "      <td>95.0</td>\n",
       "      <td>[English Language]</td>\n",
       "      <td>[United States of America]</td>\n",
       "      <td>[Mystery, Biographical film, Drama, Crime Drama]</td>\n",
       "    </tr>\n",
       "    <tr>\n",
       "      <th>2</th>\n",
       "      <td>28463795</td>\n",
       "      <td>NaN</td>\n",
       "      <td>/m/0crgdbh</td>\n",
       "      <td>Brun bitter</td>\n",
       "      <td>1988</td>\n",
       "      <td>NaN</td>\n",
       "      <td>83.0</td>\n",
       "      <td>[Norwegian Language]</td>\n",
       "      <td>[Norway]</td>\n",
       "      <td>[Crime Fiction, Drama]</td>\n",
       "    </tr>\n",
       "    <tr>\n",
       "      <th>3</th>\n",
       "      <td>9363483</td>\n",
       "      <td>A series of murders of rich young women throug...</td>\n",
       "      <td>/m/0285_cd</td>\n",
       "      <td>White Of The Eye</td>\n",
       "      <td>1987</td>\n",
       "      <td>NaN</td>\n",
       "      <td>110.0</td>\n",
       "      <td>[English Language]</td>\n",
       "      <td>[United Kingdom]</td>\n",
       "      <td>[Thriller, Erotic thriller, Psychological thri...</td>\n",
       "    </tr>\n",
       "    <tr>\n",
       "      <th>4</th>\n",
       "      <td>261236</td>\n",
       "      <td>Eva, an upper class housewife, becomes frustra...</td>\n",
       "      <td>/m/01mrr1</td>\n",
       "      <td>A Woman in Flames</td>\n",
       "      <td>1983</td>\n",
       "      <td>NaN</td>\n",
       "      <td>106.0</td>\n",
       "      <td>[German Language]</td>\n",
       "      <td>[Germany]</td>\n",
       "      <td>[Drama]</td>\n",
       "    </tr>\n",
       "  </tbody>\n",
       "</table>\n",
       "</div>"
      ],
      "text/plain": [
       "    wiki_id                                            summary freebase_id  \\\n",
       "0    975900  Set in the second half of the 22nd century, th...   /m/03vyhn   \n",
       "1   3196793                                                NaN   /m/08yl5d   \n",
       "2  28463795                                                NaN  /m/0crgdbh   \n",
       "3   9363483  A series of murders of rich young women throug...  /m/0285_cd   \n",
       "4    261236  Eva, an upper class housewife, becomes frustra...   /m/01mrr1   \n",
       "\n",
       "                                          movie_name release_date     revenue  \\\n",
       "0                                     Ghosts of Mars   2001-08-24  14010832.0   \n",
       "1  Getting Away with Murder: The JonBenét Ramsey ...   2000-02-16         NaN   \n",
       "2                                        Brun bitter         1988         NaN   \n",
       "3                                   White Of The Eye         1987         NaN   \n",
       "4                                  A Woman in Flames         1983         NaN   \n",
       "\n",
       "   runtime             languages                    coutries  \\\n",
       "0     98.0    [English Language]  [United States of America]   \n",
       "1     95.0    [English Language]  [United States of America]   \n",
       "2     83.0  [Norwegian Language]                    [Norway]   \n",
       "3    110.0    [English Language]            [United Kingdom]   \n",
       "4    106.0     [German Language]                   [Germany]   \n",
       "\n",
       "                                              genres  \n",
       "0  [Thriller, Science Fiction, Horror, Adventure,...  \n",
       "1   [Mystery, Biographical film, Drama, Crime Drama]  \n",
       "2                             [Crime Fiction, Drama]  \n",
       "3  [Thriller, Erotic thriller, Psychological thri...  \n",
       "4                                            [Drama]  "
      ]
     },
     "execution_count": 4,
     "metadata": {},
     "output_type": "execute_result"
    }
   ],
   "source": [
    "summaries.head()"
   ]
  },
  {
   "cell_type": "code",
   "execution_count": 5,
   "id": "d8d7487e",
   "metadata": {},
   "outputs": [
    {
     "data": {
      "text/plain": [
       "81741"
      ]
     },
     "execution_count": 5,
     "metadata": {},
     "output_type": "execute_result"
    }
   ],
   "source": [
    "len(summaries)"
   ]
  },
  {
   "cell_type": "code",
   "execution_count": 6,
   "id": "fbbad010",
   "metadata": {},
   "outputs": [],
   "source": [
    "# df is used for average sentiment analysis over movies\n",
    "df = summaries.copy()"
   ]
  },
  {
   "cell_type": "code",
   "execution_count": 7,
   "id": "c7cac817",
   "metadata": {},
   "outputs": [],
   "source": [
    "df.loc[df['wiki_id']== 29666067, 'release_date'] = datetime.datetime(2010, 12, 2)\n",
    "dates = pd.to_datetime(df['release_date'])\n",
    "df['release_date'] = dates"
   ]
  },
  {
   "cell_type": "code",
   "execution_count": 8,
   "id": "c4f068da",
   "metadata": {},
   "outputs": [],
   "source": [
    "df = df.sort_values(by=['release_date'])"
   ]
  },
  {
   "cell_type": "code",
   "execution_count": 9,
   "id": "4f21c81d",
   "metadata": {},
   "outputs": [],
   "source": [
    "df = df.dropna(subset=['summary'])"
   ]
  },
  {
   "cell_type": "code",
   "execution_count": 10,
   "id": "3354afb2",
   "metadata": {},
   "outputs": [
    {
     "data": {
      "text/html": [
       "<div>\n",
       "<style scoped>\n",
       "    .dataframe tbody tr th:only-of-type {\n",
       "        vertical-align: middle;\n",
       "    }\n",
       "\n",
       "    .dataframe tbody tr th {\n",
       "        vertical-align: top;\n",
       "    }\n",
       "\n",
       "    .dataframe thead th {\n",
       "        text-align: right;\n",
       "    }\n",
       "</style>\n",
       "<table border=\"1\" class=\"dataframe\">\n",
       "  <thead>\n",
       "    <tr style=\"text-align: right;\">\n",
       "      <th></th>\n",
       "      <th>wiki_id</th>\n",
       "      <th>summary</th>\n",
       "      <th>freebase_id</th>\n",
       "      <th>movie_name</th>\n",
       "      <th>release_date</th>\n",
       "      <th>revenue</th>\n",
       "      <th>runtime</th>\n",
       "      <th>languages</th>\n",
       "      <th>coutries</th>\n",
       "      <th>genres</th>\n",
       "    </tr>\n",
       "  </thead>\n",
       "  <tbody>\n",
       "    <tr>\n",
       "      <th>25563</th>\n",
       "      <td>73372</td>\n",
       "      <td>The scene is all filmed from a stationary came...</td>\n",
       "      <td>/m/0jq3g</td>\n",
       "      <td>Blacksmith Scene</td>\n",
       "      <td>1893-01-01</td>\n",
       "      <td>NaN</td>\n",
       "      <td>0.566667</td>\n",
       "      <td>[Silent film]</td>\n",
       "      <td>[United States of America]</td>\n",
       "      <td>[Short Film, Silent film, Indie, Black-and-white]</td>\n",
       "    </tr>\n",
       "    <tr>\n",
       "      <th>67253</th>\n",
       "      <td>10109752</td>\n",
       "      <td>After finding out that her father is suffering...</td>\n",
       "      <td>/m/02q23xk</td>\n",
       "      <td>Miss Jerry</td>\n",
       "      <td>1894-10-09</td>\n",
       "      <td>NaN</td>\n",
       "      <td>NaN</td>\n",
       "      <td>[Silent film]</td>\n",
       "      <td>[United States of America]</td>\n",
       "      <td>[Short Film, Silent film, Indie, Black-and-white]</td>\n",
       "    </tr>\n",
       "    <tr>\n",
       "      <th>81230</th>\n",
       "      <td>10104497</td>\n",
       "      <td>James J. Corbett and Peter Courtney both take ...</td>\n",
       "      <td>/m/02q1zd3</td>\n",
       "      <td>Corbett and Courtney Before the Kinetograph</td>\n",
       "      <td>1894-11-17</td>\n",
       "      <td>NaN</td>\n",
       "      <td>NaN</td>\n",
       "      <td>[Silent film]</td>\n",
       "      <td>[United States of America]</td>\n",
       "      <td>[Short Film, Silent film, Indie, Black-and-white]</td>\n",
       "    </tr>\n",
       "    <tr>\n",
       "      <th>67567</th>\n",
       "      <td>10330688</td>\n",
       "      <td>The film consists of a series of animations on...</td>\n",
       "      <td>/m/02q8pr6</td>\n",
       "      <td>Autour d'une cabine</td>\n",
       "      <td>1895-01-01</td>\n",
       "      <td>NaN</td>\n",
       "      <td>15.000000</td>\n",
       "      <td>[Silent film]</td>\n",
       "      <td>[France]</td>\n",
       "      <td>[Short Film, Silent film, Animation, Comedy, I...</td>\n",
       "    </tr>\n",
       "    <tr>\n",
       "      <th>73179</th>\n",
       "      <td>10483292</td>\n",
       "      <td>Two men stand working as blacksmiths. The one ...</td>\n",
       "      <td>/m/02qfh7r</td>\n",
       "      <td>Les Forgerons</td>\n",
       "      <td>1895-01-01</td>\n",
       "      <td>NaN</td>\n",
       "      <td>0.816667</td>\n",
       "      <td>[Silent film]</td>\n",
       "      <td>[France]</td>\n",
       "      <td>[Short Film, Silent film, Indie, Black-and-whi...</td>\n",
       "    </tr>\n",
       "  </tbody>\n",
       "</table>\n",
       "</div>"
      ],
      "text/plain": [
       "        wiki_id                                            summary  \\\n",
       "25563     73372  The scene is all filmed from a stationary came...   \n",
       "67253  10109752  After finding out that her father is suffering...   \n",
       "81230  10104497  James J. Corbett and Peter Courtney both take ...   \n",
       "67567  10330688  The film consists of a series of animations on...   \n",
       "73179  10483292  Two men stand working as blacksmiths. The one ...   \n",
       "\n",
       "      freebase_id                                   movie_name release_date  \\\n",
       "25563    /m/0jq3g                             Blacksmith Scene   1893-01-01   \n",
       "67253  /m/02q23xk                                   Miss Jerry   1894-10-09   \n",
       "81230  /m/02q1zd3  Corbett and Courtney Before the Kinetograph   1894-11-17   \n",
       "67567  /m/02q8pr6                          Autour d'une cabine   1895-01-01   \n",
       "73179  /m/02qfh7r                                Les Forgerons   1895-01-01   \n",
       "\n",
       "       revenue    runtime      languages                    coutries  \\\n",
       "25563      NaN   0.566667  [Silent film]  [United States of America]   \n",
       "67253      NaN        NaN  [Silent film]  [United States of America]   \n",
       "81230      NaN        NaN  [Silent film]  [United States of America]   \n",
       "67567      NaN  15.000000  [Silent film]                    [France]   \n",
       "73179      NaN   0.816667  [Silent film]                    [France]   \n",
       "\n",
       "                                                  genres  \n",
       "25563  [Short Film, Silent film, Indie, Black-and-white]  \n",
       "67253  [Short Film, Silent film, Indie, Black-and-white]  \n",
       "81230  [Short Film, Silent film, Indie, Black-and-white]  \n",
       "67567  [Short Film, Silent film, Animation, Comedy, I...  \n",
       "73179  [Short Film, Silent film, Indie, Black-and-whi...  "
      ]
     },
     "execution_count": 10,
     "metadata": {},
     "output_type": "execute_result"
    }
   ],
   "source": [
    "df.head()"
   ]
  },
  {
   "cell_type": "code",
   "execution_count": 11,
   "id": "d4537ecc",
   "metadata": {},
   "outputs": [
    {
     "data": {
      "text/plain": [
       "42204"
      ]
     },
     "execution_count": 11,
     "metadata": {},
     "output_type": "execute_result"
    }
   ],
   "source": [
    "len(df)"
   ]
  },
  {
   "cell_type": "markdown",
   "id": "02597004",
   "metadata": {},
   "source": [
    "Here we have that df contains all the movies with their informations, ordered by release date with a existing summary. We will use this to derive all our other dataframes (per countries, per date). We have 42204 movies compared to 81741 before."
   ]
  },
  {
   "cell_type": "code",
   "execution_count": 12,
   "id": "6d41b431",
   "metadata": {},
   "outputs": [],
   "source": [
    "analyzer = SentimentIntensityAnalyzer()"
   ]
  },
  {
   "cell_type": "code",
   "execution_count": 13,
   "id": "7a62d1e7",
   "metadata": {},
   "outputs": [],
   "source": [
    "def get_country_movies(df, country):\n",
    "    return df[df.coutries.apply(lambda x : country in x)]"
   ]
  },
  {
   "cell_type": "code",
   "execution_count": 14,
   "id": "9bfe1c4e",
   "metadata": {},
   "outputs": [],
   "source": [
    "def create_history_span(df, begin, end):\n",
    "    return df.loc[(df.release_date.dt.year < end) & (df.release_date.dt.year > begin)]"
   ]
  },
  {
   "cell_type": "code",
   "execution_count": 15,
   "id": "aedd8500",
   "metadata": {},
   "outputs": [],
   "source": [
    "def plot_sentiment_country_span(span, attribute, year:bool):\n",
    "    fig, axs = plt.subplots(figsize=(25, 5))\n",
    "    if year:\n",
    "        sentiments = span.groupby(span.release_date.dt.year)[attribute].mean()\n",
    "    else:\n",
    "        sentiments = span.groupby(span.release_date)[attribute].mean()\n",
    "    sentiments.plot(kind='bar', rot=90, ax=axs)"
   ]
  },
  {
   "cell_type": "code",
   "execution_count": 16,
   "id": "77c733d5",
   "metadata": {},
   "outputs": [],
   "source": [
    "def sentiment_df(df):\n",
    "    \n",
    "    df_copy = df.copy()\n",
    "    \n",
    "    # calculate the sentiment over the summaries\n",
    "    df_copy['sentiment'] = df_copy['summary'].apply(lambda x: analyzer.polarity_scores(x))\n",
    "\n",
    "    # isolate the most interesting values\n",
    "    df_copy['positive'] = df_copy['sentiment'].apply(lambda x: x['pos'])\n",
    "    df_copy['neutral'] = df_copy['sentiment'].apply(lambda x: x['neu'])\n",
    "    df_copy['negative'] = df_copy['sentiment'].apply(lambda x: x['neg'])\n",
    "    df_copy['compound'] = df_copy['sentiment'].apply(lambda x: x['compound'])\n",
    "    \n",
    "    return df_copy"
   ]
  },
  {
   "cell_type": "markdown",
   "id": "5b6cac28",
   "metadata": {},
   "source": [
    "Firstly we'll just look at movies made around the WW2, that is from 1930 to 1955."
   ]
  },
  {
   "cell_type": "code",
   "execution_count": 17,
   "id": "01265da0",
   "metadata": {},
   "outputs": [],
   "source": [
    "begin = 1930\n",
    "end = 1955"
   ]
  },
  {
   "cell_type": "code",
   "execution_count": 18,
   "id": "885ef01d",
   "metadata": {},
   "outputs": [
    {
     "name": "stdout",
     "output_type": "stream",
     "text": [
      "There is 5341 movies made worldwide bewteen 1930 and 1955\n"
     ]
    }
   ],
   "source": [
    "df_ww2 = create_history_span(df, begin, end)\n",
    "print(\"There is\", len(df_ww2), \"movies made worldwide bewteen\", begin, \"and\", end)"
   ]
  },
  {
   "cell_type": "markdown",
   "id": "394c7cfa",
   "metadata": {},
   "source": [
    "We will first run a sentiment analysis over all **german** movie during this period **(1930 to 1955)**."
   ]
  },
  {
   "cell_type": "code",
   "execution_count": 19,
   "id": "ae1f1e7a",
   "metadata": {},
   "outputs": [],
   "source": [
    "# get all the german movies\n",
    "df_ww2_germany = get_country_movies(df_ww2, 'Germany')\n",
    "\n",
    "# calculate sentiment and add it nicely to the df\n",
    "df_ww2_germany = sentiment_df(df_ww2_germany)"
   ]
  },
  {
   "cell_type": "code",
   "execution_count": 20,
   "id": "9bb0774f",
   "metadata": {},
   "outputs": [
    {
     "name": "stdout",
     "output_type": "stream",
     "text": [
      "There is 69 movies made in Germany bewteen 1930 and 1955\n"
     ]
    }
   ],
   "source": [
    "print(\"There is\", len(df_ww2_germany), \"movies made in Germany bewteen\", begin, \"and\", end)"
   ]
  },
  {
   "cell_type": "code",
   "execution_count": 21,
   "id": "9cf901e4",
   "metadata": {},
   "outputs": [
    {
     "data": {
      "image/png": "[encoded data removed]",
      "text/plain": [
       "<Figure size 1800x360 with 1 Axes>"
      ]
     },
     "metadata": {
      "needs_background": "light"
     },
     "output_type": "display_data"
    }
   ],
   "source": [
    "plot_sentiment_country_span(df_ww2_germany, 'compound', year=True)"
   ]
  },
  {
   "cell_type": "markdown",
   "id": "74435a4f",
   "metadata": {},
   "source": [
    "Seeing the compound value of all the movies at this period we can clearly see that the post war (1946-1951) overall sentiment is negative.\n",
    "\n",
    "---"
   ]
  },
  {
   "cell_type": "markdown",
   "id": "0f59f6bf",
   "metadata": {},
   "source": [
    "We then run a sentiment analysis over all **french** movie during this period **(1930 to 1955)**."
   ]
  },
  {
   "cell_type": "code",
   "execution_count": 22,
   "id": "6deb4681",
   "metadata": {},
   "outputs": [],
   "source": [
    "# get all the french movies\n",
    "df_ww2_french = get_country_movies(df_ww2, 'France')\n",
    "\n",
    "# calculate sentiment and add it nicely to the df\n",
    "df_ww2_french = sentiment_df(df_ww2_french)"
   ]
  },
  {
   "cell_type": "code",
   "execution_count": 23,
   "id": "e027b7de",
   "metadata": {},
   "outputs": [
    {
     "name": "stdout",
     "output_type": "stream",
     "text": [
      "There is 100 movies made in France bewteen 1930 and 1955\n"
     ]
    }
   ],
   "source": [
    "print(\"There is\", len(df_ww2_french), \"movies made in France bewteen\", begin, \"and\", end)"
   ]
  },
  {
   "cell_type": "code",
   "execution_count": 24,
   "id": "20eb0f7d",
   "metadata": {},
   "outputs": [
    {
     "data": {
      "image/png": "[encoded data removed]",
      "text/plain": [
       "<Figure size 1800x360 with 1 Axes>"
      ]
     },
     "metadata": {
      "needs_background": "light"
     },
     "output_type": "display_data"
    }
   ],
   "source": [
    "plot_sentiment_country_span(df_ww2_french, 'compound', year=True)"
   ]
  },
  {
   "cell_type": "markdown",
   "id": "bae4db22",
   "metadata": {},
   "source": [
    "We can't see any form of pattern here ?... Except the 1945 year that is very positive (victory for France)\n",
    "\n",
    "---"
   ]
  },
  {
   "cell_type": "markdown",
   "id": "54a03c03",
   "metadata": {},
   "source": [
    "We then run a sentiment analysis over all **italy** movie during this period **(1930 to 1955)**."
   ]
  },
  {
   "cell_type": "code",
   "execution_count": 25,
   "id": "ab8ac182",
   "metadata": {},
   "outputs": [],
   "source": [
    "# get all the french movies\n",
    "df_ww2_italy = get_country_movies(df_ww2, 'Italy')\n",
    "\n",
    "# calculate sentiment and add it nicely to the df\n",
    "df_ww2_italy = sentiment_df(df_ww2_italy)"
   ]
  },
  {
   "cell_type": "code",
   "execution_count": 26,
   "id": "7e08ab4e",
   "metadata": {},
   "outputs": [
    {
     "name": "stdout",
     "output_type": "stream",
     "text": [
      "There is 73 movies made in Italy bewteen 1930 and 1955\n"
     ]
    }
   ],
   "source": [
    "print(\"There is\", len(df_ww2_italy), \"movies made in Italy bewteen\", begin, \"and\", end)"
   ]
  },
  {
   "cell_type": "code",
   "execution_count": 27,
   "id": "f3536bfd",
   "metadata": {},
   "outputs": [
    {
     "data": {
      "image/png": "[encoded data removed]",
      "text/plain": [
       "<Figure size 1800x360 with 1 Axes>"
      ]
     },
     "metadata": {
      "needs_background": "light"
     },
     "output_type": "display_data"
    }
   ],
   "source": [
    "plot_sentiment_country_span(df_ww2_italy, 'compound', year=True)"
   ]
  },
  {
   "cell_type": "markdown",
   "id": "ca88e742",
   "metadata": {},
   "source": [
    "Seeing the compound value of all the movies at this period we can clearly see that the post war (1945-1949) overall sentiment is negative.\n",
    "\n",
    "---"
   ]
  },
  {
   "cell_type": "markdown",
   "id": "0f10da06",
   "metadata": {},
   "source": [
    "We then run a sentiment analysis over all **united kingdom** movie during this period **(1930 to 1955)**."
   ]
  },
  {
   "cell_type": "code",
   "execution_count": 28,
   "id": "9fca0a4b",
   "metadata": {},
   "outputs": [],
   "source": [
    "# get all the UK movies\n",
    "df_ww2_UK = get_country_movies(df_ww2, 'United Kingdom')\n",
    "\n",
    "# calculate sentiment and add it nicely to the df\n",
    "df_ww2_UK = sentiment_df(df_ww2_UK)"
   ]
  },
  {
   "cell_type": "code",
   "execution_count": 29,
   "id": "96c455dd",
   "metadata": {},
   "outputs": [
    {
     "name": "stdout",
     "output_type": "stream",
     "text": [
      "There is 593 movies made in UK bewteen 1930 and 1955\n"
     ]
    }
   ],
   "source": [
    "print(\"There is\", len(df_ww2_UK), \"movies made in UK bewteen\", begin, \"and\", end)"
   ]
  },
  {
   "cell_type": "code",
   "execution_count": 30,
   "id": "4ab9302d",
   "metadata": {},
   "outputs": [
    {
     "data": {
      "image/png": "[encoded data removed]",
      "text/plain": [
       "<Figure size 1800x360 with 1 Axes>"
      ]
     },
     "metadata": {
      "needs_background": "light"
     },
     "output_type": "display_data"
    }
   ],
   "source": [
    "plot_sentiment_country_span(df_ww2_UK, 'compound', year=True)"
   ]
  },
  {
   "cell_type": "markdown",
   "id": "f89e3e19",
   "metadata": {},
   "source": [
    "Seeing the compound value of all the movies at this period we can see that the war (1939-1945) overall sentiment is negative, execpt the last year (vicory for UK) where it is positive. \n",
    "Also the post war period is tainted with negativity  (1946 - 1951)\n",
    "\n",
    "---"
   ]
  },
  {
   "cell_type": "markdown",
   "id": "e4fea1c1",
   "metadata": {},
   "source": [
    "We then run a sentiment analysis over all **soviet union** movie during this period **(1930 to 1955)**."
   ]
  },
  {
   "cell_type": "code",
   "execution_count": 31,
   "id": "2b8ae8cb",
   "metadata": {},
   "outputs": [],
   "source": [
    "# get all the Russian movies\n",
    "df_ww2_SovietUnion = get_country_movies(df_ww2, 'Soviet Union')\n",
    "\n",
    "# calculate sentiment and add it nicely to the df\n",
    "df_ww2_SovietUnion = sentiment_df(df_ww2_SovietUnion)"
   ]
  },
  {
   "cell_type": "code",
   "execution_count": 32,
   "id": "249442cd",
   "metadata": {},
   "outputs": [
    {
     "name": "stdout",
     "output_type": "stream",
     "text": [
      "There is 24 movies made in Soviet Union bewteen 1930 and 1955\n"
     ]
    }
   ],
   "source": [
    "print(\"There is\", len(df_ww2_SovietUnion), \"movies made in Soviet Union bewteen\", begin, \"and\", end)"
   ]
  },
  {
   "cell_type": "code",
   "execution_count": 33,
   "id": "9b586862",
   "metadata": {},
   "outputs": [
    {
     "data": {
      "image/png": "[encoded data removed]",
      "text/plain": [
       "<Figure size 1800x360 with 1 Axes>"
      ]
     },
     "metadata": {
      "needs_background": "light"
     },
     "output_type": "display_data"
    }
   ],
   "source": [
    "plot_sentiment_country_span(df_ww2_SovietUnion, 'compound', year=True)"
   ]
  },
  {
   "cell_type": "markdown",
   "id": "12e074ab",
   "metadata": {},
   "source": [
    "We then run a sentiment analysis over all **USA** movie during this period **(1930 to 1955)**."
   ]
  },
  {
   "cell_type": "code",
   "execution_count": 34,
   "id": "f99004dc",
   "metadata": {},
   "outputs": [],
   "source": [
    "# get all the USA movies\n",
    "df_ww2_USA = get_country_movies(df_ww2, 'United States of America')\n",
    "\n",
    "# calculate sentiment and add it nicely to the df\n",
    "df_ww2_USA = sentiment_df(df_ww2_USA)"
   ]
  },
  {
   "cell_type": "code",
   "execution_count": 35,
   "id": "b32323dd",
   "metadata": {},
   "outputs": [
    {
     "name": "stdout",
     "output_type": "stream",
     "text": [
      "There is 3863 movies made in USA bewteen 1930 and 1955\n"
     ]
    }
   ],
   "source": [
    "print(\"There is\", len(df_ww2_USA), \"movies made in USA bewteen\", begin, \"and\", end)"
   ]
  },
  {
   "cell_type": "code",
   "execution_count": 36,
   "id": "e6d77640",
   "metadata": {},
   "outputs": [
    {
     "data": {
      "image/png": "[encoded data removed]",
      "text/plain": [
       "<Figure size 1800x360 with 1 Axes>"
      ]
     },
     "metadata": {
      "needs_background": "light"
     },
     "output_type": "display_data"
    }
   ],
   "source": [
    "plot_sentiment_country_span(df_ww2_USA, 'compound', year=True)"
   ]
  },
  {
   "cell_type": "markdown",
   "id": "671ba4fa",
   "metadata": {},
   "source": [
    "Seeing the compound value of all the movies at this period we can see that the war and prewar (1941-1951) overall sentiment is very negative. There is a clear mark between before the involvement of USA in the war and after.\n",
    "\n",
    "---"
   ]
  },
  {
   "cell_type": "markdown",
   "id": "1b34a28b",
   "metadata": {},
   "source": [
    "We then run a sentiment analysis over all **Japan** movie during this period **(1930 to 1955)**."
   ]
  },
  {
   "cell_type": "code",
   "execution_count": 37,
   "id": "7ab471b8",
   "metadata": {},
   "outputs": [],
   "source": [
    "# get all the Japan movies\n",
    "df_ww2_japan = get_country_movies(df_ww2, 'Japan')\n",
    "\n",
    "# calculate sentiment and add it nicely to the df\n",
    "df_ww2_japan = sentiment_df(df_ww2_japan)"
   ]
  },
  {
   "cell_type": "code",
   "execution_count": 38,
   "id": "7ded97af",
   "metadata": {},
   "outputs": [
    {
     "name": "stdout",
     "output_type": "stream",
     "text": [
      "There is 44 movies made in Japan bewteen 1930 and 1955\n"
     ]
    }
   ],
   "source": [
    "print(\"There is\", len(df_ww2_japan), \"movies made in Japan bewteen\", begin, \"and\", end)"
   ]
  },
  {
   "cell_type": "code",
   "execution_count": 39,
   "id": "64621547",
   "metadata": {},
   "outputs": [
    {
     "data": {
      "image/png": "[encoded data removed]",
      "text/plain": [
       "<Figure size 1800x360 with 1 Axes>"
      ]
     },
     "metadata": {
      "needs_background": "light"
     },
     "output_type": "display_data"
    }
   ],
   "source": [
    "plot_sentiment_country_span(df_ww2_japan, 'compound', year=True)"
   ]
  },
  {
   "cell_type": "markdown",
   "id": "75e6b01f",
   "metadata": {},
   "source": [
    "Pre war (before 1939)  is pretty positive. The rest of the period is moslty negative.\n",
    "\n",
    "---"
   ]
  },
  {
   "cell_type": "markdown",
   "id": "eb7e2a67",
   "metadata": {},
   "source": [
    "### We will now do LDA."
   ]
  },
  {
   "cell_type": "code",
   "execution_count": 72,
   "id": "a83d2b14",
   "metadata": {},
   "outputs": [],
   "source": [
    "lemma = WordNetLemmatizer()\n",
    "stopwords_set = set(stopwords.words('english'))\n",
    "punctuation_set = set(string.punctuation)\n",
    "names_set = {'lucas', 'pierre', 'baptiste', 'garance', 'marius', 'jean', 'roxane', 'jeanne', 'george', 'émile', 'louis', 'louise', 'robert', \n",
    "             'mario', 'françois', 'fanny', 'liliom', 'michel', 'frédérick', 'christina', 'christian', 'christine', 'andré', 'george', \n",
    "             'edmund', 'julie', 'marie', 'jo', 'anne', 'genevieve'}\n",
    "\n",
    "\n",
    "# remove stopwords and punctuation\n",
    "def clean_text(text):\n",
    "    no_stopwords = ' '.join([word for word in text.lower().split() if word not in stopwords_set])\n",
    "    no_punctuation = ''.join(ch for ch in no_stopwords if ch not in punctuation_set)\n",
    "    no_names = ' '.join([word for word in no_punctuation.split() if word not in names_set])\n",
    "    return no_names\n",
    "\n",
    "# lemmatize the text\n",
    "def lemmatize(text):\n",
    "    lemmatized = ' '.join([lemma.lemmatize(word) for word in text.split()])\n",
    "    return lemmatized.split()\n",
    "\n",
    "# compute the LDA for the given dataframe\n",
    "def LDA(dataframe, num_topics=5):\n",
    "    \n",
    "    # remove stopwords and punctuation in the summaries\n",
    "    dataframe['clean_summary'] = dataframe['summary'].apply(clean_text)\n",
    "    \n",
    "    # lemmatize the summaries\n",
    "    dataframe['clean_summary'] = dataframe['clean_summary'].apply(lemmatize)\n",
    "    \n",
    "    # create dictionary (all unique words in all the summaries)\n",
    "    dictionary = corpora.Dictionary(dataframe['clean_summary'])\n",
    "    \n",
    "    # create the document term matrix (frequencies and number of words : bag of words)\n",
    "    doc_term_matrix = [dictionary.doc2bow(doc) for doc in dataframe['clean_summary']]\n",
    "\n",
    "    # init the LDA model\n",
    "    lda = gensim.models.ldamodel.LdaModel\n",
    "    \n",
    "    # compute the LDA\n",
    "    ldamodel = lda(doc_term_matrix, num_topics=num_topics, id2word=dictionary, passes=50, minimum_probability=0)\n",
    "    \n",
    "    # print the topics found\n",
    "    print(\"--- Here are all the topics found : ---\")\n",
    "    topics = ldamodel.print_topics()\n",
    "    for i in range(len(topics)):\n",
    "        print(topics[i])\n",
    "        print(\"---\")\n",
    "        \n",
    "    lda_display = pyLDAvis.gensim_models.prepare(ldamodel, doc_term_matrix, dictionary, sort_topics=True, mds='mmds')\n",
    "    \n",
    "    return lda_display"
   ]
  },
  {
   "cell_type": "code",
   "execution_count": 78,
   "id": "f9743aec",
   "metadata": {},
   "outputs": [
    {
     "data": {
      "text/html": [
       "\n",
       "<link rel=\"stylesheet\" type=\"text/css\" href=\"https://cdn.jsdelivr.net/gh/bmabey/pyLDAvis@3.3.1/pyLDAvis/js/ldavis.v1.0.0.css\">\n",
       "\n",
       "\n",
       "<div id=\"ldavis_el1951618402469526724219218196\"></div>\n",
       "<script type=\"text/javascript\">\n",
       "\n",
       "var ldavis_el1951618402469526724219218196_data = {\"mdsDat\": {\"x\": [0.11269385786072408, 0.008452110713463364, -0.12114596857418747], \"y\": [0.026584222264979047, -0.12355293258637104, 0.096968710321392], \"topics\": [1, 2, 3], \"cluster\": [1, 1, 1], \"Freq\": [52.577528970519914, 26.15570654195628, 21.266764487523787]}, \"tinfo\": {\"Term\": [\"tom\", \"jerry\", \"bug\", \"cat\", \"daffy\", \"dog\", \"porky\", \"stooge\", \"war\", \"men\", \"mouse\", \"ship\", \"captain\", \"get\", \"german\", \"spike\", \"chase\", \"run\", \"head\", \"sam\", \"wolf\", \"dr\", \"elmer\", \"house\", \"back\", \"cartoon\", \"sylvester\", \"japanese\", \"it\", \"american\", \"nick\", \"detective\", \"divorce\", \"eve\", \"danny\", \"peggy\", \"robbery\", \"chris\", \"chicago\", \"blackie\", \"doris\", \"irene\", \"diane\", \"producer\", \"terry\", \"catherine\", \"patsy\", \"nora\", \"stella\", \"emma\", \"kay\", \"dave\", \"hannah\", \"warren\", \"martha\", \"rick\", \"marlowe\", \"morton\", \"charlotte\", \"polly\", \"helen\", \"mary\", \"eddie\", \"tony\", \"nightclub\", \"alice\", \"johnny\", \"susan\", \"apartment\", \"bob\", \"police\", \"money\", \"lawyer\", \"married\", \"husband\", \"job\", \"tommy\", \"joe\", \"wealthy\", \"sister\", \"her\", \"hotel\", \"marry\", \"wife\", \"love\", \"mr\", \"mike\", \"york\", \"marriage\", \"father\", \"harry\", \"tell\", \"new\", \"friend\", \"family\", \"woman\", \"murder\", \"meet\", \"home\", \"town\", \"find\", \"show\", \"him\", \"man\", \"get\", \"go\", \"however\", \"take\", \"life\", \"return\", \"day\", \"one\", \"later\", \"night\", \"try\", \"make\", \"back\", \"see\", \"two\", \"german\", \"japanese\", \"nazi\", \"aircraft\", \"marcellus\", \"pirate\", \"expedition\", \"bomber\", \"germany\", \"patrol\", \"ali\", \"unit\", \"quirt\", \"holmes\", \"soviet\", \"demetrius\", \"custer\", \"cavalry\", \"combat\", \"pedro\", \"squadron\", \"caligula\", \"vampire\", \"atomic\", \"rommel\", \"khan\", \"marietta\", \"invasion\", \"britain\", \"corp\", \"bombing\", \"alien\", \"submarine\", \"tribe\", \"british\", \"sir\", \"tarzan\", \"mission\", \"crew\", \"troop\", \"treasure\", \"commander\", \"captain\", \"pilot\", \"von\", \"spy\", \"enemy\", \"ship\", \"island\", \"soldier\", \"attack\", \"battle\", \"native\", \"war\", \"american\", \"army\", \"men\", \"indian\", \"dr\", \"plane\", \"captured\", \"u\", \"officer\", \"agent\", \"escape\", \"film\", \"order\", \"one\", \"king\", \"world\", \"take\", \"killed\", \"find\", \"back\", \"two\", \"death\", \"return\", \"kill\", \"however\", \"him\", \"help\", \"go\", \"new\", \"man\", \"also\", \"time\", \"life\", \"tell\", \"bug\", \"jerry\", \"daffy\", \"cat\", \"porky\", \"mouse\", \"spike\", \"elmer\", \"sylvester\", \"wolf\", \"cartoon\", \"stooge\", \"duck\", \"moe\", \"rabbit\", \"curly\", \"ollie\", \"stan\", \"mickey\", \"alfalfa\", \"tweety\", \"tail\", \"nibble\", \"spanky\", \"shemp\", \"runner\", \"woody\", \"foghorn\", \"mammy\", \"egg\", \"tom\", \"sach\", \"bird\", \"hole\", \"donald\", \"dog\", \"chase\", \"grab\", \"betty\", \"sam\", \"head\", \"run\", \"get\", \"back\", \"it\", \"house\", \"see\", \"him\", \"try\", \"go\", \"end\", \"away\", \"time\", \"come\", \"one\", \"take\", \"start\", \"fall\", \"make\"], \"Freq\": [1670.0, 1201.0, 1139.0, 437.0, 435.0, 561.0, 397.0, 389.0, 790.0, 1005.0, 343.0, 600.0, 456.0, 2366.0, 346.0, 293.0, 428.0, 1034.0, 767.0, 554.0, 251.0, 664.0, 249.0, 1012.0, 1910.0, 226.0, 226.0, 258.0, 869.0, 465.0, 262.27219403822585, 239.3908025230418, 175.82075476192924, 179.5544464846856, 156.63612624047917, 130.9685064495049, 153.84512129420293, 131.15172975888527, 109.44725376175873, 105.33643123871902, 98.29983471593744, 105.2808391172485, 92.4958272532035, 95.20511313792676, 162.213232808404, 87.95089765957592, 84.46194697215589, 87.54422025738488, 82.41596692082855, 87.71363826532276, 173.29181532822545, 82.80287723019403, 85.06547205068165, 83.15989716212442, 99.097954836421, 74.44158242283233, 69.54211169976139, 69.91955461203673, 75.61729924990611, 68.60004462390305, 351.71876855027966, 519.4681262650525, 217.12348456704012, 208.37767230891814, 178.47620358971662, 149.75178608943864, 383.01055596953506, 148.2632199623433, 393.7336384071262, 267.6158046492501, 927.4647579957649, 917.273803887693, 174.04638451742193, 480.47627364858033, 659.6008740698729, 584.1191309384557, 236.14670143165097, 522.8693689593632, 309.4949555465685, 412.8202004360229, 1264.1225397561166, 346.4337807134017, 562.5085328004828, 859.954119924747, 1282.3349710860764, 816.2226160185477, 313.67117684033406, 479.31272014246946, 351.590160316134, 956.0471962032262, 307.80365232555056, 1340.5553469308131, 1203.4712728767806, 904.0125362640558, 638.368067143065, 790.0256181022734, 515.5698565319151, 711.4945498559113, 916.8606942644498, 603.6695366210605, 1399.41188843573, 818.6763771724435, 1546.7045758038737, 1044.9377047529845, 1461.9392288353376, 1315.9728636388047, 965.8899599823874, 1200.575597329135, 797.4016658181903, 913.3714088482268, 728.2848361093594, 1088.3645873550088, 732.244985437429, 686.6001355064084, 848.3934193679188, 778.9197868485433, 869.3615553255255, 783.734164081858, 756.1848618014809, 345.78821202038205, 257.4325466849364, 174.289737034922, 126.37560711593926, 99.60944475365415, 90.50290146199991, 82.84884810347778, 77.9912143303546, 87.23494987811927, 73.65406414243773, 63.69221597316643, 62.90037219000591, 56.5901629748651, 168.71275751215367, 51.996819165004155, 46.36300323617302, 47.49233258859829, 51.75763281034262, 47.31791696448201, 45.284398654729934, 47.836690371978, 41.24314071397531, 42.80015850895038, 44.01568981891205, 39.80565534001761, 39.94102940719391, 38.69273019220862, 37.70662372255658, 36.28634813692607, 36.878429662116034, 48.27693061882816, 42.70977111649131, 74.13718484514081, 70.10367220922696, 184.58092042652797, 152.33780593565874, 97.27606028379712, 169.4139663771339, 234.3203050138848, 102.6602217701924, 86.39168825195712, 100.19050013308008, 408.07097603263736, 202.88835481383524, 135.62278102099526, 190.68312252694733, 171.23998612500995, 495.51927508058907, 294.79337697493014, 231.50544251202015, 320.54973340487203, 156.47812817051857, 129.54275722519841, 553.6263971877984, 334.76465852572636, 263.94106900746164, 605.1038623849786, 211.00635238236637, 407.7799937956908, 196.84651298565555, 149.93750851265088, 184.28858804928385, 235.28381913588973, 208.47424526256796, 388.5607646607134, 440.29475651444443, 358.6623218125894, 605.2349160032024, 202.86754465138102, 252.99944202606656, 496.71463529450403, 302.4165211215717, 476.0179206290176, 421.5192374868821, 368.6506957382416, 281.97087854583367, 364.0062851218564, 273.74126937936467, 349.2260652593172, 401.6072243623817, 286.557701178057, 325.2983028447522, 308.6994980069092, 304.06581650542256, 267.36747305667285, 270.20366777524015, 268.78843271338746, 269.2179753486127, 1138.397457878162, 1201.0396787493341, 435.15628612344403, 436.8454272555985, 397.33183156777955, 342.64395166867035, 292.69073720257154, 248.88319668874354, 225.49150038384803, 250.63477933898062, 225.69135422536237, 388.77447473496454, 198.29735567481325, 178.28823028045224, 173.46419121654344, 179.5525612439916, 160.69069994452838, 157.28356811806736, 160.87306254973032, 116.94120984343262, 114.18743790056585, 119.2299710482014, 104.17907689725725, 104.9551023088148, 99.34741926556553, 94.95995853261088, 86.68574017278938, 76.35333023163942, 74.30141061245313, 74.66236679076455, 1591.9919660938808, 78.19219341922452, 153.6014652745646, 208.49498063723283, 211.29558371866156, 480.65097713500097, 333.3088422561933, 196.1597509532229, 199.1127400273282, 333.4816176147135, 406.3770402050235, 468.2779253969063, 709.2047904791614, 619.1757139221432, 385.5071117918066, 415.69900557548505, 449.91809917215386, 544.200927304207, 443.442155549462, 482.9431634019431, 353.7159481654785, 361.83887830896106, 368.31918376296767, 349.280580473151, 391.51631018978713, 385.9618253878579, 284.4449439313849, 282.0389109397249, 285.571291727797], \"Total\": [1670.0, 1201.0, 1139.0, 437.0, 435.0, 561.0, 397.0, 389.0, 790.0, 1005.0, 343.0, 600.0, 456.0, 2366.0, 346.0, 293.0, 428.0, 1034.0, 767.0, 554.0, 251.0, 664.0, 249.0, 1012.0, 1910.0, 226.0, 226.0, 258.0, 869.0, 465.0, 262.9427031833633, 240.14044106194103, 176.4373029108829, 180.34533510897174, 157.34655407161495, 131.59046505482866, 154.58119851568563, 131.79913429412855, 110.07421855862482, 105.96908395123802, 98.90842951004672, 105.96491871245479, 93.1046087848779, 95.85638751772217, 163.32499900765077, 88.58334404648166, 85.07214932950487, 88.18058505435785, 83.02329894158326, 88.3760289221974, 174.6439749399786, 83.44923092999866, 85.75463918221519, 83.83888079559215, 99.93040055711661, 75.07303480346005, 70.1521471420303, 70.55322518877564, 76.30404646249941, 69.22415236644275, 355.20053323039224, 528.6533203513446, 219.11837750871268, 210.92059679389385, 180.51366336242967, 151.2774053356196, 390.9740943790672, 149.98654830641954, 407.27187407542976, 275.34734341996597, 995.5031898549294, 986.6185517510705, 178.01923468341477, 509.70489614318717, 711.2857716277613, 628.7780672344775, 244.81311141073814, 564.3694570106748, 325.8679116246998, 441.4452224085172, 1440.9092323555128, 371.8290375181068, 628.1056632555459, 995.3860222763398, 1557.9609425475282, 961.978328815305, 337.1959125523956, 542.672288146276, 388.28971123267144, 1211.78860093631, 334.9873190284431, 1827.788658426851, 1620.8605814781051, 1174.1807490914266, 783.2685931395866, 1009.3754998606429, 609.4493973408482, 900.2698653091769, 1222.7774796824472, 746.9886270105733, 2142.967299503041, 1105.5969891594389, 2492.5127274704623, 1523.782482601948, 2366.81927659102, 2124.2143298855, 1512.5535585778568, 2083.252058011497, 1149.003805917442, 1419.2373581747083, 1010.6757683372907, 2085.115813547998, 1053.7689243357477, 943.875981326166, 1557.5787571885148, 1327.0414490716248, 1910.056506734551, 1439.137729942509, 1392.084728000709, 346.49684759867966, 258.13067146233135, 174.979462450563, 127.10868123457504, 100.22952158756422, 91.15602025616887, 83.53620508553746, 78.65297386143207, 88.03777027018424, 74.3641755768648, 64.32880914380765, 63.5342370548287, 57.21742900620997, 170.8272275454163, 52.680849758871716, 46.98305769858041, 48.130926481826634, 52.454984712235714, 47.967233395638395, 45.93482810184636, 48.55326797093378, 41.863203525492374, 43.45980517046429, 44.69934905241043, 40.426318890973256, 40.57854321518629, 39.32450499308927, 38.35145086492165, 36.91502719194337, 37.518436400141084, 49.164578958935955, 43.45777564294692, 75.96186855791098, 71.85231402298304, 193.3529487093843, 160.07615477961673, 100.84681167346803, 179.05277062582073, 250.4380940813272, 107.26160531151567, 90.01100776267356, 105.04547998977814, 456.8232852680258, 223.16342217339945, 145.98838027932356, 210.3609882683947, 188.73554285787253, 600.4480157220307, 349.87633280288355, 271.2163941407874, 407.09963805353306, 179.46115193060712, 145.21321948532358, 790.7494449692689, 465.06652745723966, 351.92354982337497, 1005.0059645223067, 272.56249497625026, 664.5173598564198, 255.551923717867, 181.21584043420427, 241.88129102447135, 345.0631253824672, 298.2101689367667, 824.3869021404269, 1033.1367553464554, 803.6288342692183, 2085.115813547998, 295.04395957593493, 467.84531629719993, 2083.252058011497, 715.3578865578272, 2142.967299503041, 1910.056506734551, 1392.084728000709, 675.9739680324203, 1419.2373581747083, 684.3496570264748, 1512.5535585778568, 2492.5127274704623, 970.2741889823917, 2124.2143298855, 1620.8605814781051, 1523.782482601948, 929.6781820166476, 1306.5402190044013, 1149.003805917442, 1827.788658426851, 1139.0276673377155, 1201.9538361334812, 435.78486682353196, 437.4891201424925, 397.9610447537252, 343.29196101509905, 293.3544810315314, 249.55726317413487, 226.12182162833824, 251.33774348007015, 226.34058980868042, 389.9560935324538, 198.94011930625237, 178.95165952780857, 174.15600639743087, 180.27069536955793, 161.34869302165117, 157.94184718483504, 161.57628443771398, 117.58057905508248, 114.81515592593898, 119.92977278530005, 104.80607372266503, 105.59395398074709, 99.9920805058502, 95.59306308077275, 87.34704761348367, 76.98073294185077, 74.93584615528822, 75.32747031762449, 1670.5940225254049, 78.93978454774214, 157.60649856157372, 218.77034267807477, 227.88413499228218, 561.8764045580608, 428.7318002365615, 240.5862870430994, 250.18480639628953, 554.4154036488236, 767.8074478257613, 1034.0081183097152, 2366.81927659102, 1910.056506734551, 869.317146442873, 1012.5893972220154, 1439.137729942509, 2492.5127274704623, 1557.5787571885148, 2124.2143298855, 1079.6408755024831, 1177.075227177486, 1306.5402190044013, 1215.314172533935, 2085.115813547998, 2083.252058011497, 668.3070083236453, 993.8599883389061, 1327.0414490716248], \"Category\": [\"Default\", \"Default\", \"Default\", \"Default\", \"Default\", \"Default\", \"Default\", \"Default\", \"Default\", \"Default\", \"Default\", \"Default\", \"Default\", \"Default\", \"Default\", \"Default\", \"Default\", \"Default\", \"Default\", \"Default\", \"Default\", \"Default\", \"Default\", \"Default\", \"Default\", \"Default\", \"Default\", \"Default\", \"Default\", \"Default\", \"Topic1\", \"Topic1\", \"Topic1\", \"Topic1\", \"Topic1\", \"Topic1\", \"Topic1\", \"Topic1\", \"Topic1\", \"Topic1\", \"Topic1\", \"Topic1\", \"Topic1\", \"Topic1\", \"Topic1\", \"Topic1\", \"Topic1\", \"Topic1\", \"Topic1\", \"Topic1\", \"Topic1\", \"Topic1\", \"Topic1\", \"Topic1\", \"Topic1\", \"Topic1\", \"Topic1\", \"Topic1\", \"Topic1\", \"Topic1\", \"Topic1\", \"Topic1\", \"Topic1\", \"Topic1\", \"Topic1\", \"Topic1\", \"Topic1\", \"Topic1\", \"Topic1\", \"Topic1\", \"Topic1\", \"Topic1\", \"Topic1\", \"Topic1\", \"Topic1\", \"Topic1\", \"Topic1\", \"Topic1\", \"Topic1\", \"Topic1\", \"Topic1\", \"Topic1\", \"Topic1\", \"Topic1\", \"Topic1\", \"Topic1\", \"Topic1\", \"Topic1\", \"Topic1\", \"Topic1\", \"Topic1\", \"Topic1\", \"Topic1\", \"Topic1\", \"Topic1\", \"Topic1\", \"Topic1\", \"Topic1\", \"Topic1\", \"Topic1\", \"Topic1\", \"Topic1\", \"Topic1\", \"Topic1\", \"Topic1\", \"Topic1\", \"Topic1\", \"Topic1\", \"Topic1\", \"Topic1\", \"Topic1\", \"Topic1\", \"Topic1\", \"Topic1\", \"Topic1\", \"Topic1\", \"Topic1\", \"Topic1\", \"Topic1\", \"Topic2\", \"Topic2\", \"Topic2\", \"Topic2\", \"Topic2\", \"Topic2\", \"Topic2\", \"Topic2\", \"Topic2\", \"Topic2\", \"Topic2\", \"Topic2\", \"Topic2\", \"Topic2\", \"Topic2\", \"Topic2\", \"Topic2\", \"Topic2\", \"Topic2\", \"Topic2\", \"Topic2\", \"Topic2\", \"Topic2\", \"Topic2\", \"Topic2\", \"Topic2\", \"Topic2\", \"Topic2\", \"Topic2\", \"Topic2\", \"Topic2\", \"Topic2\", \"Topic2\", \"Topic2\", \"Topic2\", \"Topic2\", \"Topic2\", \"Topic2\", \"Topic2\", \"Topic2\", \"Topic2\", \"Topic2\", \"Topic2\", \"Topic2\", \"Topic2\", \"Topic2\", \"Topic2\", \"Topic2\", \"Topic2\", \"Topic2\", \"Topic2\", \"Topic2\", \"Topic2\", \"Topic2\", \"Topic2\", \"Topic2\", \"Topic2\", \"Topic2\", \"Topic2\", \"Topic2\", \"Topic2\", \"Topic2\", \"Topic2\", \"Topic2\", \"Topic2\", \"Topic2\", \"Topic2\", \"Topic2\", \"Topic2\", \"Topic2\", \"Topic2\", \"Topic2\", \"Topic2\", \"Topic2\", \"Topic2\", \"Topic2\", \"Topic2\", \"Topic2\", \"Topic2\", \"Topic2\", \"Topic2\", \"Topic2\", \"Topic2\", \"Topic2\", \"Topic2\", \"Topic2\", \"Topic2\", \"Topic2\", \"Topic3\", \"Topic3\", \"Topic3\", \"Topic3\", \"Topic3\", \"Topic3\", \"Topic3\", \"Topic3\", \"Topic3\", \"Topic3\", \"Topic3\", \"Topic3\", \"Topic3\", \"Topic3\", \"Topic3\", \"Topic3\", \"Topic3\", \"Topic3\", \"Topic3\", \"Topic3\", \"Topic3\", \"Topic3\", \"Topic3\", \"Topic3\", \"Topic3\", \"Topic3\", \"Topic3\", \"Topic3\", \"Topic3\", \"Topic3\", \"Topic3\", \"Topic3\", \"Topic3\", \"Topic3\", \"Topic3\", \"Topic3\", \"Topic3\", \"Topic3\", \"Topic3\", \"Topic3\", \"Topic3\", \"Topic3\", \"Topic3\", \"Topic3\", \"Topic3\", \"Topic3\", \"Topic3\", \"Topic3\", \"Topic3\", \"Topic3\", \"Topic3\", \"Topic3\", \"Topic3\", \"Topic3\", \"Topic3\", \"Topic3\", \"Topic3\", \"Topic3\", \"Topic3\"], \"logprob\": [30.0, 29.0, 28.0, 27.0, 26.0, 25.0, 24.0, 23.0, 22.0, 21.0, 20.0, 19.0, 18.0, 17.0, 16.0, 15.0, 14.0, 13.0, 12.0, 11.0, 10.0, 9.0, 8.0, 7.0, 6.0, 5.0, 4.0, 3.0, 2.0, 1.0, -7.0777, -7.1689, -7.4776, -7.4566, -7.5931, -7.7721, -7.6111, -7.7707, -7.9516, -7.9899, -8.059, -7.9904, -8.1199, -8.091, -7.5581, -8.1703, -8.2107, -8.1749, -8.2353, -8.173, -7.4921, -8.2306, -8.2036, -8.2263, -8.0509, -8.337, -8.4051, -8.3997, -8.3214, -8.4188, -6.7842, -6.3942, -7.2666, -7.3077, -7.4626, -7.6381, -6.699, -7.6481, -6.6714, -7.0575, -5.8146, -5.8256, -7.4877, -6.4723, -6.1554, -6.2769, -7.1826, -6.3877, -6.9121, -6.624, -5.5049, -6.7994, -6.3146, -5.8902, -5.4906, -5.9424, -6.8987, -6.4747, -6.7846, -5.7842, -6.9176, -5.4462, -5.5541, -5.8402, -6.1881, -5.975, -6.4018, -6.0797, -5.8261, -6.244, -5.4032, -5.9394, -5.3032, -5.6953, -5.3595, -5.4647, -5.774, -5.5565, -5.9657, -5.8299, -6.0564, -5.6546, -6.0509, -6.1153, -5.9037, -5.9891, -5.8793, -5.983, -6.0188, -6.103, -6.3981, -6.7881, -7.1096, -7.3476, -7.4434, -7.5318, -7.5922, -7.4802, -7.6494, -7.7948, -7.8073, -7.913, -6.8206, -7.9976, -8.1123, -8.0883, -8.0023, -8.0919, -8.1359, -8.081, -8.2293, -8.1923, -8.1643, -8.2648, -8.2614, -8.2932, -8.319, -8.3574, -8.3412, -8.0719, -8.1944, -7.6429, -7.6988, -6.7307, -6.9227, -7.3713, -6.8165, -6.4921, -7.3174, -7.4899, -7.3417, -5.9374, -6.6362, -7.0389, -6.6982, -6.8058, -5.7432, -6.2625, -6.5042, -6.1788, -6.8959, -7.0848, -5.6323, -6.1354, -6.3731, -5.5434, -6.5969, -5.9381, -6.6664, -6.9386, -6.7323, -6.488, -6.609, -5.9864, -5.8614, -6.0664, -5.5432, -6.6363, -6.4154, -5.7408, -6.237, -5.7834, -5.905, -6.039, -6.307, -6.0517, -6.3366, -6.0931, -5.9533, -6.2909, -6.1641, -6.2165, -6.2316, -6.3602, -6.3496, -6.3549, -6.3533, -4.7045, -4.651, -5.6662, -5.6623, -5.7571, -5.9052, -6.0628, -6.2249, -6.3236, -6.2179, -6.3227, -5.7789, -6.4521, -6.5585, -6.5859, -6.5514, -6.6624, -6.6838, -6.6613, -6.9802, -7.0041, -6.9608, -7.0958, -7.0884, -7.1433, -7.1884, -7.2796, -7.4065, -7.4338, -7.4289, -4.3692, -7.3827, -6.7075, -6.402, -6.3886, -5.5668, -5.9328, -6.463, -6.448, -5.9323, -5.7346, -5.5928, -5.1778, -5.3135, -5.7873, -5.7119, -5.6328, -5.4426, -5.6473, -5.562, -5.8734, -5.8507, -5.833, -5.886, -5.7719, -5.7862, -6.0914, -6.0999, -6.0874], \"loglift\": [30.0, 29.0, 28.0, 27.0, 26.0, 25.0, 24.0, 23.0, 22.0, 21.0, 20.0, 19.0, 18.0, 17.0, 16.0, 15.0, 14.0, 13.0, 12.0, 11.0, 10.0, 9.0, 8.0, 7.0, 6.0, 5.0, 4.0, 3.0, 2.0, 1.0, 0.6403, 0.6398, 0.6394, 0.6385, 0.6384, 0.6381, 0.6381, 0.638, 0.6372, 0.6369, 0.6367, 0.6364, 0.6363, 0.6361, 0.6361, 0.6357, 0.6357, 0.6356, 0.6355, 0.6354, 0.6351, 0.6351, 0.6348, 0.6347, 0.6345, 0.6344, 0.6341, 0.6339, 0.6338, 0.6338, 0.633, 0.6254, 0.6337, 0.6308, 0.6315, 0.6327, 0.6223, 0.6313, 0.6091, 0.6144, 0.5721, 0.57, 0.6203, 0.5838, 0.5674, 0.5692, 0.6068, 0.5665, 0.5913, 0.5758, 0.512, 0.5721, 0.5326, 0.4966, 0.4482, 0.4786, 0.5706, 0.5187, 0.5436, 0.4058, 0.5583, 0.3329, 0.3451, 0.3814, 0.4383, 0.3979, 0.4756, 0.4076, 0.355, 0.4299, 0.2167, 0.3424, 0.1657, 0.2656, 0.1611, 0.1641, 0.1944, 0.0918, 0.2776, 0.2021, 0.3152, -0.0073, 0.2789, 0.3246, 0.0353, 0.1101, -0.1442, 0.0352, 0.0326, 1.3391, 1.3384, 1.3372, 1.3353, 1.3349, 1.3339, 1.3328, 1.3327, 1.3319, 1.3315, 1.3312, 1.3311, 1.3301, 1.3286, 1.328, 1.3278, 1.3277, 1.3277, 1.3275, 1.3268, 1.3262, 1.3262, 1.3258, 1.3257, 1.3256, 1.3253, 1.3249, 1.3241, 1.3239, 1.3239, 1.3229, 1.3237, 1.3168, 1.3165, 1.2947, 1.2916, 1.3051, 1.2858, 1.2746, 1.2973, 1.3001, 1.2938, 1.2282, 1.2459, 1.2675, 1.2429, 1.2438, 1.149, 1.1698, 1.1828, 1.1021, 1.2041, 1.2269, 0.9846, 1.0124, 1.0534, 0.8338, 1.0851, 0.8528, 1.0801, 1.1516, 1.0692, 0.9582, 0.9831, 0.5889, 0.4882, 0.5343, 0.1041, 0.9665, 0.7264, -0.0926, 0.4801, -0.1634, -0.1699, 0.0124, 0.4668, -0.0196, 0.4248, -0.1247, -0.4845, 0.1215, -0.5353, -0.3172, -0.2706, 0.0949, -0.2349, -0.1116, -0.5742, 1.5475, 1.5473, 1.5466, 1.5466, 1.5464, 1.5461, 1.5458, 1.5453, 1.5452, 1.5452, 1.5452, 1.545, 1.5448, 1.5443, 1.544, 1.544, 1.5439, 1.5438, 1.5437, 1.5426, 1.5425, 1.5422, 1.542, 1.542, 1.5416, 1.5414, 1.5404, 1.5398, 1.5395, 1.5392, 1.4998, 1.5385, 1.5223, 1.4999, 1.4724, 1.3919, 1.2963, 1.3439, 1.3197, 1.0397, 0.9118, 0.7559, 0.3429, 0.4215, 0.7349, 0.6577, 0.3853, 0.0263, 0.2917, 0.0668, 0.4321, 0.3684, 0.2818, 0.3011, -0.1245, -0.1379, 0.6938, 0.2885, 0.0118]}, \"token.table\": {\"Topic\": [1, 2, 2, 3, 2, 1, 3, 2, 1, 2, 3, 1, 2, 3, 1, 2, 3, 1, 2, 3, 2, 1, 2, 3, 1, 2, 3, 1, 2, 3, 1, 2, 3, 1, 3, 1, 2, 3, 1, 1, 2, 2, 2, 2, 1, 2, 3, 2, 1, 2, 1, 2, 3, 3, 3, 1, 2, 1, 1, 2, 3, 1, 1, 2, 1, 2, 3, 1, 2, 2, 1, 2, 3, 3, 2, 3, 1, 1, 1, 2, 3, 1, 2, 3, 2, 1, 1, 1, 1, 2, 3, 1, 2, 3, 1, 1, 2, 3, 3, 1, 2, 3, 3, 1, 1, 2, 3, 1, 2, 3, 1, 2, 3, 1, 2, 1, 2, 3, 1, 2, 3, 1, 2, 3, 1, 2, 3, 1, 2, 3, 3, 1, 2, 3, 2, 2, 1, 2, 3, 1, 2, 3, 1, 2, 3, 1, 1, 2, 1, 2, 3, 1, 2, 1, 2, 3, 1, 2, 3, 1, 2, 3, 2, 3, 1, 2, 1, 2, 3, 1, 2, 3, 1, 2, 3, 1, 2, 3, 1, 2, 3, 1, 2, 3, 2, 1, 1, 2, 3, 1, 2, 3, 2, 1, 3, 1, 2, 3, 1, 2, 3, 1, 2, 1, 2, 2, 1, 2, 3, 1, 2, 3, 1, 2, 3, 1, 2, 3, 1, 2, 1, 2, 3, 1, 2, 3, 1, 2, 3, 3, 1, 2, 3, 2, 2, 1, 1, 2, 1, 2, 1, 2, 1, 2, 1, 2, 3, 1, 2, 3, 1, 2, 3, 3, 1, 2, 1, 2, 3, 3, 1, 2, 3, 1, 3, 1, 2, 3, 1, 2, 1, 2, 3, 2, 1, 2, 3, 3, 1, 1, 2, 3, 1, 2, 3, 1, 1, 2, 3, 3, 1, 2, 3, 1, 2, 3, 2, 1, 2, 1, 1, 2, 2, 1, 2, 3, 1, 2, 3, 1, 3, 1, 2, 3, 1, 2, 3, 1, 1, 2, 1, 2, 3, 3, 3, 1, 2, 3, 1, 2, 3, 3, 1, 2, 3, 1, 2, 3, 1, 2, 3, 1, 2, 1, 2, 3, 2, 3, 3, 1, 2, 3, 2, 3, 1, 2, 3, 1, 1, 3, 2, 3, 1, 2, 3, 3, 1, 2, 3, 2, 3, 1, 2, 3, 1, 2, 1, 2, 3, 1, 2, 3, 1, 2, 1, 2, 1, 2, 3, 2, 3, 2, 3, 1, 2, 1, 2, 3, 3, 1, 2, 3, 1, 2, 3, 2, 2, 1, 2, 3, 1, 2, 3, 1, 1, 2, 1, 2, 3, 3, 1, 2, 3, 3, 1, 2, 3, 1, 2, 3], \"Freq\": [0.2984472337657667, 0.6974946586885334, 0.9912776906832271, 0.9950622878391294, 0.9948886175854338, 0.9915558748989277, 0.006610372499326185, 0.9894661971034125, 0.6023589784426846, 0.2871961557932085, 0.10971538535920326, 0.2494266801660233, 0.7203270504794638, 0.03010322002003729, 0.967412740922611, 0.0024553622866056116, 0.03191970972587295, 0.21595599395989054, 0.7501629263869881, 0.03409831483577219, 0.984354379487933, 0.12036365405354786, 0.7885047541058952, 0.09334324191907793, 0.5513666289250178, 0.1410275198791263, 0.30754194094122717, 0.45496036213381447, 0.22093587206037943, 0.32407418200325794, 0.1058724954988966, 0.8692689104119931, 0.022288946420820337, 0.20384930937499318, 0.7954120110906597, 0.006344916035358275, 0.019034748106074827, 0.9771170694451744, 0.9908550313440102, 0.9733160911279989, 0.025422435216029823, 0.9916980397641104, 0.9763126424837554, 0.9752126095645115, 0.041375112473843144, 0.9567994759576227, 0.999097767888187, 0.9793803757763848, 0.10507345301331915, 0.8931243506132127, 0.09381078364488975, 0.8277422086313801, 0.07725593947226214, 0.9984952331839008, 0.9988819832997603, 0.9934147434513698, 0.9913261873064738, 0.9960153297682732, 0.13994763151903772, 0.08163611838610534, 0.7767093549306593, 0.9902409613014632, 0.9939367257728328, 0.9798355392386181, 0.5578804356295518, 0.15469251017456598, 0.28716854282406135, 0.04759843070341098, 0.9519686140682196, 0.986181822861383, 0.05989504134753918, 0.9343626450216113, 0.003993002756502612, 0.9984983950441696, 0.9765031225348706, 0.9981989580564077, 0.9977975108914224, 0.9946167157564879, 0.7203101358585715, 0.234496568953958, 0.04551410199106358, 0.5636311722313645, 0.4171758282657344, 0.019231509813668606, 0.979076336306436, 0.9952509412538021, 0.9881358313052994, 0.9975214826815633, 0.04271402003235391, 0.10144579757684054, 0.8560601514817596, 0.013164584713637928, 0.06143472866364366, 0.925909124859201, 0.990815449051747, 0.3777177469889316, 0.6139794453047175, 0.007524257908146048, 0.9952743603978385, 0.990332269101306, 0.00912748635116411, 0.9956527105418026, 0.9977669927653197, 0.9957451253831687, 0.46774812945551403, 0.2046976962567695, 0.3278868075787168, 0.047685771655514075, 0.9060296614547675, 0.04238735258267918, 0.3444984378847193, 0.47186581808857675, 0.1843794456284413, 0.9980851453198771, 0.9935811653762772, 0.5403175560951178, 0.1750749623101499, 0.2837421802957602, 0.8145354040594115, 0.17363137139824447, 0.011490311342530883, 0.7889164820178449, 0.18980208249383299, 0.02145588758625938, 0.4946102220791086, 0.42588747106616004, 0.07936993778960255, 0.6528331068441554, 0.22212191483761115, 0.12506023776571384, 0.9872600207302313, 0.7698985021680089, 0.19332628317714382, 0.03662127831108892, 0.9985660833507636, 0.9882122154275447, 0.6177066472543479, 0.08281156146501518, 0.29955814836069267, 0.6195231721607563, 0.15299774388468523, 0.22737818552708608, 0.12885189917098874, 0.054034667394285606, 0.8146765237907676, 0.9912000191545125, 0.9194377891476194, 0.08060006593177184, 0.35034825562286576, 0.1198217082427645, 0.5287784081148086, 0.9909895033059641, 0.008445933266812195, 0.6060142655311538, 0.29579267722353936, 0.09791046807050954, 0.877223888650979, 0.08744478636868937, 0.03539431829208855, 0.6206588166833474, 0.16128302799399202, 0.21825364982271558, 0.045710034905029215, 0.9507687260246076, 0.011707735521659029, 0.989303651580188, 0.7499320319819294, 0.1120400091401574, 0.13820993828238393, 0.9305351790421988, 0.037651712446794175, 0.03227289638296643, 0.5125473379672438, 0.07703023576386324, 0.41082792407393726, 0.6386550707720121, 0.23073563115883255, 0.1302433218862178, 0.9278970933013394, 0.07029523434101057, 0.0028118093736404226, 0.11373538388948629, 0.7741343871187615, 0.11373538388948629, 0.9908360477375548, 0.9908939795908004, 0.12290056791073582, 0.84315505892249, 0.034297832905321624, 0.41641879661669456, 0.14034003642883075, 0.44402667263548096, 0.9956197709635743, 0.0008319787082812275, 0.9992064286457544, 0.9287855770297101, 0.03498849776481785, 0.03657888402685502, 0.9266979165920876, 0.06555989084877101, 0.007087555767434704, 0.9796045454322712, 0.020461713742710625, 0.9905867068099911, 0.005725934721445035, 0.9857426322054416, 0.5640391516774986, 0.4003801232114887, 0.03653103313973437, 0.5759354971012755, 0.42216631098200286, 0.0013979016919933869, 0.08134381071381726, 0.6880330656210376, 0.2338634558022246, 0.6946494464727383, 0.21731519568614355, 0.08730566813591793, 0.9774224695968249, 0.022469482059697125, 0.6936443516508821, 0.23411584767137678, 0.07223648831496012, 0.8228704359582432, 0.16046615365800374, 0.016688479980432387, 0.5870200968816572, 0.1981852188445133, 0.21551700604384336, 0.9875113686799655, 0.6857934199477088, 0.19950354034842438, 0.11484578802952061, 0.9977100400767283, 0.9917480209058881, 0.9978311833888382, 0.906539601274869, 0.09271427740311161, 0.9417213835535878, 0.05689566692302926, 0.8963460018524662, 0.10348577286040905, 0.9906895143827145, 0.01000696479174459, 0.9817397905589073, 0.017024389431657353, 0.0018915988257397058, 0.7897631892364002, 0.18549993333681974, 0.024437116966527152, 0.38009724666815276, 0.6019864770529645, 0.01791034146603861, 0.9964333600087448, 0.9312093898860909, 0.06820960499165635, 0.044679565538352756, 0.9438558219977019, 0.011169891384588189, 0.9946820301621138, 0.9294372160066217, 0.04561033230130641, 0.02432551056069675, 0.9921587540853674, 0.9991495256275861, 0.8482519569904655, 0.053015747311904095, 0.09875482342413508, 0.8466658630747902, 0.15423757970742302, 0.027545701515172813, 0.8952352992431164, 0.07575067916672523, 0.9944024147928804, 0.7421983196746958, 0.1906394686446226, 0.06724822680344293, 0.9923089025851876, 0.9964147961820189, 0.7278498590829171, 0.20023817083940515, 0.07310282427470347, 0.9860749412780859, 0.005539746861112842, 0.005539746861112842, 0.9979520996118757, 0.28690402630031425, 0.6810348099047863, 0.03187822514447936, 0.9978388853660911, 0.5217935583868972, 0.29015174891918455, 0.1879991497129262, 0.44050186467227836, 0.44672364242188684, 0.11323635504287381, 0.9951028089259407, 0.9873971759505902, 0.9796488168024998, 0.995512858362628, 0.0896204216856823, 0.9096472801096752, 0.998288426197958, 0.08608817996724735, 0.7708805206158058, 0.14478466630855236, 0.9311873728250815, 0.04821682189385535, 0.020090342455773062, 0.9967619341114329, 0.9975850783226284, 0.9910659316515152, 0.9961999514835529, 0.9933622364146728, 0.6433032464521763, 0.25647577405103195, 0.10005373603089708, 0.985706787979609, 0.9962401733117197, 0.9894544222014622, 0.42552857391416277, 0.1208887994074326, 0.4526076649814277, 0.9937959611120356, 0.988094918764647, 0.3517218293659034, 0.046896243915453786, 0.6006326624556196, 0.544770652376211, 0.14244640782796333, 0.3126872366955293, 0.9900784092016952, 0.1448918103183065, 0.8260498611250577, 0.029977615927925486, 0.7407762575607841, 0.0922578489269841, 0.16733041226953, 0.01874107985746047, 0.9495480461113306, 0.024988106476613963, 0.9355634154259942, 0.06342802816447418, 0.0995515041984682, 0.8554055175572083, 0.044245112977096976, 0.9870759533684808, 0.9943751137413096, 0.9987916290547704, 0.047537331338457264, 0.9079630285645337, 0.047537331338457264, 0.9886049282766096, 0.9940367470583472, 0.4818144894330706, 0.09277173399021856, 0.4249543944068076, 0.9876745569661924, 0.0025643912650303944, 0.9975482020968235, 0.9741729818505543, 0.01316449975473722, 0.9867551568533929, 0.0066672645733337355, 0.9950388617062262, 0.9922473564011121, 0.5765024906042224, 0.23856930710266322, 0.18528722845397988, 0.9618549004214073, 0.029748089703754865, 0.7336734440371119, 0.14717237617150117, 0.11926980671147679, 0.9918873472175028, 0.006122761402577177, 0.5112739663758867, 0.206652651080074, 0.281659909620249, 0.043098442248200426, 0.003591536854016702, 0.9529544452657649, 0.9640006560108138, 0.032677988339349616, 0.986153098188188, 0.009482241328732577, 0.808579914284894, 0.12316117899703684, 0.0682741318353139, 0.9554386973063436, 0.03332925688277943, 0.9742205376657661, 0.013917436252368087, 0.037292002001862244, 0.9602690515479527, 0.5444347491812679, 0.1707778812290298, 0.28441579467842176, 0.992900275931648, 0.5430703927667936, 0.26507007265998256, 0.1917986704612882, 0.14883333823597727, 0.7607037287616617, 0.0909537066997639, 0.9915913516932978, 0.9894199900652849, 0.034249301145977254, 0.9315809911705814, 0.034249301145977254, 0.28201094723331294, 0.7006011872971093, 0.01896934622645603, 0.989994131748521, 0.9482369665040035, 0.049099648751016356, 0.8639864140680551, 0.12859332674501286, 0.00703244755636789, 0.9986562166294896, 0.7826621511113253, 0.18130021981439562, 0.03566561701266799, 0.9960267962917376, 0.414666970560759, 0.5407770286178971, 0.044886630833896594, 0.8826689891172161, 0.11240669798778744, 0.0036854655077963095], \"Term\": [\"agent\", \"agent\", \"aircraft\", \"alfalfa\", \"ali\", \"alice\", \"alice\", \"alien\", \"also\", \"also\", \"also\", \"american\", \"american\", \"american\", \"apartment\", \"apartment\", \"apartment\", \"army\", \"army\", \"army\", \"atomic\", \"attack\", \"attack\", \"attack\", \"away\", \"away\", \"away\", \"back\", \"back\", \"back\", \"battle\", \"battle\", \"battle\", \"betty\", \"betty\", \"bird\", \"bird\", \"bird\", \"blackie\", \"bob\", \"bob\", \"bomber\", \"bombing\", \"britain\", \"british\", \"british\", \"bug\", \"caligula\", \"captain\", \"captain\", \"captured\", \"captured\", \"captured\", \"cartoon\", \"cat\", \"catherine\", \"cavalry\", \"charlotte\", \"chase\", \"chase\", \"chase\", \"chicago\", \"chris\", \"combat\", \"come\", \"come\", \"come\", \"commander\", \"commander\", \"corp\", \"crew\", \"crew\", \"crew\", \"curly\", \"custer\", \"daffy\", \"danny\", \"dave\", \"day\", \"day\", \"day\", \"death\", \"death\", \"death\", \"demetrius\", \"detective\", \"diane\", \"divorce\", \"dog\", \"dog\", \"dog\", \"donald\", \"donald\", \"donald\", \"doris\", \"dr\", \"dr\", \"dr\", \"duck\", \"eddie\", \"eddie\", \"egg\", \"elmer\", \"emma\", \"end\", \"end\", \"end\", \"enemy\", \"enemy\", \"enemy\", \"escape\", \"escape\", \"escape\", \"eve\", \"expedition\", \"fall\", \"fall\", \"fall\", \"family\", \"family\", \"family\", \"father\", \"father\", \"father\", \"film\", \"film\", \"film\", \"find\", \"find\", \"find\", \"foghorn\", \"friend\", \"friend\", \"friend\", \"german\", \"germany\", \"get\", \"get\", \"get\", \"go\", \"go\", \"go\", \"grab\", \"grab\", \"grab\", \"hannah\", \"harry\", \"harry\", \"head\", \"head\", \"head\", \"helen\", \"helen\", \"help\", \"help\", \"help\", \"her\", \"her\", \"her\", \"him\", \"him\", \"him\", \"hole\", \"hole\", \"holmes\", \"holmes\", \"home\", \"home\", \"home\", \"hotel\", \"hotel\", \"hotel\", \"house\", \"house\", \"house\", \"however\", \"however\", \"however\", \"husband\", \"husband\", \"husband\", \"indian\", \"indian\", \"indian\", \"invasion\", \"irene\", \"island\", \"island\", \"island\", \"it\", \"it\", \"it\", \"japanese\", \"jerry\", \"jerry\", \"job\", \"job\", \"job\", \"joe\", \"joe\", \"joe\", \"johnny\", \"johnny\", \"kay\", \"kay\", \"khan\", \"kill\", \"kill\", \"kill\", \"killed\", \"killed\", \"killed\", \"king\", \"king\", \"king\", \"later\", \"later\", \"later\", \"lawyer\", \"lawyer\", \"life\", \"life\", \"life\", \"love\", \"love\", \"love\", \"make\", \"make\", \"make\", \"mammy\", \"man\", \"man\", \"man\", \"marcellus\", \"marietta\", \"marlowe\", \"marriage\", \"marriage\", \"married\", \"married\", \"marry\", \"marry\", \"martha\", \"martha\", \"mary\", \"mary\", \"mary\", \"meet\", \"meet\", \"meet\", \"men\", \"men\", \"men\", \"mickey\", \"mike\", \"mike\", \"mission\", \"mission\", \"mission\", \"moe\", \"money\", \"money\", \"money\", \"morton\", \"mouse\", \"mr\", \"mr\", \"mr\", \"murder\", \"murder\", \"native\", \"native\", \"native\", \"nazi\", \"new\", \"new\", \"new\", \"nibble\", \"nick\", \"night\", \"night\", \"night\", \"nightclub\", \"nightclub\", \"nightclub\", \"nora\", \"officer\", \"officer\", \"officer\", \"ollie\", \"one\", \"one\", \"one\", \"order\", \"order\", \"order\", \"patrol\", \"patsy\", \"pedro\", \"peggy\", \"pilot\", \"pilot\", \"pirate\", \"plane\", \"plane\", \"plane\", \"police\", \"police\", \"police\", \"polly\", \"porky\", \"producer\", \"quirt\", \"rabbit\", \"return\", \"return\", \"return\", \"rick\", \"robbery\", \"rommel\", \"run\", \"run\", \"run\", \"runner\", \"sach\", \"sam\", \"sam\", \"sam\", \"see\", \"see\", \"see\", \"shemp\", \"ship\", \"ship\", \"ship\", \"show\", \"show\", \"show\", \"sir\", \"sir\", \"sir\", \"sister\", \"sister\", \"soldier\", \"soldier\", \"soldier\", \"soviet\", \"spanky\", \"spike\", \"spy\", \"spy\", \"spy\", \"squadron\", \"stan\", \"start\", \"start\", \"start\", \"stella\", \"stooge\", \"stooge\", \"submarine\", \"submarine\", \"susan\", \"susan\", \"sylvester\", \"tail\", \"take\", \"take\", \"take\", \"tarzan\", \"tarzan\", \"tell\", \"tell\", \"tell\", \"terry\", \"terry\", \"time\", \"time\", \"time\", \"tom\", \"tom\", \"tom\", \"tommy\", \"tommy\", \"tony\", \"tony\", \"town\", \"town\", \"town\", \"treasure\", \"treasure\", \"tribe\", \"tribe\", \"troop\", \"troop\", \"try\", \"try\", \"try\", \"tweety\", \"two\", \"two\", \"two\", \"u\", \"u\", \"u\", \"unit\", \"vampire\", \"von\", \"von\", \"von\", \"war\", \"war\", \"war\", \"warren\", \"wealthy\", \"wealthy\", \"wife\", \"wife\", \"wife\", \"wolf\", \"woman\", \"woman\", \"woman\", \"woody\", \"world\", \"world\", \"world\", \"york\", \"york\", \"york\"]}, \"R\": 30, \"lambda.step\": 0.01, \"plot.opts\": {\"xlab\": \"PC1\", \"ylab\": \"PC2\"}, \"topic.order\": [2, 1, 3]};\n",
       "\n",
       "function LDAvis_load_lib(url, callback){\n",
       "  var s = document.createElement('script');\n",
       "  s.src = url;\n",
       "  s.async = true;\n",
       "  s.onreadystatechange = s.onload = callback;\n",
       "  s.onerror = function(){console.warn(\"failed to load library \" + url);};\n",
       "  document.getElementsByTagName(\"head\")[0].appendChild(s);\n",
       "}\n",
       "\n",
       "if(typeof(LDAvis) !== \"undefined\"){\n",
       "   // already loaded: just create the visualization\n",
       "   !function(LDAvis){\n",
       "       new LDAvis(\"#\" + \"ldavis_el1951618402469526724219218196\", ldavis_el1951618402469526724219218196_data);\n",
       "   }(LDAvis);\n",
       "}else if(typeof define === \"function\" && define.amd){\n",
       "   // require.js is available: use it to load d3/LDAvis\n",
       "   require.config({paths: {d3: \"https://d3js.org/d3.v5\"}});\n",
       "   require([\"d3\"], function(d3){\n",
       "      window.d3 = d3;\n",
       "      LDAvis_load_lib(\"https://cdn.jsdelivr.net/gh/bmabey/pyLDAvis@3.3.1/pyLDAvis/js/ldavis.v3.0.0.js\", function(){\n",
       "        new LDAvis(\"#\" + \"ldavis_el1951618402469526724219218196\", ldavis_el1951618402469526724219218196_data);\n",
       "      });\n",
       "    });\n",
       "}else{\n",
       "    // require.js not available: dynamically load d3 & LDAvis\n",
       "    LDAvis_load_lib(\"https://d3js.org/d3.v5.js\", function(){\n",
       "         LDAvis_load_lib(\"https://cdn.jsdelivr.net/gh/bmabey/pyLDAvis@3.3.1/pyLDAvis/js/ldavis.v3.0.0.js\", function(){\n",
       "                 new LDAvis(\"#\" + \"ldavis_el1951618402469526724219218196\", ldavis_el1951618402469526724219218196_data);\n",
       "            })\n",
       "         });\n",
       "}\n",
       "</script>"
      ],
      "text/plain": [
       "<IPython.core.display.HTML object>"
      ]
     },
     "execution_count": 78,
     "metadata": {},
     "output_type": "execute_result"
    }
   ],
   "source": [
    "pyLDAvis.display(LDA(df_ww2_USA, num_topics=3))"
   ]
  },
  {
   "cell_type": "code",
   "execution_count": 79,
   "id": "1e5dadc6",
   "metadata": {},
   "outputs": [
    {
     "name": "stdout",
     "output_type": "stream",
     "text": [
      "--- Here are all the topics found : ---\n",
      "(0, '0.005*\"king\" + 0.004*\"german\" + 0.004*\"film\" + 0.004*\"war\" + 0.004*\"inge\" + 0.003*\"french\" + 0.003*\"herbert\" + 0.003*\"young\" + 0.003*\"muck\" + 0.003*\"son\"')\n",
      "---\n",
      "(1, '0.008*\"film\" + 0.006*\"baron\" + 0.005*\"hitler\" + 0.005*\"german\" + 0.005*\"friedemann\" + 0.005*\"nazi\" + 0.004*\"one\" + 0.004*\"dr\" + 0.004*\"day\" + 0.004*\"party\"')\n",
      "---\n",
      "(2, '0.006*\"gray\" + 0.006*\"find\" + 0.005*\"man\" + 0.004*\"young\" + 0.004*\"snowman\" + 0.004*\"village\" + 0.004*\"police\" + 0.003*\"british\" + 0.003*\"beckert\" + 0.003*\"him\"')\n",
      "---\n"
     ]
    },
    {
     "data": {
      "text/html": [
       "\n",
       "<link rel=\"stylesheet\" type=\"text/css\" href=\"https://cdn.jsdelivr.net/gh/bmabey/pyLDAvis@3.3.1/pyLDAvis/js/ldavis.v1.0.0.css\">\n",
       "\n",
       "\n",
       "<div id=\"ldavis_el195161840284554960297972194\"></div>\n",
       "<script type=\"text/javascript\">\n",
       "\n",
       "var ldavis_el195161840284554960297972194_data = {\"mdsDat\": {\"x\": [-0.017210539665419914, 0.09146259200511989, -0.07425205233969998], \"y\": [0.1015452240827465, -0.05154674999848269, -0.04999847408426381], \"topics\": [1, 2, 3], \"cluster\": [1, 1, 1], \"Freq\": [44.687532154766515, 34.53028586899629, 20.782181976237197]}, \"tinfo\": {\"Term\": [\"gray\", \"baron\", \"friedemann\", \"snowman\", \"inge\", \"king\", \"herbert\", \"beckert\", \"muck\", \"crown\", \"kr\\u00fcger\", \"junta\", \"french\", \"british\", \"party\", \"baum\", \"town\", \"miner\", \"rothschild\", \"man\", \"nazi\", \"find\", \"prince\", \"child\", \"pedro\", \"village\", \"hitler\", \"girl\", \"von\", \"duroy\", \"baron\", \"friedemann\", \"baum\", \"von\", \"duroy\", \"kent\", \"mabuse\", \"antonia\", \"astr\\u00e9e\", \"rico\", \"puerto\", \"nuremberg\", \"johann\", \"sa\", \"party\", \"hofmeister\", \"cagliostro\", \"nagel\", \"kolberg\", \"nettelbeck\", \"gneisenau\", \"asylum\", \"elisabeth\", \"erich\", \"camera\", \"kuchenreutter\", \"so\", \"laroche\", \"madeleine\", \"song\", \"hitler\", \"nazi\", \"lohmann\", \"dr\", \"han\", \"film\", \"day\", \"wife\", \"german\", \"one\", \"order\", \"scene\", \"court\", \"leader\", \"polish\", \"year\", \"take\", \"love\", \"two\", \"end\", \"war\", \"return\", \"fall\", \"father\", \"snowman\", \"beckert\", \"kr\\u00fcger\", \"junta\", \"gray\", \"l\\u00e9one\", \"christel\", \"manor\", \"buy\", \"harry\", \"vampyr\", \"gis\\u00e9le\", \"outside\", \"beggar\", \"boer\", \"henning\", \"grotto\", \"crystal\", \"parent\", \"macheath\", \"manager\", \"large\", \"finding\", \"blind\", \"record\", \"ismay\", \"titanic\", \"passenger\", \"may\", \"hella\", \"girl\", \"village\", \"british\", \"man\", \"stock\", \"find\", \"police\", \"doctor\", \"finally\", \"child\", \"young\", \"death\", \"away\", \"see\", \"mountain\", \"him\", \"old\", \"also\", \"father\", \"woman\", \"one\", \"war\", \"love\", \"film\", \"take\", \"fall\", \"daughter\", \"inge\", \"muck\", \"crown\", \"miner\", \"rothschild\", \"katte\", \"mine\", \"mertens\", \"duke\", \"herbert\", \"flute\", \"big\", \"peasant\", \"employment\", \"already\", \"despite\", \"boot\", \"sultan\", \"spanish\", \"elector\", \"japanese\", \"w\\u00fcrttemberg\", \"lieutenant\", \"estranged\", \"literature\", \"future\", \"moved\", \"explanation\", \"contact\", \"debt\", \"michael\", \"martha\", \"fire\", \"king\", \"rescue\", \"musical\", \"prince\", \"town\", \"french\", \"like\", \"plan\", \"helmut\", \"would\", \"war\", \"german\", \"pedro\", \"irish\", \"home\", \"money\", \"help\", \"film\", \"young\", \"son\", \"two\", \"old\", \"love\", \"however\", \"return\", \"woman\", \"find\", \"child\"], \"Freq\": [17.0, 20.0, 16.0, 10.0, 6.0, 12.0, 6.0, 9.0, 5.0, 4.0, 7.0, 7.0, 10.0, 11.0, 13.0, 10.0, 7.0, 4.0, 4.0, 19.0, 19.0, 25.0, 7.0, 12.0, 8.0, 12.0, 19.0, 8.0, 8.0, 8.0, 19.909407000273248, 16.12906187854612, 10.080492303020034, 7.812267849221076, 7.812267849221076, 7.056214418830952, 7.056210357905092, 7.056209545719921, 7.056206296979233, 6.300136216793083, 6.300134998515325, 6.293807669932881, 5.544055578199698, 5.536750784762755, 12.344892989029228, 4.787999711254058, 4.787998492976301, 4.787992401587511, 4.787991589402338, 4.787991589402338, 4.787990777217167, 4.787989558939408, 4.7879708786804525, 4.787964787291663, 4.77924110635924, 4.031926788419807, 4.031918260475501, 4.0319113569015395, 4.0319113569015395, 4.031908108160851, 16.728750170882655, 16.098096506678555, 7.05695350733747, 12.357416072196253, 10.085718714601835, 26.72946396101292, 12.354243676914432, 11.597192070947925, 16.708409805435156, 13.10507313227827, 9.33216925109698, 7.823588086148373, 6.301438555716381, 6.301097437944142, 5.546255787830638, 7.059590672590945, 9.326682940260138, 9.918518214168634, 8.574120281739258, 7.811350892161891, 9.31749712596485, 7.69180373232528, 7.647323599195682, 7.599195942458644, 10.13720385181949, 8.722671935766945, 7.308123075063622, 7.308113661368744, 16.5053952241734, 5.186314845920441, 5.186290370313761, 4.4790419845179255, 4.4790325708230485, 4.479022843338342, 3.7717684955357518, 3.7717684955357518, 3.7717656714272887, 3.7717650438476302, 3.7717615921595087, 3.7717603370001918, 3.77175688531207, 3.7717559439425825, 3.7717531198341194, 3.7717452750883886, 3.771716406424099, 3.0644956341332366, 3.064494692763749, 3.0644915548654565, 3.0644884169671642, 3.0644849652790427, 3.064484023909555, 3.0644830825400673, 3.064482454960409, 3.0644777481129704, 6.573309507928743, 9.44822870293937, 8.724293601604435, 13.68697639823531, 4.480726408321263, 16.175048588387853, 9.437352747458057, 6.607537074922121, 7.312312796863577, 8.061205486056606, 10.441018302383839, 6.6102908944634935, 6.926052578986166, 5.896453549833367, 5.187096496385067, 8.246691674755128, 6.620682358448465, 6.6031597068042815, 7.505806902004196, 7.309691396630142, 7.313126767680615, 7.309056286015769, 6.752143979827126, 7.3039189189315215, 5.891250286884979, 5.344840526280857, 5.1967304717222635, 6.126878190956068, 4.940981830732598, 4.348051214190256, 3.755102845222935, 3.7550952909995403, 2.569214794645199, 2.5692117729558412, 2.56919893077607, 2.5691879771521475, 5.541380552522985, 1.9762685030893126, 1.976266236822294, 1.9762630262773513, 1.976262270855012, 1.976260571154748, 1.9762603822991631, 1.9762573606098053, 1.9762571717542203, 1.9762571717542203, 1.9762567940430507, 1.9762471624082223, 1.9762277102829808, 1.3833189065606908, 1.3833189065606908, 1.3833189065606908, 1.383317678999389, 1.383317678999389, 1.3833166402936723, 1.383316357010295, 1.3833159792991254, 3.166112133892122, 3.1636613549672816, 3.1629372826548954, 7.3161195612987315, 2.5700472700633, 2.5698295195739465, 4.351223988016048, 4.350549018155728, 5.544342563516064, 3.1665939044891216, 4.350117294288718, 3.1640039389982335, 3.761878983608021, 6.131582961286315, 6.723477893801238, 3.7557362668545844, 3.1702189874406748, 4.351749761964323, 3.163911022050478, 3.162925384753049, 6.711316349558039, 4.943352723745038, 4.354294779826012, 4.348104849176358, 3.7635163615288323, 4.348287283671341, 3.7562480654895785, 3.759193834902359, 3.7536701867561217, 3.7532845436518203, 3.1729547494430816], \"Total\": [17.0, 20.0, 16.0, 10.0, 6.0, 12.0, 6.0, 9.0, 5.0, 4.0, 7.0, 7.0, 10.0, 11.0, 13.0, 10.0, 7.0, 4.0, 4.0, 19.0, 19.0, 25.0, 7.0, 12.0, 8.0, 12.0, 19.0, 8.0, 8.0, 8.0, 20.342843167673227, 16.562490099505506, 10.513922477704947, 8.245705733396335, 8.245706032656031, 7.489638794939973, 7.489637400864108, 7.489636717260776, 7.489636343118455, 6.733565031557697, 6.733564545277109, 6.733095351438252, 5.977490869973321, 5.976956575499244, 13.374940431014181, 5.221422678213268, 5.221422002899334, 5.221420811038924, 5.221420550526818, 5.221420664384698, 5.221420205213083, 5.221420937404931, 5.221417234102488, 5.22141524650133, 5.220777996116312, 4.465349505514545, 4.465347288789296, 4.465346242816629, 4.465346411878572, 4.465345712502486, 19.91069588370865, 19.640267337357606, 8.196589704690128, 15.383388303042402, 12.521892955326178, 40.74469922950248, 16.79710687555748, 16.633695814627647, 27.364676818064815, 21.797138962223094, 13.659796185674344, 11.324195444290684, 8.033380139948308, 8.033387595675439, 6.570690818437046, 9.97539839693934, 17.787375592770083, 21.0189494776671, 16.688582634636028, 13.560213792912483, 22.758136373266936, 15.330638533729253, 16.150826661967933, 18.268594322863724, 10.586899632880307, 9.172359167780177, 7.757813952162147, 7.7578145087562955, 17.7077516524903, 5.635999139216636, 5.635996150127632, 4.928726316158824, 4.928725179550931, 4.928724080389495, 4.221452857878952, 4.221452923991677, 4.221452738738932, 4.221452915635695, 4.221452010630036, 4.221452181436542, 4.221452211690655, 4.221452425967531, 4.221451235247563, 4.2214500769214025, 4.221446732441704, 3.514179172007092, 3.5141788184240736, 3.5141785749632026, 3.514178324274282, 3.514177663593901, 3.514177687175004, 3.514176931660472, 3.5141774735698807, 3.5141771897429286, 8.239417234361355, 12.576012192262397, 11.54420096622662, 19.846217566890658, 5.521724016324775, 25.82499890266195, 14.252879735833588, 9.155877826908236, 10.618738373277118, 12.179068139763071, 21.356792556484024, 10.933936415217488, 11.992757112562277, 9.20399806203848, 7.4147585378058665, 18.217717455086373, 12.116021974412085, 13.038330408286788, 18.268594322863724, 17.36371140487958, 21.797138962223094, 22.758136373266936, 21.0189494776671, 40.74469922950248, 17.787375592770083, 16.150826661967933, 9.844530867604817, 6.614685592218156, 5.428794351627569, 4.835846957659049, 4.242902136220577, 4.242902837482766, 3.0570088364796337, 3.057009851444647, 3.057011769134771, 3.0570129173010825, 6.775282059650372, 2.464061639301806, 2.464062103755911, 2.464062183418695, 2.464062447813301, 2.464062688553593, 2.464062744248412, 2.46406304850197, 2.4640631872791565, 2.4640634250254854, 2.4640632237963795, 2.4640643119503225, 2.4640674483297396, 1.8711117232144328, 1.8711117993567927, 1.8711118108946372, 1.8711119873382622, 1.8711120646393495, 1.8711122926431516, 1.8711123635444173, 1.8711121853910009, 4.404458024290444, 4.40513602663297, 4.405336046980567, 12.286609984725246, 3.763752942950844, 3.8124301885980754, 7.004921453672969, 7.102929001912227, 10.506625794918953, 5.837045622130857, 10.687974402928846, 5.917219764238098, 8.532314434208981, 22.758136373266936, 27.364676818064815, 8.778722981197998, 6.477149887654004, 12.894660158520969, 6.57547521459114, 6.6735925241497505, 40.74469922950248, 21.356792556484024, 15.833484012154283, 16.688582634636028, 12.116021974412085, 21.0189494776671, 13.777953505545401, 15.330638533729253, 17.36371140487958, 25.82499890266195, 12.179068139763071], \"Category\": [\"Default\", \"Default\", \"Default\", \"Default\", \"Default\", \"Default\", \"Default\", \"Default\", \"Default\", \"Default\", \"Default\", \"Default\", \"Default\", \"Default\", \"Default\", \"Default\", \"Default\", \"Default\", \"Default\", \"Default\", \"Default\", \"Default\", \"Default\", \"Default\", \"Default\", \"Default\", \"Default\", \"Default\", \"Default\", \"Default\", \"Topic1\", \"Topic1\", \"Topic1\", \"Topic1\", \"Topic1\", \"Topic1\", \"Topic1\", \"Topic1\", \"Topic1\", \"Topic1\", \"Topic1\", \"Topic1\", \"Topic1\", \"Topic1\", \"Topic1\", \"Topic1\", \"Topic1\", \"Topic1\", \"Topic1\", \"Topic1\", \"Topic1\", \"Topic1\", \"Topic1\", \"Topic1\", \"Topic1\", \"Topic1\", \"Topic1\", \"Topic1\", \"Topic1\", \"Topic1\", \"Topic1\", \"Topic1\", \"Topic1\", \"Topic1\", \"Topic1\", \"Topic1\", \"Topic1\", \"Topic1\", \"Topic1\", \"Topic1\", \"Topic1\", \"Topic1\", \"Topic1\", \"Topic1\", \"Topic1\", \"Topic1\", \"Topic1\", \"Topic1\", \"Topic1\", \"Topic1\", \"Topic1\", \"Topic1\", \"Topic1\", \"Topic1\", \"Topic2\", \"Topic2\", \"Topic2\", \"Topic2\", \"Topic2\", \"Topic2\", \"Topic2\", \"Topic2\", \"Topic2\", \"Topic2\", \"Topic2\", \"Topic2\", \"Topic2\", \"Topic2\", \"Topic2\", \"Topic2\", \"Topic2\", \"Topic2\", \"Topic2\", \"Topic2\", \"Topic2\", \"Topic2\", \"Topic2\", \"Topic2\", \"Topic2\", \"Topic2\", \"Topic2\", \"Topic2\", \"Topic2\", \"Topic2\", \"Topic2\", \"Topic2\", \"Topic2\", \"Topic2\", \"Topic2\", \"Topic2\", \"Topic2\", \"Topic2\", \"Topic2\", \"Topic2\", \"Topic2\", \"Topic2\", \"Topic2\", \"Topic2\", \"Topic2\", \"Topic2\", \"Topic2\", \"Topic2\", \"Topic2\", \"Topic2\", \"Topic2\", \"Topic2\", \"Topic2\", \"Topic2\", \"Topic2\", \"Topic2\", \"Topic2\", \"Topic3\", \"Topic3\", \"Topic3\", \"Topic3\", \"Topic3\", \"Topic3\", \"Topic3\", \"Topic3\", \"Topic3\", \"Topic3\", \"Topic3\", \"Topic3\", \"Topic3\", \"Topic3\", \"Topic3\", \"Topic3\", \"Topic3\", \"Topic3\", \"Topic3\", \"Topic3\", \"Topic3\", \"Topic3\", \"Topic3\", \"Topic3\", \"Topic3\", \"Topic3\", \"Topic3\", \"Topic3\", \"Topic3\", \"Topic3\", \"Topic3\", \"Topic3\", \"Topic3\", \"Topic3\", \"Topic3\", \"Topic3\", \"Topic3\", \"Topic3\", \"Topic3\", \"Topic3\", \"Topic3\", \"Topic3\", \"Topic3\", \"Topic3\", \"Topic3\", \"Topic3\", \"Topic3\", \"Topic3\", \"Topic3\", \"Topic3\", \"Topic3\", \"Topic3\", \"Topic3\", \"Topic3\", \"Topic3\", \"Topic3\", \"Topic3\", \"Topic3\", \"Topic3\", \"Topic3\", \"Topic3\"], \"logprob\": [30.0, 29.0, 28.0, 27.0, 26.0, 25.0, 24.0, 23.0, 22.0, 21.0, 20.0, 19.0, 18.0, 17.0, 16.0, 15.0, 14.0, 13.0, 12.0, 11.0, 10.0, 9.0, 8.0, 7.0, 6.0, 5.0, 4.0, 3.0, 2.0, 1.0, -5.166, -5.3765, -5.8466, -6.1015, -6.1015, -6.2033, -6.2033, -6.2033, -6.2033, -6.3166, -6.3166, -6.3176, -6.4444, -6.4458, -5.6439, -6.5911, -6.5911, -6.5911, -6.5911, -6.5911, -6.5911, -6.5911, -6.5911, -6.5911, -6.5929, -6.7629, -6.7629, -6.7629, -6.7629, -6.7629, -5.34, -5.3785, -6.2032, -5.6429, -5.8461, -4.8714, -5.6432, -5.7064, -5.3413, -5.5842, -5.9237, -6.1, -6.3164, -6.3164, -6.444, -6.2028, -5.9243, -5.8628, -6.0084, -6.1016, -5.9253, -6.117, -6.1228, -6.1291, -5.5831, -5.7334, -5.9103, -5.9103, -5.0956, -6.2533, -6.2533, -6.3999, -6.3999, -6.3999, -6.5718, -6.5718, -6.5718, -6.5718, -6.5718, -6.5718, -6.5718, -6.5718, -6.5718, -6.5718, -6.5718, -6.7794, -6.7794, -6.7794, -6.7794, -6.7794, -6.7794, -6.7794, -6.7794, -6.7794, -6.0163, -5.6535, -5.7332, -5.2829, -6.3995, -5.1158, -5.6546, -6.0111, -5.9098, -5.8123, -5.5536, -6.0107, -5.964, -6.125, -6.2531, -5.7895, -6.0091, -6.0118, -5.8836, -5.9101, -5.9096, -5.9102, -5.9895, -5.9109, -6.1258, -6.2232, -6.2513, -5.5789, -5.794, -5.9218, -6.0685, -6.0685, -6.448, -6.448, -6.448, -6.448, -5.6793, -6.7104, -6.7104, -6.7104, -6.7104, -6.7104, -6.7104, -6.7104, -6.7104, -6.7104, -6.7104, -6.7104, -6.7104, -7.0671, -7.0671, -7.0671, -7.0671, -7.0671, -7.0671, -7.0671, -7.0671, -6.2391, -6.2398, -6.2401, -5.4015, -6.4476, -6.4477, -5.9211, -5.9213, -5.6788, -6.2389, -5.9214, -6.2397, -6.0667, -5.5781, -5.486, -6.0683, -6.2378, -5.921, -6.2398, -6.2401, -5.4878, -5.7935, -5.9204, -5.9218, -6.0662, -5.9218, -6.0682, -6.0674, -6.0688, -6.0689, -6.2369], \"loglift\": [30.0, 29.0, 28.0, 27.0, 26.0, 25.0, 24.0, 23.0, 22.0, 21.0, 20.0, 19.0, 18.0, 17.0, 16.0, 15.0, 14.0, 13.0, 12.0, 11.0, 10.0, 9.0, 8.0, 7.0, 6.0, 5.0, 4.0, 3.0, 2.0, 1.0, 0.7839, 0.779, 0.7634, 0.7515, 0.7515, 0.7459, 0.7459, 0.7459, 0.7459, 0.7389, 0.7389, 0.738, 0.7302, 0.729, 0.7253, 0.7188, 0.7188, 0.7188, 0.7188, 0.7188, 0.7188, 0.7188, 0.7188, 0.7188, 0.7171, 0.7034, 0.7034, 0.7034, 0.7034, 0.7034, 0.6313, 0.6066, 0.6558, 0.5864, 0.5891, 0.3839, 0.4983, 0.4448, 0.3121, 0.2967, 0.4245, 0.4357, 0.5626, 0.5626, 0.636, 0.4597, 0.1599, 0.0545, 0.1395, 0.2539, -0.0876, 0.1158, 0.0579, -0.0717, 1.0199, 1.0131, 1.0036, 1.0036, 0.993, 0.9802, 0.9802, 0.9677, 0.9677, 0.9677, 0.9507, 0.9507, 0.9507, 0.9507, 0.9507, 0.9507, 0.9507, 0.9507, 0.9507, 0.9507, 0.9507, 0.9264, 0.9264, 0.9264, 0.9264, 0.9264, 0.9264, 0.9264, 0.9264, 0.9264, 0.8374, 0.7774, 0.7833, 0.6918, 0.8544, 0.5955, 0.651, 0.7371, 0.6903, 0.6507, 0.3477, 0.5601, 0.5143, 0.618, 0.706, 0.2708, 0.459, 0.383, 0.1738, 0.1982, -0.0288, -0.0725, -0.0722, -0.6556, -0.0417, -0.0425, 0.4244, 1.4945, 1.4769, 1.4647, 1.4489, 1.4489, 1.3972, 1.3972, 1.3972, 1.3972, 1.37, 1.3505, 1.3505, 1.3505, 1.3505, 1.3505, 1.3505, 1.3505, 1.3505, 1.3505, 1.3505, 1.3505, 1.3505, 1.269, 1.269, 1.269, 1.269, 1.269, 1.269, 1.269, 1.269, 1.241, 1.24, 1.2398, 1.0526, 1.1896, 1.1766, 1.0949, 1.0809, 0.9318, 0.9595, 0.6722, 0.945, 0.7521, 0.2596, 0.1674, 0.722, 0.8566, 0.4848, 0.8395, 0.8244, -0.2325, 0.1077, 0.2801, 0.2261, 0.4019, -0.0046, 0.2714, 0.1654, 0.0394, -0.3576, 0.226]}, \"token.table\": {\"Topic\": [3, 1, 2, 3, 1, 1, 1, 1, 2, 3, 1, 1, 2, 2, 3, 2, 2, 3, 2, 3, 2, 1, 1, 1, 2, 3, 2, 3, 1, 2, 3, 3, 2, 1, 2, 3, 1, 2, 3, 1, 2, 3, 3, 3, 1, 2, 3, 1, 2, 3, 3, 1, 3, 1, 3, 1, 2, 3, 1, 3, 3, 1, 2, 3, 1, 2, 3, 1, 2, 3, 1, 2, 3, 1, 2, 3, 2, 1, 3, 3, 1, 2, 3, 1, 3, 1, 2, 3, 2, 3, 2, 1, 1, 2, 2, 1, 2, 3, 2, 2, 1, 3, 1, 3, 2, 1, 3, 1, 2, 3, 1, 2, 3, 1, 1, 2, 3, 1, 2, 3, 3, 2, 3, 2, 3, 1, 2, 3, 1, 1, 2, 3, 1, 2, 1, 2, 1, 1, 2, 3, 3, 1, 2, 3, 3, 1, 2, 1, 2, 3, 2, 1, 2, 1, 1, 2, 3, 2, 2, 1, 3, 2, 3, 1, 3, 3, 3, 1, 2, 3, 2, 3, 3, 3, 1, 3, 1, 1, 2, 3, 1, 1, 1, 2, 3, 1, 2, 3, 1, 2, 3, 2, 2, 1, 3, 2, 3, 1, 3, 1, 2, 3, 1, 2, 3, 1, 3, 1, 2, 3, 1, 2, 2, 3, 1, 2, 3, 1, 3, 1, 1, 2, 3, 1, 2, 3, 2, 1, 1, 2, 3, 1, 3, 2, 3, 3, 1, 2, 3, 2, 1, 3, 1, 2, 3, 2, 1, 2, 3, 1, 1, 2, 3, 1, 2, 3, 1, 2, 3, 1, 2, 3, 3, 1, 2, 3, 1, 2, 3], \"Freq\": [0.8116676614157092, 0.23009080964026546, 0.536878555827286, 0.23009080964026546, 0.9346247707672725, 0.9346248174561456, 0.9575937393174476, 0.3335346461582254, 0.5836856307768945, 0.08338366153955636, 0.9831467428201954, 0.9511198148174734, 0.981208851002518, 0.9475410670067022, 0.8116678540493958, 0.8536845626951138, 0.9475412701429751, 0.8116675428479407, 0.7796122075776521, 0.2598707358592174, 0.8115688853165984, 0.9575935439088464, 0.9577116674410314, 0.08210808811678541, 0.6568647049342833, 0.24632426435035623, 0.8871546159389713, 0.5344414474958182, 0.7468836150505642, 0.12448060250842737, 0.12448060250842737, 0.8271560359586589, 0.9475411769169055, 0.30473773106568586, 0.5078962184428097, 0.10157924368856196, 0.7144087424639747, 0.17860218561599367, 0.05953406187199788, 0.18291673959402824, 0.6402085885790989, 0.27437510939104237, 0.5344414983813667, 0.811667643069714, 0.21843891299228504, 0.7645361954729976, 0.10921945649614252, 0.7800622179982766, 0.13001036966637944, 0.06500518483318972, 0.9813501222129551, 0.9702019412670129, 0.8116674851055982, 0.9575944184930574, 0.8116677407160979, 0.5899611998876714, 0.2949805999438357, 0.14749029997191784, 0.9575947830141087, 0.5344416086434582, 0.5344414677471816, 0.4953306829079189, 0.3095816768174493, 0.18574900609046957, 0.4379099923406667, 0.4379099923406667, 0.16421624712775001, 0.6626628864755443, 0.17180148908625223, 0.17180148908625223, 0.2825194382366302, 0.6592120225521372, 0.09417314607887674, 0.23233302052073046, 0.6195547213886146, 0.15488868034715364, 0.8536845035521966, 0.22699743886403478, 0.6809923165921044, 0.8116680070416995, 0.38071214089821453, 0.09517803522455363, 0.5710682113473218, 0.9660383133136303, 0.5344415549507239, 0.6212388369511982, 0.1461738439885172, 0.2558042269799051, 0.8495746484117183, 0.12136780691595975, 0.9475410651311307, 0.9575938735993674, 0.056472443234167835, 0.9600315349808531, 0.947541225013189, 0.7986013005922166, 0.1597202601184433, 0.07986013005922166, 0.8115690663056752, 0.8536848992009586, 0.5069948589929176, 0.5069948589929176, 0.44953298978681877, 0.44953298978681877, 0.9475412318039848, 0.1475953312638328, 0.8855719875829968, 0.38424133085045764, 0.43913294954338017, 0.16467485607876756, 0.8538124483087383, 0.10044852333043978, 0.05022426166521989, 0.9575934200582594, 0.38775740799155, 0.31020592639324, 0.31020592639324, 0.43547831668796805, 0.29031887779197874, 0.29031887779197874, 0.90707259118388, 0.4631666785600027, 0.4631666785600027, 0.8536847840902675, 0.8116671266656135, 1.0037656485833795, 0.9023159798547715, 0.981351432223767, 0.9346245114956979, 0.3255576603288306, 0.08138941508220765, 0.5697259055754536, 0.9575938102697976, 0.9023160445925698, 0.895786543709545, 0.8536844176577875, 0.8957871982345762, 0.7468829218734498, 0.1244804869789083, 0.1244804869789083, 0.5344416303918365, 0.17131954497812243, 0.17131954497812243, 0.5139586349343673, 0.5344416053479287, 0.8540137120679063, 0.12200195886684376, 0.47576117020620495, 0.33303281914434346, 0.190304468082482, 0.8871541454307185, 0.9346246854610589, 0.9475417041807349, 0.895787164319285, 0.25193717559266676, 0.705424091659467, 0.05038743511853336, 0.9475424548792972, 0.8115686981616335, 0.22700774594793655, 0.6810232378438097, 0.8536848302520268, 0.9813504907928741, 0.22704269049336653, 0.6811280714800996, 0.9813511064029754, 0.9427509453619062, 0.3041605260045618, 0.3041605260045618, 0.4562407890068427, 0.674330792365839, 0.2697323169463356, 0.5344415328713872, 0.9210148103143722, 0.26229988498955953, 0.7868996549686786, 0.9575937624926141, 0.8146528621617344, 0.0509158038851084, 0.15274741165532518, 0.9575937893885839, 0.8911206045401309, 0.1650706811380678, 0.5777473839832373, 0.3301413622761356, 0.5964085480452489, 0.32114306433205714, 0.0458775806188653, 0.6588678101536181, 0.14641506892302625, 0.14641506892302625, 0.9475411067126892, 0.9475414441842828, 0.8972002575932277, 0.07476668813276897, 0.8536849618958942, 0.8116678278082882, 0.5695589222611134, 0.4556471378088907, 0.280689294987262, 0.280689294987262, 0.3742523933163493, 0.2806450397489485, 0.6314513394351341, 0.07016125993723712, 0.9131459942026621, 0.15219099903377703, 0.14275677559177466, 0.2855135511835493, 0.5710271023670986, 0.8910585113806285, 0.8536846235939192, 0.2656922532263724, 0.7970767596791173, 0.5218308410572094, 0.2609154205286047, 0.2609154205286047, 0.8910584470306958, 0.9427507895450947, 1.0038553776005694, 0.7064519540797362, 0.08830649425996702, 0.26491948277990107, 0.3259453098293642, 0.6518906196587284, 0.10864843660978807, 0.9445635971594988, 0.8957869884034334, 0.3789437621810974, 0.3157864684842478, 0.2526291747873982, 0.8957873046202072, 0.8116674188203229, 0.7244114316786109, 0.18110285791965272, 0.8116674971344465, 0.5059768346971979, 0.33731788979813193, 0.16865894489906597, 0.8536847783618068, 0.4223609723808798, 0.5631479631745063, 0.5392908551335635, 0.23968482450380596, 0.23968482450380596, 0.9475410799706953, 0.1590329247001314, 0.7156481611505913, 0.0795164623500657, 0.9702019764783516, 0.39546296113120827, 0.30758230310205087, 0.2636419740874722, 0.7214271640970624, 0.1803567910242656, 0.12023786068284374, 0.34554824484780766, 0.40313961898910894, 0.2303654965652051, 0.11720149412106243, 0.4688059764842497, 0.4688059764842497, 0.8116660935380213, 0.7017263593349561, 0.10024662276213658, 0.20049324552427317, 0.2809410628553571, 0.46823510475892843, 0.23411755237946422], \"Term\": [\"already\", \"also\", \"also\", \"also\", \"antonia\", \"astr\\u00e9e\", \"asylum\", \"away\", \"away\", \"away\", \"baron\", \"baum\", \"beckert\", \"beggar\", \"big\", \"blind\", \"boer\", \"boot\", \"british\", \"british\", \"buy\", \"cagliostro\", \"camera\", \"child\", \"child\", \"child\", \"christel\", \"contact\", \"court\", \"court\", \"court\", \"crown\", \"crystal\", \"daughter\", \"daughter\", \"daughter\", \"day\", \"day\", \"day\", \"death\", \"death\", \"death\", \"debt\", \"despite\", \"doctor\", \"doctor\", \"doctor\", \"dr\", \"dr\", \"dr\", \"duke\", \"duroy\", \"elector\", \"elisabeth\", \"employment\", \"end\", \"end\", \"end\", \"erich\", \"estranged\", \"explanation\", \"fall\", \"fall\", \"fall\", \"father\", \"father\", \"father\", \"film\", \"film\", \"film\", \"finally\", \"finally\", \"finally\", \"find\", \"find\", \"find\", \"finding\", \"fire\", \"fire\", \"flute\", \"french\", \"french\", \"french\", \"friedemann\", \"future\", \"german\", \"german\", \"german\", \"girl\", \"girl\", \"gis\\u00e9le\", \"gneisenau\", \"gray\", \"gray\", \"grotto\", \"han\", \"han\", \"han\", \"harry\", \"hella\", \"helmut\", \"helmut\", \"help\", \"help\", \"henning\", \"herbert\", \"herbert\", \"him\", \"him\", \"him\", \"hitler\", \"hitler\", \"hitler\", \"hofmeister\", \"home\", \"home\", \"home\", \"however\", \"however\", \"however\", \"inge\", \"irish\", \"irish\", \"ismay\", \"japanese\", \"johann\", \"junta\", \"katte\", \"kent\", \"king\", \"king\", \"king\", \"kolberg\", \"kr\\u00fcger\", \"kuchenreutter\", \"large\", \"laroche\", \"leader\", \"leader\", \"leader\", \"lieutenant\", \"like\", \"like\", \"like\", \"literature\", \"lohmann\", \"lohmann\", \"love\", \"love\", \"love\", \"l\\u00e9one\", \"mabuse\", \"macheath\", \"madeleine\", \"man\", \"man\", \"man\", \"manager\", \"manor\", \"martha\", \"martha\", \"may\", \"mertens\", \"michael\", \"michael\", \"mine\", \"miner\", \"money\", \"money\", \"money\", \"mountain\", \"mountain\", \"moved\", \"muck\", \"musical\", \"musical\", \"nagel\", \"nazi\", \"nazi\", \"nazi\", \"nettelbeck\", \"nuremberg\", \"old\", \"old\", \"old\", \"one\", \"one\", \"one\", \"order\", \"order\", \"order\", \"outside\", \"parent\", \"party\", \"party\", \"passenger\", \"peasant\", \"pedro\", \"pedro\", \"plan\", \"plan\", \"plan\", \"police\", \"police\", \"police\", \"polish\", \"polish\", \"prince\", \"prince\", \"prince\", \"puerto\", \"record\", \"rescue\", \"rescue\", \"return\", \"return\", \"return\", \"rico\", \"rothschild\", \"sa\", \"scene\", \"scene\", \"scene\", \"see\", \"see\", \"see\", \"snowman\", \"so\", \"son\", \"son\", \"son\", \"song\", \"spanish\", \"stock\", \"stock\", \"sultan\", \"take\", \"take\", \"take\", \"titanic\", \"town\", \"town\", \"two\", \"two\", \"two\", \"vampyr\", \"village\", \"village\", \"village\", \"von\", \"war\", \"war\", \"war\", \"wife\", \"wife\", \"wife\", \"woman\", \"woman\", \"woman\", \"would\", \"would\", \"would\", \"w\\u00fcrttemberg\", \"year\", \"year\", \"year\", \"young\", \"young\", \"young\"]}, \"R\": 30, \"lambda.step\": 0.01, \"plot.opts\": {\"xlab\": \"PC1\", \"ylab\": \"PC2\"}, \"topic.order\": [2, 3, 1]};\n",
       "\n",
       "function LDAvis_load_lib(url, callback){\n",
       "  var s = document.createElement('script');\n",
       "  s.src = url;\n",
       "  s.async = true;\n",
       "  s.onreadystatechange = s.onload = callback;\n",
       "  s.onerror = function(){console.warn(\"failed to load library \" + url);};\n",
       "  document.getElementsByTagName(\"head\")[0].appendChild(s);\n",
       "}\n",
       "\n",
       "if(typeof(LDAvis) !== \"undefined\"){\n",
       "   // already loaded: just create the visualization\n",
       "   !function(LDAvis){\n",
       "       new LDAvis(\"#\" + \"ldavis_el195161840284554960297972194\", ldavis_el195161840284554960297972194_data);\n",
       "   }(LDAvis);\n",
       "}else if(typeof define === \"function\" && define.amd){\n",
       "   // require.js is available: use it to load d3/LDAvis\n",
       "   require.config({paths: {d3: \"https://d3js.org/d3.v5\"}});\n",
       "   require([\"d3\"], function(d3){\n",
       "      window.d3 = d3;\n",
       "      LDAvis_load_lib(\"https://cdn.jsdelivr.net/gh/bmabey/pyLDAvis@3.3.1/pyLDAvis/js/ldavis.v3.0.0.js\", function(){\n",
       "        new LDAvis(\"#\" + \"ldavis_el195161840284554960297972194\", ldavis_el195161840284554960297972194_data);\n",
       "      });\n",
       "    });\n",
       "}else{\n",
       "    // require.js not available: dynamically load d3 & LDAvis\n",
       "    LDAvis_load_lib(\"https://d3js.org/d3.v5.js\", function(){\n",
       "         LDAvis_load_lib(\"https://cdn.jsdelivr.net/gh/bmabey/pyLDAvis@3.3.1/pyLDAvis/js/ldavis.v3.0.0.js\", function(){\n",
       "                 new LDAvis(\"#\" + \"ldavis_el195161840284554960297972194\", ldavis_el195161840284554960297972194_data);\n",
       "            })\n",
       "         });\n",
       "}\n",
       "</script>"
      ],
      "text/plain": [
       "<IPython.core.display.HTML object>"
      ]
     },
     "execution_count": 79,
     "metadata": {},
     "output_type": "execute_result"
    }
   ],
   "source": [
    "pyLDAvis.display(LDA(df_ww2_germany, num_topics=3))"
   ]
  },
  {
   "cell_type": "code",
   "execution_count": null,
   "id": "dd70e81f",
   "metadata": {},
   "outputs": [],
   "source": []
  }
 ],
 "metadata": {
  "kernelspec": {
   "display_name": "Python 3 (ipykernel)",
   "language": "python",
   "name": "python3"
  },
  "language_info": {
   "codemirror_mode": {
    "name": "ipython",
    "version": 3
   },
   "file_extension": ".py",
   "mimetype": "text/x-python",
   "name": "python",
   "nbconvert_exporter": "python",
   "pygments_lexer": "ipython3",
   "version": "3.9.7"
  }
 },
 "nbformat": 4,
 "nbformat_minor": 5
}
