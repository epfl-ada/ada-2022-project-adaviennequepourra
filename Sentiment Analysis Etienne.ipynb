{
 "cells": [
  {
   "cell_type": "code",
   "execution_count": 43,
   "id": "d6e8a2dd",
   "metadata": {},
   "outputs": [
    {
     "name": "stdout",
     "output_type": "stream",
     "text": [
      "The autoreload extension is already loaded. To reload it, use:\n",
      "  %reload_ext autoreload\n"
     ]
    }
   ],
   "source": [
    "import pandas as pd\n",
    "import numpy as np\n",
    "import matplotlib.pyplot as plt\n",
    "%matplotlib inline\n",
    "import seaborn as sns\n",
    "import math\n",
    "import datetime\n",
    "\n",
    "%load_ext autoreload\n",
    "%autoreload 2\n",
    "\n",
    "import warnings; warnings.simplefilter('ignore')\n",
    "import os, codecs, string, random\n",
    "from numpy.random import seed as random_seed\n",
    "from numpy.random import shuffle as random_shuffle\n",
    "\n",
    "seed = 42\n",
    "random.seed(seed)\n",
    "np.random.seed(seed)\n",
    "\n",
    "#NLP libraries\n",
    "import spacy, nltk, gensim, sklearn\n",
    "import pyLDAvis.gensim_models\n",
    "#import pyLDAvis.gensim #LDA visualization library\n",
    "\n",
    "import gensim #the library for Topic modelling\n",
    "from gensim.models.ldamulticore import LdaMulticore\n",
    "from gensim import corpora, models\n",
    "from nltk.corpus import stopwords\n",
    "import string\n",
    "from nltk.stem.wordnet import WordNetLemmatizer\n",
    "from itertools import chain\n",
    "\n",
    "\n",
    "#Vader\n",
    "import vaderSentiment\n",
    "from vaderSentiment.vaderSentiment import SentimentIntensityAnalyzer"
   ]
  },
  {
   "cell_type": "code",
   "execution_count": 2,
   "id": "b6de807a",
   "metadata": {},
   "outputs": [],
   "source": [
    "data_folder = './MovieSummaries/'\n",
    "\n",
    "summaries = pd.read_csv(data_folder+'plot_summaries.txt', sep='\t', header=None, names=[\"wiki_id\", \"summary\"])\n",
    "movie_meta = pd.read_csv(data_folder+'movie.metadata.tsv', sep='\t', header=None, names=[\"wiki_id\", \"freebase_id\", \"movie_name\", \"release_date\", \"revenue\", \"runtime\", \"languages\", \"coutries\", \"genres\"])\n",
    "char_meta = pd.read_csv(data_folder+'character.metadata.tsv', sep='\t', header=None, names=[\"wiki_id\", \"freebase_id\", \"release_date\", \"character_name\", \"birth\", \"gender\", \"height\", \"ethnicity\", \"actor_name\", \"actor_age\", \"character_actor_map\", \"character_id\", \"actor_id\"])"
   ]
  },
  {
   "cell_type": "code",
   "execution_count": 3,
   "id": "3ee2b229",
   "metadata": {},
   "outputs": [],
   "source": [
    "# mergin databases\n",
    "summaries = summaries.merge(movie_meta, on=\"wiki_id\", how = 'right')\n",
    "summaries[\"languages\"] = summaries.apply(lambda x: list(eval(x[\"languages\"]).values()), axis=1)\n",
    "summaries[\"coutries\"] = summaries.apply(lambda x: list(eval(x[\"coutries\"]).values()), axis=1)\n",
    "summaries[\"genres\"] = summaries.apply(lambda x: list(eval(x[\"genres\"]).values()), axis=1)"
   ]
  },
  {
   "cell_type": "code",
   "execution_count": 4,
   "id": "dd9e4e16",
   "metadata": {},
   "outputs": [
    {
     "data": {
      "text/html": [
       "<div>\n",
       "<style scoped>\n",
       "    .dataframe tbody tr th:only-of-type {\n",
       "        vertical-align: middle;\n",
       "    }\n",
       "\n",
       "    .dataframe tbody tr th {\n",
       "        vertical-align: top;\n",
       "    }\n",
       "\n",
       "    .dataframe thead th {\n",
       "        text-align: right;\n",
       "    }\n",
       "</style>\n",
       "<table border=\"1\" class=\"dataframe\">\n",
       "  <thead>\n",
       "    <tr style=\"text-align: right;\">\n",
       "      <th></th>\n",
       "      <th>wiki_id</th>\n",
       "      <th>summary</th>\n",
       "      <th>freebase_id</th>\n",
       "      <th>movie_name</th>\n",
       "      <th>release_date</th>\n",
       "      <th>revenue</th>\n",
       "      <th>runtime</th>\n",
       "      <th>languages</th>\n",
       "      <th>coutries</th>\n",
       "      <th>genres</th>\n",
       "    </tr>\n",
       "  </thead>\n",
       "  <tbody>\n",
       "    <tr>\n",
       "      <th>0</th>\n",
       "      <td>975900</td>\n",
       "      <td>Set in the second half of the 22nd century, th...</td>\n",
       "      <td>/m/03vyhn</td>\n",
       "      <td>Ghosts of Mars</td>\n",
       "      <td>2001-08-24</td>\n",
       "      <td>14010832.0</td>\n",
       "      <td>98.0</td>\n",
       "      <td>[English Language]</td>\n",
       "      <td>[United States of America]</td>\n",
       "      <td>[Thriller, Science Fiction, Horror, Adventure,...</td>\n",
       "    </tr>\n",
       "    <tr>\n",
       "      <th>1</th>\n",
       "      <td>3196793</td>\n",
       "      <td>NaN</td>\n",
       "      <td>/m/08yl5d</td>\n",
       "      <td>Getting Away with Murder: The JonBenét Ramsey ...</td>\n",
       "      <td>2000-02-16</td>\n",
       "      <td>NaN</td>\n",
       "      <td>95.0</td>\n",
       "      <td>[English Language]</td>\n",
       "      <td>[United States of America]</td>\n",
       "      <td>[Mystery, Biographical film, Drama, Crime Drama]</td>\n",
       "    </tr>\n",
       "    <tr>\n",
       "      <th>2</th>\n",
       "      <td>28463795</td>\n",
       "      <td>NaN</td>\n",
       "      <td>/m/0crgdbh</td>\n",
       "      <td>Brun bitter</td>\n",
       "      <td>1988</td>\n",
       "      <td>NaN</td>\n",
       "      <td>83.0</td>\n",
       "      <td>[Norwegian Language]</td>\n",
       "      <td>[Norway]</td>\n",
       "      <td>[Crime Fiction, Drama]</td>\n",
       "    </tr>\n",
       "    <tr>\n",
       "      <th>3</th>\n",
       "      <td>9363483</td>\n",
       "      <td>A series of murders of rich young women throug...</td>\n",
       "      <td>/m/0285_cd</td>\n",
       "      <td>White Of The Eye</td>\n",
       "      <td>1987</td>\n",
       "      <td>NaN</td>\n",
       "      <td>110.0</td>\n",
       "      <td>[English Language]</td>\n",
       "      <td>[United Kingdom]</td>\n",
       "      <td>[Thriller, Erotic thriller, Psychological thri...</td>\n",
       "    </tr>\n",
       "    <tr>\n",
       "      <th>4</th>\n",
       "      <td>261236</td>\n",
       "      <td>Eva, an upper class housewife, becomes frustra...</td>\n",
       "      <td>/m/01mrr1</td>\n",
       "      <td>A Woman in Flames</td>\n",
       "      <td>1983</td>\n",
       "      <td>NaN</td>\n",
       "      <td>106.0</td>\n",
       "      <td>[German Language]</td>\n",
       "      <td>[Germany]</td>\n",
       "      <td>[Drama]</td>\n",
       "    </tr>\n",
       "  </tbody>\n",
       "</table>\n",
       "</div>"
      ],
      "text/plain": [
       "    wiki_id                                            summary freebase_id  \\\n",
       "0    975900  Set in the second half of the 22nd century, th...   /m/03vyhn   \n",
       "1   3196793                                                NaN   /m/08yl5d   \n",
       "2  28463795                                                NaN  /m/0crgdbh   \n",
       "3   9363483  A series of murders of rich young women throug...  /m/0285_cd   \n",
       "4    261236  Eva, an upper class housewife, becomes frustra...   /m/01mrr1   \n",
       "\n",
       "                                          movie_name release_date     revenue  \\\n",
       "0                                     Ghosts of Mars   2001-08-24  14010832.0   \n",
       "1  Getting Away with Murder: The JonBenét Ramsey ...   2000-02-16         NaN   \n",
       "2                                        Brun bitter         1988         NaN   \n",
       "3                                   White Of The Eye         1987         NaN   \n",
       "4                                  A Woman in Flames         1983         NaN   \n",
       "\n",
       "   runtime             languages                    coutries  \\\n",
       "0     98.0    [English Language]  [United States of America]   \n",
       "1     95.0    [English Language]  [United States of America]   \n",
       "2     83.0  [Norwegian Language]                    [Norway]   \n",
       "3    110.0    [English Language]            [United Kingdom]   \n",
       "4    106.0     [German Language]                   [Germany]   \n",
       "\n",
       "                                              genres  \n",
       "0  [Thriller, Science Fiction, Horror, Adventure,...  \n",
       "1   [Mystery, Biographical film, Drama, Crime Drama]  \n",
       "2                             [Crime Fiction, Drama]  \n",
       "3  [Thriller, Erotic thriller, Psychological thri...  \n",
       "4                                            [Drama]  "
      ]
     },
     "execution_count": 4,
     "metadata": {},
     "output_type": "execute_result"
    }
   ],
   "source": [
    "summaries.head()"
   ]
  },
  {
   "cell_type": "code",
   "execution_count": 5,
   "id": "d8d7487e",
   "metadata": {},
   "outputs": [
    {
     "data": {
      "text/plain": [
       "81741"
      ]
     },
     "execution_count": 5,
     "metadata": {},
     "output_type": "execute_result"
    }
   ],
   "source": [
    "len(summaries)"
   ]
  },
  {
   "cell_type": "code",
   "execution_count": 6,
   "id": "fbbad010",
   "metadata": {},
   "outputs": [],
   "source": [
    "# df is used for average sentiment analysis over movies\n",
    "df = summaries.copy()"
   ]
  },
  {
   "cell_type": "code",
   "execution_count": 7,
   "id": "c7cac817",
   "metadata": {},
   "outputs": [],
   "source": [
    "df.loc[df['wiki_id']== 29666067, 'release_date'] = datetime.datetime(2010, 12, 2)\n",
    "dates = pd.to_datetime(df['release_date'])\n",
    "df['release_date'] = dates"
   ]
  },
  {
   "cell_type": "code",
   "execution_count": 8,
   "id": "c4f068da",
   "metadata": {},
   "outputs": [],
   "source": [
    "df = df.sort_values(by=['release_date'])"
   ]
  },
  {
   "cell_type": "code",
   "execution_count": 9,
   "id": "4f21c81d",
   "metadata": {},
   "outputs": [],
   "source": [
    "df = df.dropna(subset=['summary'])"
   ]
  },
  {
   "cell_type": "code",
   "execution_count": 10,
   "id": "3354afb2",
   "metadata": {},
   "outputs": [
    {
     "data": {
      "text/html": [
       "<div>\n",
       "<style scoped>\n",
       "    .dataframe tbody tr th:only-of-type {\n",
       "        vertical-align: middle;\n",
       "    }\n",
       "\n",
       "    .dataframe tbody tr th {\n",
       "        vertical-align: top;\n",
       "    }\n",
       "\n",
       "    .dataframe thead th {\n",
       "        text-align: right;\n",
       "    }\n",
       "</style>\n",
       "<table border=\"1\" class=\"dataframe\">\n",
       "  <thead>\n",
       "    <tr style=\"text-align: right;\">\n",
       "      <th></th>\n",
       "      <th>wiki_id</th>\n",
       "      <th>summary</th>\n",
       "      <th>freebase_id</th>\n",
       "      <th>movie_name</th>\n",
       "      <th>release_date</th>\n",
       "      <th>revenue</th>\n",
       "      <th>runtime</th>\n",
       "      <th>languages</th>\n",
       "      <th>coutries</th>\n",
       "      <th>genres</th>\n",
       "    </tr>\n",
       "  </thead>\n",
       "  <tbody>\n",
       "    <tr>\n",
       "      <th>25563</th>\n",
       "      <td>73372</td>\n",
       "      <td>The scene is all filmed from a stationary came...</td>\n",
       "      <td>/m/0jq3g</td>\n",
       "      <td>Blacksmith Scene</td>\n",
       "      <td>1893-01-01</td>\n",
       "      <td>NaN</td>\n",
       "      <td>0.566667</td>\n",
       "      <td>[Silent film]</td>\n",
       "      <td>[United States of America]</td>\n",
       "      <td>[Short Film, Silent film, Indie, Black-and-white]</td>\n",
       "    </tr>\n",
       "    <tr>\n",
       "      <th>67253</th>\n",
       "      <td>10109752</td>\n",
       "      <td>After finding out that her father is suffering...</td>\n",
       "      <td>/m/02q23xk</td>\n",
       "      <td>Miss Jerry</td>\n",
       "      <td>1894-10-09</td>\n",
       "      <td>NaN</td>\n",
       "      <td>NaN</td>\n",
       "      <td>[Silent film]</td>\n",
       "      <td>[United States of America]</td>\n",
       "      <td>[Short Film, Silent film, Indie, Black-and-white]</td>\n",
       "    </tr>\n",
       "    <tr>\n",
       "      <th>81230</th>\n",
       "      <td>10104497</td>\n",
       "      <td>James J. Corbett and Peter Courtney both take ...</td>\n",
       "      <td>/m/02q1zd3</td>\n",
       "      <td>Corbett and Courtney Before the Kinetograph</td>\n",
       "      <td>1894-11-17</td>\n",
       "      <td>NaN</td>\n",
       "      <td>NaN</td>\n",
       "      <td>[Silent film]</td>\n",
       "      <td>[United States of America]</td>\n",
       "      <td>[Short Film, Silent film, Indie, Black-and-white]</td>\n",
       "    </tr>\n",
       "    <tr>\n",
       "      <th>67567</th>\n",
       "      <td>10330688</td>\n",
       "      <td>The film consists of a series of animations on...</td>\n",
       "      <td>/m/02q8pr6</td>\n",
       "      <td>Autour d'une cabine</td>\n",
       "      <td>1895-01-01</td>\n",
       "      <td>NaN</td>\n",
       "      <td>15.000000</td>\n",
       "      <td>[Silent film]</td>\n",
       "      <td>[France]</td>\n",
       "      <td>[Short Film, Silent film, Animation, Comedy, I...</td>\n",
       "    </tr>\n",
       "    <tr>\n",
       "      <th>73179</th>\n",
       "      <td>10483292</td>\n",
       "      <td>Two men stand working as blacksmiths. The one ...</td>\n",
       "      <td>/m/02qfh7r</td>\n",
       "      <td>Les Forgerons</td>\n",
       "      <td>1895-01-01</td>\n",
       "      <td>NaN</td>\n",
       "      <td>0.816667</td>\n",
       "      <td>[Silent film]</td>\n",
       "      <td>[France]</td>\n",
       "      <td>[Short Film, Silent film, Indie, Black-and-whi...</td>\n",
       "    </tr>\n",
       "  </tbody>\n",
       "</table>\n",
       "</div>"
      ],
      "text/plain": [
       "        wiki_id                                            summary  \\\n",
       "25563     73372  The scene is all filmed from a stationary came...   \n",
       "67253  10109752  After finding out that her father is suffering...   \n",
       "81230  10104497  James J. Corbett and Peter Courtney both take ...   \n",
       "67567  10330688  The film consists of a series of animations on...   \n",
       "73179  10483292  Two men stand working as blacksmiths. The one ...   \n",
       "\n",
       "      freebase_id                                   movie_name release_date  \\\n",
       "25563    /m/0jq3g                             Blacksmith Scene   1893-01-01   \n",
       "67253  /m/02q23xk                                   Miss Jerry   1894-10-09   \n",
       "81230  /m/02q1zd3  Corbett and Courtney Before the Kinetograph   1894-11-17   \n",
       "67567  /m/02q8pr6                          Autour d'une cabine   1895-01-01   \n",
       "73179  /m/02qfh7r                                Les Forgerons   1895-01-01   \n",
       "\n",
       "       revenue    runtime      languages                    coutries  \\\n",
       "25563      NaN   0.566667  [Silent film]  [United States of America]   \n",
       "67253      NaN        NaN  [Silent film]  [United States of America]   \n",
       "81230      NaN        NaN  [Silent film]  [United States of America]   \n",
       "67567      NaN  15.000000  [Silent film]                    [France]   \n",
       "73179      NaN   0.816667  [Silent film]                    [France]   \n",
       "\n",
       "                                                  genres  \n",
       "25563  [Short Film, Silent film, Indie, Black-and-white]  \n",
       "67253  [Short Film, Silent film, Indie, Black-and-white]  \n",
       "81230  [Short Film, Silent film, Indie, Black-and-white]  \n",
       "67567  [Short Film, Silent film, Animation, Comedy, I...  \n",
       "73179  [Short Film, Silent film, Indie, Black-and-whi...  "
      ]
     },
     "execution_count": 10,
     "metadata": {},
     "output_type": "execute_result"
    }
   ],
   "source": [
    "df.head()"
   ]
  },
  {
   "cell_type": "code",
   "execution_count": 11,
   "id": "d4537ecc",
   "metadata": {},
   "outputs": [
    {
     "data": {
      "text/plain": [
       "42204"
      ]
     },
     "execution_count": 11,
     "metadata": {},
     "output_type": "execute_result"
    }
   ],
   "source": [
    "len(df)"
   ]
  },
  {
   "cell_type": "markdown",
   "id": "02597004",
   "metadata": {},
   "source": [
    "Here we have that df contains all the movies with their informations, ordered by release date with a existing summary. We will use this to derive all our other dataframes (per countries, per date). We have 42204 movies compared to 81741 before."
   ]
  },
  {
   "cell_type": "code",
   "execution_count": 12,
   "id": "6d41b431",
   "metadata": {},
   "outputs": [],
   "source": [
    "analyzer = SentimentIntensityAnalyzer()"
   ]
  },
  {
   "cell_type": "code",
   "execution_count": 13,
   "id": "7a62d1e7",
   "metadata": {},
   "outputs": [],
   "source": [
    "def get_country_movies(df, country):\n",
    "    return df[df.coutries.apply(lambda x : country in x)]"
   ]
  },
  {
   "cell_type": "code",
   "execution_count": 14,
   "id": "9bfe1c4e",
   "metadata": {},
   "outputs": [],
   "source": [
    "def create_history_span(df, begin, end):\n",
    "    return df.loc[(df.release_date.dt.year < end) & (df.release_date.dt.year > begin)]"
   ]
  },
  {
   "cell_type": "code",
   "execution_count": 15,
   "id": "aedd8500",
   "metadata": {},
   "outputs": [],
   "source": [
    "def plot_sentiment_country_span(span, attribute, year:bool):\n",
    "    fig, axs = plt.subplots(figsize=(25, 5))\n",
    "    if year:\n",
    "        sentiments = span.groupby(span.release_date.dt.year)[attribute].mean()\n",
    "    else:\n",
    "        sentiments = span.groupby(span.release_date)[attribute].mean()\n",
    "    sentiments.plot(kind='bar', rot=90, ax=axs)"
   ]
  },
  {
   "cell_type": "code",
   "execution_count": 16,
   "id": "77c733d5",
   "metadata": {},
   "outputs": [],
   "source": [
    "def sentiment_df(df):\n",
    "    \n",
    "    df_copy = df.copy()\n",
    "    \n",
    "    # calculate the sentiment over the summaries\n",
    "    df_copy['sentiment'] = df_copy['summary'].apply(lambda x: analyzer.polarity_scores(x))\n",
    "\n",
    "    # isolate the most interesting values\n",
    "    df_copy['positive'] = df_copy['sentiment'].apply(lambda x: x['pos'])\n",
    "    df_copy['neutral'] = df_copy['sentiment'].apply(lambda x: x['neu'])\n",
    "    df_copy['negative'] = df_copy['sentiment'].apply(lambda x: x['neg'])\n",
    "    df_copy['compound'] = df_copy['sentiment'].apply(lambda x: x['compound'])\n",
    "    \n",
    "    return df_copy"
   ]
  },
  {
   "cell_type": "markdown",
   "id": "5b6cac28",
   "metadata": {},
   "source": [
    "Firstly we'll just look at movies made around the WW2, that is from 1930 to 1955."
   ]
  },
  {
   "cell_type": "code",
   "execution_count": 17,
   "id": "01265da0",
   "metadata": {},
   "outputs": [],
   "source": [
    "begin = 1930\n",
    "end = 1955"
   ]
  },
  {
   "cell_type": "code",
   "execution_count": 18,
   "id": "885ef01d",
   "metadata": {},
   "outputs": [
    {
     "name": "stdout",
     "output_type": "stream",
     "text": [
      "There is 5341 movies made worldwide bewteen 1930 and 1955\n"
     ]
    }
   ],
   "source": [
    "df_ww2 = create_history_span(df, begin, end)\n",
    "print(\"There is\", len(df_ww2), \"movies made worldwide bewteen\", begin, \"and\", end)"
   ]
  },
  {
   "cell_type": "markdown",
   "id": "394c7cfa",
   "metadata": {},
   "source": [
    "We will first run a sentiment analysis over all **german** movie during this period **(1930 to 1955)**."
   ]
  },
  {
   "cell_type": "code",
   "execution_count": 19,
   "id": "ae1f1e7a",
   "metadata": {},
   "outputs": [],
   "source": [
    "# get all the german movies\n",
    "df_ww2_germany = get_country_movies(df_ww2, 'Germany')\n",
    "\n",
    "# calculate sentiment and add it nicely to the df\n",
    "df_ww2_germany = sentiment_df(df_ww2_germany)"
   ]
  },
  {
   "cell_type": "code",
   "execution_count": 20,
   "id": "9bb0774f",
   "metadata": {},
   "outputs": [
    {
     "name": "stdout",
     "output_type": "stream",
     "text": [
      "There is 69 movies made in Germany bewteen 1930 and 1955\n"
     ]
    }
   ],
   "source": [
    "print(\"There is\", len(df_ww2_germany), \"movies made in Germany bewteen\", begin, \"and\", end)"
   ]
  },
  {
   "cell_type": "code",
   "execution_count": 21,
   "id": "9cf901e4",
   "metadata": {},
   "outputs": [
    {
     "data": {
      "image/png": "[encoded data removed]",
      "text/plain": [
       "<Figure size 1800x360 with 1 Axes>"
      ]
     },
     "metadata": {
      "needs_background": "light"
     },
     "output_type": "display_data"
    }
   ],
   "source": [
    "plot_sentiment_country_span(df_ww2_germany, 'compound', year=True)"
   ]
  },
  {
   "cell_type": "markdown",
   "id": "74435a4f",
   "metadata": {},
   "source": [
    "Seeing the compound value of all the movies at this period we can clearly see that the post war (1946-1951) overall sentiment is negative.\n",
    "\n",
    "---"
   ]
  },
  {
   "cell_type": "markdown",
   "id": "0f59f6bf",
   "metadata": {},
   "source": [
    "We then run a sentiment analysis over all **french** movie during this period **(1930 to 1955)**."
   ]
  },
  {
   "cell_type": "code",
   "execution_count": 22,
   "id": "6deb4681",
   "metadata": {},
   "outputs": [],
   "source": [
    "# get all the french movies\n",
    "df_ww2_french = get_country_movies(df_ww2, 'France')\n",
    "\n",
    "# calculate sentiment and add it nicely to the df\n",
    "df_ww2_french = sentiment_df(df_ww2_french)"
   ]
  },
  {
   "cell_type": "code",
   "execution_count": 23,
   "id": "e027b7de",
   "metadata": {},
   "outputs": [
    {
     "name": "stdout",
     "output_type": "stream",
     "text": [
      "There is 100 movies made in France bewteen 1930 and 1955\n"
     ]
    }
   ],
   "source": [
    "print(\"There is\", len(df_ww2_french), \"movies made in France bewteen\", begin, \"and\", end)"
   ]
  },
  {
   "cell_type": "code",
   "execution_count": 24,
   "id": "20eb0f7d",
   "metadata": {},
   "outputs": [
    {
     "data": {
      "image/png": "[encoded data removed]",
      "text/plain": [
       "<Figure size 1800x360 with 1 Axes>"
      ]
     },
     "metadata": {
      "needs_background": "light"
     },
     "output_type": "display_data"
    }
   ],
   "source": [
    "plot_sentiment_country_span(df_ww2_french, 'compound', year=True)"
   ]
  },
  {
   "cell_type": "markdown",
   "id": "bae4db22",
   "metadata": {},
   "source": [
    "We can't see any form of pattern here ?... Except the 1945 year that is very positive (victory for France)\n",
    "\n",
    "---"
   ]
  },
  {
   "cell_type": "markdown",
   "id": "54a03c03",
   "metadata": {},
   "source": [
    "We then run a sentiment analysis over all **italy** movie during this period **(1930 to 1955)**."
   ]
  },
  {
   "cell_type": "code",
   "execution_count": 25,
   "id": "ab8ac182",
   "metadata": {},
   "outputs": [],
   "source": [
    "# get all the french movies\n",
    "df_ww2_italy = get_country_movies(df_ww2, 'Italy')\n",
    "\n",
    "# calculate sentiment and add it nicely to the df\n",
    "df_ww2_italy = sentiment_df(df_ww2_italy)"
   ]
  },
  {
   "cell_type": "code",
   "execution_count": 26,
   "id": "7e08ab4e",
   "metadata": {},
   "outputs": [
    {
     "name": "stdout",
     "output_type": "stream",
     "text": [
      "There is 73 movies made in Italy bewteen 1930 and 1955\n"
     ]
    }
   ],
   "source": [
    "print(\"There is\", len(df_ww2_italy), \"movies made in Italy bewteen\", begin, \"and\", end)"
   ]
  },
  {
   "cell_type": "code",
   "execution_count": 27,
   "id": "f3536bfd",
   "metadata": {},
   "outputs": [
    {
     "data": {
      "image/png": "[encoded data removed]",
      "text/plain": [
       "<Figure size 1800x360 with 1 Axes>"
      ]
     },
     "metadata": {
      "needs_background": "light"
     },
     "output_type": "display_data"
    }
   ],
   "source": [
    "plot_sentiment_country_span(df_ww2_italy, 'compound', year=True)"
   ]
  },
  {
   "cell_type": "markdown",
   "id": "ca88e742",
   "metadata": {},
   "source": [
    "Seeing the compound value of all the movies at this period we can clearly see that the post war (1945-1949) overall sentiment is negative.\n",
    "\n",
    "---"
   ]
  },
  {
   "cell_type": "markdown",
   "id": "0f10da06",
   "metadata": {},
   "source": [
    "We then run a sentiment analysis over all **united kingdom** movie during this period **(1930 to 1955)**."
   ]
  },
  {
   "cell_type": "code",
   "execution_count": 28,
   "id": "9fca0a4b",
   "metadata": {},
   "outputs": [],
   "source": [
    "# get all the UK movies\n",
    "df_ww2_UK = get_country_movies(df_ww2, 'United Kingdom')\n",
    "\n",
    "# calculate sentiment and add it nicely to the df\n",
    "df_ww2_UK = sentiment_df(df_ww2_UK)"
   ]
  },
  {
   "cell_type": "code",
   "execution_count": 29,
   "id": "96c455dd",
   "metadata": {},
   "outputs": [
    {
     "name": "stdout",
     "output_type": "stream",
     "text": [
      "There is 593 movies made in UK bewteen 1930 and 1955\n"
     ]
    }
   ],
   "source": [
    "print(\"There is\", len(df_ww2_UK), \"movies made in UK bewteen\", begin, \"and\", end)"
   ]
  },
  {
   "cell_type": "code",
   "execution_count": 30,
   "id": "4ab9302d",
   "metadata": {},
   "outputs": [
    {
     "data": {
      "image/png": "[encoded data removed]",
      "text/plain": [
       "<Figure size 1800x360 with 1 Axes>"
      ]
     },
     "metadata": {
      "needs_background": "light"
     },
     "output_type": "display_data"
    }
   ],
   "source": [
    "plot_sentiment_country_span(df_ww2_UK, 'compound', year=True)"
   ]
  },
  {
   "cell_type": "markdown",
   "id": "f89e3e19",
   "metadata": {},
   "source": [
    "Seeing the compound value of all the movies at this period we can see that the war (1939-1945) overall sentiment is negative, execpt the last year (vicory for UK) where it is positive. \n",
    "Also the post war period is tainted with negativity  (1946 - 1951)\n",
    "\n",
    "---"
   ]
  },
  {
   "cell_type": "markdown",
   "id": "e4fea1c1",
   "metadata": {},
   "source": [
    "We then run a sentiment analysis over all **soviet union** movie during this period **(1930 to 1955)**."
   ]
  },
  {
   "cell_type": "code",
   "execution_count": 31,
   "id": "2b8ae8cb",
   "metadata": {},
   "outputs": [],
   "source": [
    "# get all the Russian movies\n",
    "df_ww2_SovietUnion = get_country_movies(df_ww2, 'Soviet Union')\n",
    "\n",
    "# calculate sentiment and add it nicely to the df\n",
    "df_ww2_SovietUnion = sentiment_df(df_ww2_SovietUnion)"
   ]
  },
  {
   "cell_type": "code",
   "execution_count": 32,
   "id": "249442cd",
   "metadata": {},
   "outputs": [
    {
     "name": "stdout",
     "output_type": "stream",
     "text": [
      "There is 24 movies made in Soviet Union bewteen 1930 and 1955\n"
     ]
    }
   ],
   "source": [
    "print(\"There is\", len(df_ww2_SovietUnion), \"movies made in Soviet Union bewteen\", begin, \"and\", end)"
   ]
  },
  {
   "cell_type": "code",
   "execution_count": 33,
   "id": "9b586862",
   "metadata": {},
   "outputs": [
    {
     "data": {
      "image/png": "[encoded data removed]",
      "text/plain": [
       "<Figure size 1800x360 with 1 Axes>"
      ]
     },
     "metadata": {
      "needs_background": "light"
     },
     "output_type": "display_data"
    }
   ],
   "source": [
    "plot_sentiment_country_span(df_ww2_SovietUnion, 'compound', year=True)"
   ]
  },
  {
   "cell_type": "markdown",
   "id": "12e074ab",
   "metadata": {},
   "source": [
    "We then run a sentiment analysis over all **USA** movie during this period **(1930 to 1955)**."
   ]
  },
  {
   "cell_type": "code",
   "execution_count": 34,
   "id": "f99004dc",
   "metadata": {},
   "outputs": [],
   "source": [
    "# get all the USA movies\n",
    "df_ww2_USA = get_country_movies(df_ww2, 'United States of America')\n",
    "\n",
    "# calculate sentiment and add it nicely to the df\n",
    "df_ww2_USA = sentiment_df(df_ww2_USA)"
   ]
  },
  {
   "cell_type": "code",
   "execution_count": 35,
   "id": "b32323dd",
   "metadata": {},
   "outputs": [
    {
     "name": "stdout",
     "output_type": "stream",
     "text": [
      "There is 3863 movies made in USA bewteen 1930 and 1955\n"
     ]
    }
   ],
   "source": [
    "print(\"There is\", len(df_ww2_USA), \"movies made in USA bewteen\", begin, \"and\", end)"
   ]
  },
  {
   "cell_type": "code",
   "execution_count": 36,
   "id": "e6d77640",
   "metadata": {},
   "outputs": [
    {
     "data": {
      "image/png": "[encoded data removed]",
      "text/plain": [
       "<Figure size 1800x360 with 1 Axes>"
      ]
     },
     "metadata": {
      "needs_background": "light"
     },
     "output_type": "display_data"
    }
   ],
   "source": [
    "plot_sentiment_country_span(df_ww2_USA, 'compound', year=True)"
   ]
  },
  {
   "cell_type": "markdown",
   "id": "671ba4fa",
   "metadata": {},
   "source": [
    "Seeing the compound value of all the movies at this period we can see that the war and prewar (1941-1951) overall sentiment is very negative. There is a clear mark between before the involvement of USA in the war and after.\n",
    "\n",
    "---"
   ]
  },
  {
   "cell_type": "markdown",
   "id": "1b34a28b",
   "metadata": {},
   "source": [
    "We then run a sentiment analysis over all **Japan** movie during this period **(1930 to 1955)**."
   ]
  },
  {
   "cell_type": "code",
   "execution_count": 37,
   "id": "7ab471b8",
   "metadata": {},
   "outputs": [],
   "source": [
    "# get all the Japan movies\n",
    "df_ww2_japan = get_country_movies(df_ww2, 'Japan')\n",
    "\n",
    "# calculate sentiment and add it nicely to the df\n",
    "df_ww2_japan = sentiment_df(df_ww2_japan)"
   ]
  },
  {
   "cell_type": "code",
   "execution_count": 38,
   "id": "7ded97af",
   "metadata": {},
   "outputs": [
    {
     "name": "stdout",
     "output_type": "stream",
     "text": [
      "There is 44 movies made in Japan bewteen 1930 and 1955\n"
     ]
    }
   ],
   "source": [
    "print(\"There is\", len(df_ww2_japan), \"movies made in Japan bewteen\", begin, \"and\", end)"
   ]
  },
  {
   "cell_type": "code",
   "execution_count": 39,
   "id": "64621547",
   "metadata": {},
   "outputs": [
    {
     "data": {
      "image/png": "[encoded data removed]",
      "text/plain": [
       "<Figure size 1800x360 with 1 Axes>"
      ]
     },
     "metadata": {
      "needs_background": "light"
     },
     "output_type": "display_data"
    }
   ],
   "source": [
    "plot_sentiment_country_span(df_ww2_japan, 'compound', year=True)"
   ]
  },
  {
   "cell_type": "markdown",
   "id": "75e6b01f",
   "metadata": {},
   "source": [
    "Pre war (before 1939)  is pretty positive. The rest of the period is moslty negative.\n",
    "\n",
    "---"
   ]
  },
  {
   "cell_type": "markdown",
   "id": "eb7e2a67",
   "metadata": {},
   "source": [
    "### We will now do LDA."
   ]
  },
  {
   "cell_type": "code",
   "execution_count": 46,
   "id": "a83d2b14",
   "metadata": {},
   "outputs": [],
   "source": [
    "lemma = WordNetLemmatizer()\n",
    "stopwords_set = set(stopwords.words('english'))\n",
    "punctuation_set = set(string.punctuation)\n",
    "names_set = {'lucas', 'pierre', 'baptiste', 'garance', 'marius', 'jean', 'roxane', 'jeanne', 'george', 'émile', 'louis', 'louise', 'robert', \n",
    "             'mario', 'françois', 'fanny', 'liliom', 'michel', 'frédérick', 'christina', 'christian', 'christine', 'andré', 'george', \n",
    "             'edmund', 'julie', 'marie', 'jo', 'anne', 'genevieve'}\n",
    "\n",
    "\n",
    "# remove stopwords and punctuation\n",
    "def clean_text(text):\n",
    "    no_stopwords = ' '.join([word for word in text.lower().split() if word not in stopwords_set])\n",
    "    no_punctuation = ''.join(ch for ch in no_stopwords if ch not in punctuation_set)\n",
    "    no_names = ' '.join([word for word in no_punctuation.split() if word not in names_set])\n",
    "    return no_names\n",
    "\n",
    "# lemmatize the text\n",
    "def lemmatize(text):\n",
    "    lemmatized = ' '.join([lemma.lemmatize(word) for word in text.split()])\n",
    "    return lemmatized.split()\n",
    "\n",
    "# compute the LDA for the given dataframe\n",
    "def LDA(dataframe, num_topics=5):\n",
    "    \n",
    "    # remove stopwords and punctuation in the summaries\n",
    "    dataframe['clean_summary'] = dataframe['summary'].apply(clean_text)\n",
    "    \n",
    "    # lemmatize the summaries\n",
    "    dataframe['clean_summary'] = dataframe['clean_summary'].apply(lemmatize)\n",
    "    \n",
    "    # create dictionary (all unique words in all the summaries)\n",
    "    dictionary = corpora.Dictionary(dataframe['clean_summary'])\n",
    "    \n",
    "    # create the document term matrix (frequencies and number of words : bag of words)\n",
    "    doc_term_matrix = [dictionary.doc2bow(doc) for doc in dataframe['clean_summary']]\n",
    "\n",
    "    # init the LDA model\n",
    "    lda = gensim.models.ldamodel.LdaModel\n",
    "    \n",
    "    # compute the LDA\n",
    "    ldamodel = lda(doc_term_matrix, num_topics=num_topics, id2word=dictionary, passes=50, minimum_probability=0)\n",
    "    \n",
    "    # print the topics found\n",
    "    print(\"--- Here are all the topics found : ---\")\n",
    "    topics = ldamodel.print_topics()\n",
    "    for i in range(len(topics)):\n",
    "        print(topics[i])\n",
    "        print(\"---\")\n",
    "        \n",
    "    lda_display = pyLDAvis.gensim_models.prepare(ldamodel, doc_term_matrix, dictionary, sort_topics=True, mds='mmds')\n",
    "    \n",
    "    return lda_display, doc_term_matrix, ldamodel"
   ]
  },
  {
   "cell_type": "code",
   "execution_count": 47,
   "id": "1e5dadc6",
   "metadata": {},
   "outputs": [
    {
     "name": "stdout",
     "output_type": "stream",
     "text": [
      "--- Here are all the topics found : ---\n",
      "(0, '0.006*\"film\" + 0.006*\"friedemann\" + 0.004*\"fall\" + 0.004*\"snowman\" + 0.004*\"love\" + 0.004*\"son\" + 0.004*\"one\" + 0.003*\"find\" + 0.003*\"war\" + 0.003*\"take\"')\n",
      "---\n",
      "(1, '0.007*\"baron\" + 0.005*\"young\" + 0.004*\"film\" + 0.004*\"king\" + 0.004*\"father\" + 0.004*\"baum\" + 0.003*\"german\" + 0.003*\"woman\" + 0.003*\"love\" + 0.003*\"two\"')\n",
      "---\n",
      "(2, '0.006*\"gray\" + 0.006*\"hitler\" + 0.005*\"film\" + 0.005*\"german\" + 0.004*\"nazi\" + 0.004*\"war\" + 0.004*\"find\" + 0.003*\"day\" + 0.003*\"man\" + 0.003*\"beckert\"')\n",
      "---\n"
     ]
    },
    {
     "data": {
      "text/html": [
       "\n",
       "<link rel=\"stylesheet\" type=\"text/css\" href=\"https://cdn.jsdelivr.net/gh/bmabey/pyLDAvis@3.3.1/pyLDAvis/js/ldavis.v1.0.0.css\">\n",
       "\n",
       "\n",
       "<div id=\"ldavis_el1506021819422948966394267984\"></div>\n",
       "<script type=\"text/javascript\">\n",
       "\n",
       "var ldavis_el1506021819422948966394267984_data = {\"mdsDat\": {\"x\": [0.03955216057376562, 0.05819066350383656, -0.09774282407760218], \"y\": [0.09220606752900812, -0.08250053262522578, -0.009705534903782297], \"topics\": [1, 2, 3], \"cluster\": [1, 1, 1], \"Freq\": [36.93432946325772, 31.933463911507907, 31.132206625234364]}, \"tinfo\": {\"Term\": [\"baron\", \"gray\", \"friedemann\", \"snowman\", \"baum\", \"hitler\", \"beckert\", \"junta\", \"duroy\", \"mabuse\", \"kent\", \"antonia\", \"astr\\u00e9e\", \"local\", \"irish\", \"kr\\u00fcger\", \"inge\", \"herbert\", \"puerto\", \"rico\", \"prince\", \"lohmann\", \"king\", \"fall\", \"crown\", \"christel\", \"muck\", \"father\", \"young\", \"fritz\", \"gray\", \"beckert\", \"kr\\u00fcger\", \"inge\", \"herbert\", \"muck\", \"l\\u00e9one\", \"sa\", \"manor\", \"line\", \"gis\\u00e9le\", \"vampyr\", \"outside\", \"boer\", \"parade\", \"national\", \"die\", \"lutze\", \"large\", \"blind\", \"finding\", \"three\", \"letter\", \"white\", \"titanic\", \"passenger\", \"ismay\", \"wehrmacht\", \"robot\", \"stylebackgroundeee\", \"hitler\", \"polish\", \"speech\", \"crowd\", \"girl\", \"stock\", \"old\", \"nazi\", \"party\", \"school\", \"day\", \"german\", \"british\", \"war\", \"child\", \"man\", \"film\", \"doctor\", \"home\", \"find\", \"world\", \"woman\", \"him\", \"one\", \"end\", \"police\", \"wife\", \"first\", \"friedemann\", \"snowman\", \"junta\", \"duroy\", \"antonia\", \"astr\\u00e9e\", \"local\", \"irish\", \"puerto\", \"rico\", \"nagel\", \"nettelbeck\", \"gneisenau\", \"kolberg\", \"snow\", \"napoleon\", \"rothschild\", \"grotto\", \"crystal\", \"so\", \"laroche\", \"madeleine\", \"macheath\", \"fever\", \"sweden\", \"full\", \"flynn\", \"mcmacpherson\", \"holmes\", \"peachum\", \"husband\", \"fall\", \"johann\", \"son\", \"film\", \"leader\", \"life\", \"order\", \"love\", \"one\", \"han\", \"take\", \"put\", \"father\", \"war\", \"find\", \"scene\", \"wife\", \"visit\", \"night\", \"him\", \"village\", \"also\", \"baron\", \"baum\", \"mabuse\", \"kent\", \"crown\", \"christel\", \"cagliostro\", \"hofmeister\", \"harry\", \"miner\", \"erich\", \"kuchenreutter\", \"henning\", \"mabuses\", \"guest\", \"writing\", \"interest\", \"katte\", \"control\", \"hella\", \"past\", \"mine\", \"anni\", \"tsar\", \"wealthy\", \"mertens\", \"irene\", \"prince\", \"lohmann\", \"m\\u00fcnchhausen\", \"king\", \"young\", \"fritz\", \"go\", \"father\", \"french\", \"woman\", \"asylum\", \"fire\", \"two\", \"professor\", \"elisabeth\", \"martha\", \"apartment\", \"work\", \"return\", \"try\", \"love\", \"away\", \"criminal\", \"german\", \"film\", \"find\", \"meet\", \"man\", \"family\", \"time\", \"plan\", \"home\", \"escape\", \"place\", \"day\"], \"Freq\": [18.0, 17.0, 15.0, 10.0, 9.0, 19.0, 9.0, 7.0, 7.0, 6.0, 6.0, 6.0, 6.0, 6.0, 6.0, 7.0, 7.0, 7.0, 6.0, 6.0, 7.0, 7.0, 13.0, 16.0, 5.0, 5.0, 6.0, 17.0, 21.0, 9.0, 17.541340624948646, 8.890639476674112, 7.448848679842075, 7.448842638388856, 7.448837939480797, 6.0070458001036, 5.286173896227877, 5.286171211137558, 4.5652811829021775, 4.565263394178811, 3.8443874626676084, 3.8443867913950283, 3.8443844419409987, 3.8443817568506793, 3.8443716877619813, 3.8443656463087628, 3.844354905947485, 3.1234967631596486, 3.123495084978199, 3.1234927355241693, 3.1234920642515895, 3.12349005043385, 3.12349005043385, 3.12348971479756, 3.1234873653435304, 3.1234870297072406, 3.1234870297072406, 3.1234786387999924, 3.1234202380855445, 2.4026013647436297, 16.121154736099367, 5.28981857070022, 5.287896381667794, 5.287295592708821, 6.74524358490177, 4.56745610606092, 8.190852580168045, 11.064183170265096, 8.17352300724641, 6.010550514243043, 9.621018278462087, 13.950302174281036, 7.459820630159868, 11.061196007284725, 7.458012893102308, 9.61601058501634, 14.660603884478014, 6.012058863729986, 7.467771182595715, 10.337117769931304, 6.009807415497139, 6.732496789882831, 6.731498607556581, 6.7309018462330865, 6.009544947918415, 6.010249112854686, 6.009320742876742, 5.2905945618025365, 14.710457215679796, 9.883470605889181, 7.125207716022795, 7.125196688744887, 6.435644750375676, 6.435644169992629, 6.435623856585954, 6.435598900114897, 5.746077141664174, 5.746075400515031, 4.366939892900503, 4.3669352498361205, 4.366934089070025, 4.366932638112405, 4.366930606771738, 4.366928865622594, 4.36692190102602, 3.6773679313161423, 3.677367641124618, 3.677367641124618, 3.677360096144996, 3.6773592255704246, 3.6773522609738505, 2.987800612796164, 2.98780032260464, 2.9877991618385447, 2.987786103219968, 2.9877858130284443, 2.9877849424538723, 2.987782330730157, 5.062616903765062, 10.620697529339926, 4.372477037368393, 9.200180420223086, 15.404266844087939, 5.057810751745923, 6.445405052091154, 7.125345266805133, 9.20635685661817, 9.192107292027671, 6.441698145564618, 7.125802608646828, 5.058631413375565, 7.124832208190845, 7.811695812282474, 7.813882695606724, 5.749785789339854, 6.432164773620845, 5.74727505227491, 5.745437559545458, 6.431824669154812, 5.750334831703108, 5.747341796325411, 18.04408122982715, 9.136091899048951, 6.395170799223992, 6.395170233403603, 5.02470685438918, 5.0246915772386815, 4.339479974355274, 4.339479974355274, 4.339469789588274, 4.339468092127108, 4.339451117515443, 3.654249982309228, 3.654242909554368, 2.9690177269816274, 2.9690177269816274, 2.96901659534085, 2.9690140491491, 2.9690123516879336, 2.96900697639424, 2.969005844753462, 2.9690061276636563, 2.9690038643821013, 2.968999620729185, 2.9689982061782128, 2.968983777758298, 2.968981797386937, 2.9689591645713835, 6.397144946560615, 6.396205118894771, 2.2837839156479576, 9.147247048014703, 12.567726356308091, 6.395901273345969, 6.397916159750588, 9.14250603897671, 6.404331997139514, 8.453079922927113, 3.657272877736544, 3.6560716410510614, 7.765996869107655, 3.6577498643243262, 3.656847380804145, 3.655263649535814, 3.654616916831383, 6.4094532374788, 7.085842851769789, 5.715114102993006, 7.772486263147128, 5.721692896653914, 5.025007305015648, 8.454108018573613, 9.814478293492115, 7.762110814677181, 5.706278817621449, 5.7047533658531675, 5.027862434697676, 5.025472975195654, 5.026928831056109, 5.03735067679794, 5.030566490335888, 5.027513323517769, 5.026623288046142], \"Total\": [18.0, 17.0, 15.0, 10.0, 9.0, 19.0, 9.0, 7.0, 7.0, 6.0, 6.0, 6.0, 6.0, 6.0, 6.0, 7.0, 7.0, 7.0, 6.0, 6.0, 7.0, 7.0, 13.0, 16.0, 5.0, 5.0, 6.0, 17.0, 21.0, 9.0, 17.99963486850904, 9.34892245334565, 7.907136128997582, 7.907135271921001, 7.9071349869238965, 6.465348803934547, 5.744457509646413, 5.744456781917279, 5.023564049130623, 5.023561906355339, 4.302669610698574, 4.302669269532123, 4.3026689181976945, 4.302668543584866, 4.302667487328445, 4.302667334142709, 4.3026659979569954, 3.5817747380661857, 3.5817742989820855, 3.5817743471160863, 3.581773803778818, 3.5817738324797626, 3.581773992981996, 3.581774117141126, 3.581773686043841, 3.581773379400162, 3.581773595678556, 3.581772669134868, 3.581766626099541, 2.8608777971638832, 19.312097301610052, 6.429533780063908, 6.429440840090973, 6.433733378562526, 8.56111306461256, 5.7128837505412, 12.74397856554823, 19.079414368631035, 12.75631303693579, 8.529220179284843, 16.245340334000982, 27.444866911087196, 12.04010329766581, 23.20799262702313, 12.716540274079506, 19.688686142078474, 39.879349022058065, 9.214528817583648, 13.393412043301547, 25.913111280215205, 10.584902024070256, 17.477277505691198, 18.188512210071856, 20.94676767767826, 13.334480263810496, 14.024095644373215, 16.09709318482981, 10.54929787114034, 15.179187334161625, 10.352211789424015, 7.593937868689856, 7.593937209269014, 6.904369125612844, 6.904370837530648, 6.9043693459930955, 6.9043682848877905, 6.214802164220838, 6.214801566689014, 4.83566490107066, 4.835664146104056, 4.835663565864421, 4.835663896842891, 4.835664200496465, 4.835663591307665, 4.835663179561052, 4.146094619119016, 4.146094985813566, 4.146095106118392, 4.146094237835222, 4.146094840243064, 4.146094683372486, 3.4565247932130068, 3.456524699932206, 3.4565250312083964, 3.456524163871383, 3.4565240903628682, 3.456524331337222, 3.4565242739470072, 6.210167360150009, 16.015913918716663, 5.520595757332494, 15.935858504372908, 39.879349022058065, 7.651577155690715, 11.121739875073406, 13.289189900455893, 20.803056491954116, 20.94676767767826, 11.914373121860857, 17.436041652776126, 8.336777842158916, 17.942732405244897, 23.20799262702313, 25.913111280215205, 11.117565953067814, 16.09709318482981, 11.767236281864326, 11.838650175841211, 18.188512210071856, 12.595165888439082, 13.209096640347063, 18.51425639375638, 9.606260987717848, 6.865339380707653, 6.865339084751452, 5.494877076480486, 5.4948777467827306, 4.809646362120147, 4.809646679005425, 4.809646198950272, 4.809645860630802, 4.809645580926127, 4.124415140286244, 4.12441476896777, 3.439182527045222, 3.439182613999273, 3.439182586318634, 3.4391824649690923, 3.4391820062978176, 3.4391823246411377, 3.439181689029084, 3.4391820259049384, 3.439181831297285, 3.439181792545278, 3.439181854514606, 3.4391810437708084, 3.4391813687085744, 3.4391800067565397, 7.585735647358529, 7.585784919368212, 2.7539483479414835, 13.115494377957749, 21.494514125487825, 9.748511621092662, 10.437719470172913, 17.942732405244897, 11.032722033810735, 17.477277505691198, 4.813621951854408, 4.81363051679524, 16.666477956077564, 4.844725953035511, 4.844773441504683, 4.844859470562799, 4.844893768455145, 12.537621364565434, 15.291589852793614, 11.131621533749787, 20.803056491954116, 11.758589647682529, 9.098969989936018, 27.444866911087196, 39.879349022058065, 25.913111280215205, 13.263189083805642, 19.688686142078474, 10.321525630909086, 10.321542572762251, 11.167343220014676, 13.393412043301547, 12.577692669104449, 11.825623341032856, 16.245340334000982], \"Category\": [\"Default\", \"Default\", \"Default\", \"Default\", \"Default\", \"Default\", \"Default\", \"Default\", \"Default\", \"Default\", \"Default\", \"Default\", \"Default\", \"Default\", \"Default\", \"Default\", \"Default\", \"Default\", \"Default\", \"Default\", \"Default\", \"Default\", \"Default\", \"Default\", \"Default\", \"Default\", \"Default\", \"Default\", \"Default\", \"Default\", \"Topic1\", \"Topic1\", \"Topic1\", \"Topic1\", \"Topic1\", \"Topic1\", \"Topic1\", \"Topic1\", \"Topic1\", \"Topic1\", \"Topic1\", \"Topic1\", \"Topic1\", \"Topic1\", \"Topic1\", \"Topic1\", \"Topic1\", \"Topic1\", \"Topic1\", \"Topic1\", \"Topic1\", \"Topic1\", \"Topic1\", \"Topic1\", \"Topic1\", \"Topic1\", \"Topic1\", \"Topic1\", \"Topic1\", \"Topic1\", \"Topic1\", \"Topic1\", \"Topic1\", \"Topic1\", \"Topic1\", \"Topic1\", \"Topic1\", \"Topic1\", \"Topic1\", \"Topic1\", \"Topic1\", \"Topic1\", \"Topic1\", \"Topic1\", \"Topic1\", \"Topic1\", \"Topic1\", \"Topic1\", \"Topic1\", \"Topic1\", \"Topic1\", \"Topic1\", \"Topic1\", \"Topic1\", \"Topic1\", \"Topic1\", \"Topic1\", \"Topic1\", \"Topic2\", \"Topic2\", \"Topic2\", \"Topic2\", \"Topic2\", \"Topic2\", \"Topic2\", \"Topic2\", \"Topic2\", \"Topic2\", \"Topic2\", \"Topic2\", \"Topic2\", \"Topic2\", \"Topic2\", \"Topic2\", \"Topic2\", \"Topic2\", \"Topic2\", \"Topic2\", \"Topic2\", \"Topic2\", \"Topic2\", \"Topic2\", \"Topic2\", \"Topic2\", \"Topic2\", \"Topic2\", \"Topic2\", \"Topic2\", \"Topic2\", \"Topic2\", \"Topic2\", \"Topic2\", \"Topic2\", \"Topic2\", \"Topic2\", \"Topic2\", \"Topic2\", \"Topic2\", \"Topic2\", \"Topic2\", \"Topic2\", \"Topic2\", \"Topic2\", \"Topic2\", \"Topic2\", \"Topic2\", \"Topic2\", \"Topic2\", \"Topic2\", \"Topic2\", \"Topic2\", \"Topic3\", \"Topic3\", \"Topic3\", \"Topic3\", \"Topic3\", \"Topic3\", \"Topic3\", \"Topic3\", \"Topic3\", \"Topic3\", \"Topic3\", \"Topic3\", \"Topic3\", \"Topic3\", \"Topic3\", \"Topic3\", \"Topic3\", \"Topic3\", \"Topic3\", \"Topic3\", \"Topic3\", \"Topic3\", \"Topic3\", \"Topic3\", \"Topic3\", \"Topic3\", \"Topic3\", \"Topic3\", \"Topic3\", \"Topic3\", \"Topic3\", \"Topic3\", \"Topic3\", \"Topic3\", \"Topic3\", \"Topic3\", \"Topic3\", \"Topic3\", \"Topic3\", \"Topic3\", \"Topic3\", \"Topic3\", \"Topic3\", \"Topic3\", \"Topic3\", \"Topic3\", \"Topic3\", \"Topic3\", \"Topic3\", \"Topic3\", \"Topic3\", \"Topic3\", \"Topic3\", \"Topic3\", \"Topic3\", \"Topic3\", \"Topic3\", \"Topic3\", \"Topic3\", \"Topic3\", \"Topic3\", \"Topic3\"], \"logprob\": [30.0, 29.0, 28.0, 27.0, 26.0, 25.0, 24.0, 23.0, 22.0, 21.0, 20.0, 19.0, 18.0, 17.0, 16.0, 15.0, 14.0, 13.0, 12.0, 11.0, 10.0, 9.0, 8.0, 7.0, 6.0, 5.0, 4.0, 3.0, 2.0, 1.0, -5.1021, -5.7816, -5.9586, -5.9586, -5.9586, -6.1737, -6.3015, -6.3015, -6.4481, -6.4481, -6.62, -6.62, -6.62, -6.62, -6.62, -6.62, -6.62, -6.8277, -6.8277, -6.8277, -6.8277, -6.8277, -6.8277, -6.8277, -6.8277, -6.8277, -6.8277, -6.8277, -6.8277, -7.0901, -5.1865, -6.3008, -6.3012, -6.3013, -6.0578, -6.4477, -5.8636, -5.5629, -5.8657, -6.1731, -5.7027, -5.3311, -5.9571, -5.5632, -5.9573, -5.7032, -5.2815, -6.1729, -5.956, -5.6309, -6.1732, -6.0597, -6.0598, -6.0599, -6.1733, -6.1732, -6.1733, -6.3007, -5.1326, -5.5303, -5.8575, -5.8575, -5.9593, -5.9593, -5.9593, -5.9593, -6.0726, -6.0726, -6.3471, -6.3471, -6.3471, -6.3471, -6.3471, -6.3471, -6.3471, -6.5189, -6.5189, -6.5189, -6.5189, -6.5189, -6.5189, -6.7266, -6.7266, -6.7266, -6.7266, -6.7266, -6.7266, -6.7266, -6.1992, -5.4583, -6.3458, -5.6019, -5.0865, -6.2002, -5.9578, -5.8575, -5.6012, -5.6028, -5.9583, -5.8574, -6.2, -5.8575, -5.7655, -5.7652, -6.072, -5.9598, -6.0724, -6.0727, -5.9599, -6.0719, -6.0724, -4.9029, -5.5835, -5.9402, -5.9402, -6.1814, -6.1814, -6.328, -6.328, -6.328, -6.328, -6.328, -6.4998, -6.4998, -6.7075, -6.7075, -6.7075, -6.7075, -6.7075, -6.7075, -6.7075, -6.7075, -6.7075, -6.7075, -6.7075, -6.7075, -6.7075, -6.7075, -5.9399, -5.94, -6.9699, -5.5823, -5.2646, -5.9401, -5.9397, -5.5828, -5.9387, -5.6612, -6.499, -6.4993, -5.746, -6.4989, -6.4991, -6.4996, -6.4997, -5.9379, -5.8376, -6.0526, -5.7451, -6.0515, -6.1813, -5.6611, -5.5119, -5.7465, -6.0542, -6.0544, -6.1807, -6.1812, -6.1809, -6.1788, -6.1802, -6.1808, -6.181], \"loglift\": [30.0, 29.0, 28.0, 27.0, 26.0, 25.0, 24.0, 23.0, 22.0, 21.0, 20.0, 19.0, 18.0, 17.0, 16.0, 15.0, 14.0, 13.0, 12.0, 11.0, 10.0, 9.0, 8.0, 7.0, 6.0, 5.0, 4.0, 3.0, 2.0, 1.0, 0.9702, 0.9458, 0.9363, 0.9363, 0.9363, 0.9225, 0.9129, 0.9129, 0.9004, 0.9004, 0.8834, 0.8834, 0.8834, 0.8834, 0.8834, 0.8834, 0.8834, 0.8591, 0.8591, 0.8591, 0.8591, 0.8591, 0.8591, 0.8591, 0.8591, 0.8591, 0.8591, 0.8591, 0.8591, 0.8215, 0.8154, 0.8009, 0.8006, 0.7998, 0.7576, 0.7723, 0.554, 0.4511, 0.5509, 0.646, 0.4722, 0.3194, 0.5173, 0.255, 0.4624, 0.2794, -0.0047, 0.569, 0.4119, 0.077, 0.43, 0.0421, 0.002, -0.1392, 0.199, 0.1487, 0.0107, 0.3059, 1.1101, 1.0952, 1.0778, 1.0778, 1.0712, 1.0712, 1.0712, 1.0712, 1.0631, 1.0631, 1.0396, 1.0396, 1.0396, 1.0396, 1.0396, 1.0396, 1.0396, 1.0215, 1.0215, 1.0215, 1.0215, 1.0215, 1.0215, 0.9958, 0.9958, 0.9958, 0.9958, 0.9958, 0.9958, 0.9958, 0.9372, 0.7307, 0.9084, 0.5922, 0.1903, 0.7275, 0.596, 0.5182, 0.3263, 0.3179, 0.5266, 0.2467, 0.6419, 0.2179, 0.0526, -0.0573, 0.4822, 0.2242, 0.4249, 0.4186, 0.102, 0.3575, 0.3093, 1.1412, 1.1167, 1.096, 1.096, 1.0775, 1.0775, 1.0641, 1.0641, 1.0641, 1.0641, 1.0641, 1.0459, 1.0459, 1.0199, 1.0199, 1.0199, 1.0199, 1.0199, 1.0199, 1.0199, 1.0199, 1.0199, 1.0199, 1.0199, 1.0199, 1.0199, 1.0199, 0.9965, 0.9964, 0.9797, 0.8066, 0.6303, 0.7455, 0.6775, 0.4927, 0.623, 0.4406, 0.8922, 0.8919, 0.4033, 0.8859, 0.8856, 0.8852, 0.885, 0.496, 0.3977, 0.5003, 0.1824, 0.4466, 0.5732, -0.0106, -0.2351, -0.0386, 0.3235, -0.0718, 0.4477, 0.4472, 0.3687, 0.189, 0.2505, 0.3116, -0.0061]}, \"token.table\": {\"Topic\": [1, 2, 3, 3, 2, 1, 3, 2, 2, 3, 1, 2, 3, 3, 3, 1, 1, 1, 1, 2, 3, 3, 1, 2, 3, 3, 3, 1, 3, 1, 2, 3, 2, 1, 2, 3, 1, 1, 2, 3, 2, 1, 3, 1, 2, 3, 3, 1, 2, 3, 1, 2, 3, 2, 3, 1, 2, 3, 2, 1, 2, 3, 1, 2, 3, 1, 2, 3, 1, 2, 3, 2, 1, 2, 3, 2, 1, 3, 2, 1, 2, 3, 1, 2, 3, 1, 2, 1, 2, 3, 1, 2, 3, 1, 2, 3, 3, 3, 3, 1, 1, 2, 3, 1, 2, 3, 3, 2, 1, 2, 3, 2, 3, 1, 3, 3, 2, 1, 2, 3, 2, 3, 3, 1, 2, 3, 2, 1, 3, 1, 2, 1, 2, 3, 1, 1, 2, 3, 1, 2, 1, 3, 1, 2, 3, 1, 1, 3, 3, 2, 2, 1, 2, 3, 1, 1, 3, 2, 1, 2, 3, 3, 3, 3, 1, 3, 2, 2, 1, 1, 2, 3, 2, 1, 2, 3, 1, 2, 3, 1, 2, 3, 1, 2, 3, 1, 1, 1, 2, 3, 1, 3, 2, 1, 2, 3, 1, 2, 3, 1, 2, 3, 1, 3, 1, 3, 1, 3, 2, 1, 2, 3, 1, 2, 3, 2, 1, 2, 1, 1, 2, 3, 1, 2, 3, 2, 2, 2, 1, 2, 3, 1, 3, 1, 2, 1, 2, 1, 2, 3, 1, 2, 3, 1, 1, 2, 3, 3, 1, 2, 3, 1, 1, 2, 3, 1, 2, 3, 1, 2, 3, 3, 1, 1, 1, 2, 3, 1, 2, 3, 1, 2, 3, 1, 2, 3, 3, 1, 2, 3], \"Freq\": [0.22711621253769373, 0.45423242507538747, 0.302821616716925, 0.8723005008059643, 0.869014951379418, 0.20640287440582264, 0.8256114976232906, 0.869014735909797, 0.2077437758930691, 0.8309751035722764, 0.17008842556166376, 0.3401768511233275, 0.5102652766849913, 0.9722237619043774, 0.9368889739209681, 0.9626777893295303, 0.837573702099768, 0.929655621733602, 0.58139036077515, 0.3322230633000858, 0.08305576582502144, 0.8316619765443117, 0.5504641867307497, 0.15727548192307134, 0.235913222884607, 0.9099383517545075, 0.8723003658472906, 0.43961019812398866, 0.5495127476549858, 0.7771537466349185, 0.1554307493269837, 0.9099384627549378, 0.9647632323153594, 0.6155611267232314, 0.12311222534464628, 0.3077805633616157, 0.9296561717547427, 0.6511456113252894, 0.21704853710842978, 0.21704853710842978, 0.9217879746827422, 0.20640800071951795, 0.8256320028780718, 0.44996129442584093, 0.22498064721292046, 0.299974196283894, 0.8316621116248185, 0.3975291916840903, 0.23851751501045418, 0.3975291916840903, 0.24975159209150616, 0.686816878251642, 0.12487579604575308, 0.4844245103676225, 0.4844245103676225, 0.11146574305568831, 0.3901301006949091, 0.5015958437505974, 0.8679237614295702, 0.3761345249568442, 0.3761345249568442, 0.2507563499712295, 0.3859050305408541, 0.3087240244326833, 0.3087240244326833, 0.8375738291555321, 0.2077434062524948, 0.8309736250099792, 0.47396519285690797, 0.1895860771427632, 0.3791721542855264, 0.8679239194555302, 0.09063946294807511, 0.36255785179230043, 0.5438367776884506, 0.988195195815368, 0.30773928540116413, 0.6154785708023283, 0.8679237016695939, 0.510113605045185, 0.18218343037328036, 0.29149348859724855, 0.817650689480386, 0.11680724135434087, 0.11680724135434087, 0.9296553911678491, 0.8271874057236985, 0.28741910611536114, 0.0958063687051204, 0.5748382122307223, 1.000020285494324, 0.9647633176422638, 0.8723002924556638, 0.4196611897965363, 0.5035934277558436, 0.08393223795930727, 0.8316620047588986, 0.8723005270614042, 0.9698345641898407, 0.8852764005642961, 0.38485830611938465, 0.3298785481023297, 0.27489879008527474, 0.8284962399534969, 0.10356202999418711, 0.051781014997093554, 0.8316619217499673, 0.8679238774053105, 0.5226450121424371, 0.0746635731632053, 0.3733178658160265, 0.8051312806937337, 0.16102625613874674, 0.8852763686562534, 0.8723003302550744, 0.8723009537466093, 0.8690150571968673, 0.8375738778183882, 0.7245594815898578, 0.18113987039746446, 0.921787894639132, 0.8723004465906169, 0.8739553758279108, 0.15249139242217613, 0.15249139242217613, 0.6862112658997926, 0.8271873491066078, 0.8852762726986739, 0.9698344768762514, 0.8375737133555786, 0.9647634063639852, 0.2613840204842655, 0.6534600512106639, 0.13069201024213276, 0.8375737849116377, 0.17982797857756944, 0.5394839357327083, 0.17982797857756944, 0.9953097211113232, 0.8690149236413692, 0.13182551451554808, 0.7909530870932885, 0.1922794374733856, 0.4326287343151176, 0.3845588749467712, 0.8375736106787418, 0.8704042099021051, 0.8739553381527867, 0.8723003145103362, 0.9647633026909913, 0.9647632661884552, 0.5079059073742912, 0.20316236294971649, 0.30474354442457474, 0.9953092965671054, 0.20640433558000307, 0.8256173423200123, 0.8679239379133209, 0.3769832404866339, 0.22618994429198033, 0.45237988858396067, 0.8723006083062468, 0.8723004909770583, 0.8316620632595569, 0.9280241765685782, 0.7262300331431257, 0.8271871773237148, 0.8271874013713836, 0.9296558830516666, 0.5765376120812905, 0.26206255094604114, 0.15723753056762468, 0.8271873064680629, 0.25340726818011844, 0.5068145363602369, 0.25340726818011844, 0.6277474462823572, 0.07846843078529465, 0.3138737231411786, 0.33418043813315834, 0.4296605633140607, 0.23870031295225594, 0.37624565812160393, 0.5267439213702455, 0.15049826324864157, 0.929655540792928, 0.9296558499535894, 0.6271404579705807, 0.23517767173896775, 0.15678511449264518, 0.837573928393652, 0.8723004416175447, 0.867923891815838, 0.2536864158010616, 0.33824855440141544, 0.4228106930017693, 0.35818725378037974, 0.17909362689018987, 0.4477340672254747, 0.4278350741573369, 0.28522338277155795, 0.28522338277155795, 0.7776613625553269, 0.15553227251106538, 0.1318263707684324, 0.7909582246105944, 0.20641002395056834, 0.8256400958022734, 0.9654370069159284, 0.23990083913308097, 0.5997520978327023, 0.23990083913308097, 0.2615816954617863, 0.2615816954617863, 0.45776796705812595, 0.9654370997393805, 0.8375755076111502, 0.8271874718046621, 0.8704043201681452, 0.17989549227257914, 0.5396864768177374, 0.2698432384088687, 0.7034640768885728, 0.23448802562952428, 0.11724401281476214, 0.8271872971637134, 0.965977146083522, 0.9647632043213867, 0.12550312237343136, 0.5647640506804411, 0.25100624474686273, 0.7776726039412866, 0.1555345207882573, 0.8752147283806246, 0.1750429456761249, 0.6990861343265657, 0.8679237848521204, 0.2867623339959108, 0.40146726759427515, 0.2867623339959108, 0.8375738224440084, 0.4844237152297963, 0.4844237152297963, 0.8375738566870693, 0.2695025150562609, 0.17966834337084062, 0.5390050301125218, 0.8723004850883088, 0.2400027174632519, 0.3000033968290649, 0.4800054349265038, 0.9296554648819115, 0.39697770115036174, 0.4763732413804341, 0.15879108046014467, 0.1699634435897579, 0.5098903307692737, 0.3399268871795158, 0.4739746421321989, 0.34470883064159924, 0.17235441532079962, 0.8723006907222078, 0.837574094484509, 0.8375737558778603, 0.3727381043960476, 0.3727381043960476, 0.24849206959736508, 0.4005200465416059, 0.1144342990118874, 0.4577371960475496, 0.3190397830409073, 0.15951989152045365, 0.47855967456136095, 0.5668451145183859, 0.18894837150612867, 0.28342255725919296, 0.8723002994764686, 0.23261749350598654, 0.18609399480478922, 0.604805483115565], \"Term\": [\"also\", \"also\", \"also\", \"anni\", \"antonia\", \"apartment\", \"apartment\", \"astr\\u00e9e\", \"asylum\", \"asylum\", \"away\", \"away\", \"away\", \"baron\", \"baum\", \"beckert\", \"blind\", \"boer\", \"british\", \"british\", \"british\", \"cagliostro\", \"child\", \"child\", \"child\", \"christel\", \"control\", \"criminal\", \"criminal\", \"crowd\", \"crowd\", \"crown\", \"crystal\", \"day\", \"day\", \"day\", \"die\", \"doctor\", \"doctor\", \"doctor\", \"duroy\", \"elisabeth\", \"elisabeth\", \"end\", \"end\", \"end\", \"erich\", \"escape\", \"escape\", \"escape\", \"fall\", \"fall\", \"fall\", \"family\", \"family\", \"father\", \"father\", \"father\", \"fever\", \"film\", \"film\", \"film\", \"find\", \"find\", \"find\", \"finding\", \"fire\", \"fire\", \"first\", \"first\", \"first\", \"flynn\", \"french\", \"french\", \"french\", \"friedemann\", \"fritz\", \"fritz\", \"full\", \"german\", \"german\", \"german\", \"girl\", \"girl\", \"girl\", \"gis\\u00e9le\", \"gneisenau\", \"go\", \"go\", \"go\", \"gray\", \"grotto\", \"guest\", \"han\", \"han\", \"han\", \"harry\", \"hella\", \"henning\", \"herbert\", \"him\", \"him\", \"him\", \"hitler\", \"hitler\", \"hitler\", \"hofmeister\", \"holmes\", \"home\", \"home\", \"home\", \"husband\", \"husband\", \"inge\", \"interest\", \"irene\", \"irish\", \"ismay\", \"johann\", \"johann\", \"junta\", \"katte\", \"kent\", \"king\", \"king\", \"king\", \"kolberg\", \"kr\\u00fcger\", \"kuchenreutter\", \"large\", \"laroche\", \"leader\", \"leader\", \"leader\", \"letter\", \"life\", \"life\", \"life\", \"line\", \"local\", \"lohmann\", \"lohmann\", \"love\", \"love\", \"love\", \"lutze\", \"l\\u00e9one\", \"mabuse\", \"mabuses\", \"macheath\", \"madeleine\", \"man\", \"man\", \"man\", \"manor\", \"martha\", \"martha\", \"mcmacpherson\", \"meet\", \"meet\", \"meet\", \"mertens\", \"mine\", \"miner\", \"muck\", \"m\\u00fcnchhausen\", \"nagel\", \"napoleon\", \"national\", \"nazi\", \"nazi\", \"nazi\", \"nettelbeck\", \"night\", \"night\", \"night\", \"old\", \"old\", \"old\", \"one\", \"one\", \"one\", \"order\", \"order\", \"order\", \"outside\", \"parade\", \"party\", \"party\", \"party\", \"passenger\", \"past\", \"peachum\", \"place\", \"place\", \"place\", \"plan\", \"plan\", \"plan\", \"police\", \"police\", \"police\", \"polish\", \"polish\", \"prince\", \"prince\", \"professor\", \"professor\", \"puerto\", \"put\", \"put\", \"put\", \"return\", \"return\", \"return\", \"rico\", \"robot\", \"rothschild\", \"sa\", \"scene\", \"scene\", \"scene\", \"school\", \"school\", \"school\", \"snow\", \"snowman\", \"so\", \"son\", \"son\", \"son\", \"speech\", \"speech\", \"stock\", \"stock\", \"stylebackgroundeee\", \"sweden\", \"take\", \"take\", \"take\", \"three\", \"time\", \"time\", \"titanic\", \"try\", \"try\", \"try\", \"tsar\", \"two\", \"two\", \"two\", \"vampyr\", \"village\", \"village\", \"village\", \"visit\", \"visit\", \"visit\", \"war\", \"war\", \"war\", \"wealthy\", \"wehrmacht\", \"white\", \"wife\", \"wife\", \"wife\", \"woman\", \"woman\", \"woman\", \"work\", \"work\", \"work\", \"world\", \"world\", \"world\", \"writing\", \"young\", \"young\", \"young\"]}, \"R\": 30, \"lambda.step\": 0.01, \"plot.opts\": {\"xlab\": \"PC1\", \"ylab\": \"PC2\"}, \"topic.order\": [3, 1, 2]};\n",
       "\n",
       "function LDAvis_load_lib(url, callback){\n",
       "  var s = document.createElement('script');\n",
       "  s.src = url;\n",
       "  s.async = true;\n",
       "  s.onreadystatechange = s.onload = callback;\n",
       "  s.onerror = function(){console.warn(\"failed to load library \" + url);};\n",
       "  document.getElementsByTagName(\"head\")[0].appendChild(s);\n",
       "}\n",
       "\n",
       "if(typeof(LDAvis) !== \"undefined\"){\n",
       "   // already loaded: just create the visualization\n",
       "   !function(LDAvis){\n",
       "       new LDAvis(\"#\" + \"ldavis_el1506021819422948966394267984\", ldavis_el1506021819422948966394267984_data);\n",
       "   }(LDAvis);\n",
       "}else if(typeof define === \"function\" && define.amd){\n",
       "   // require.js is available: use it to load d3/LDAvis\n",
       "   require.config({paths: {d3: \"https://d3js.org/d3.v5\"}});\n",
       "   require([\"d3\"], function(d3){\n",
       "      window.d3 = d3;\n",
       "      LDAvis_load_lib(\"https://cdn.jsdelivr.net/gh/bmabey/pyLDAvis@3.3.1/pyLDAvis/js/ldavis.v3.0.0.js\", function(){\n",
       "        new LDAvis(\"#\" + \"ldavis_el1506021819422948966394267984\", ldavis_el1506021819422948966394267984_data);\n",
       "      });\n",
       "    });\n",
       "}else{\n",
       "    // require.js not available: dynamically load d3 & LDAvis\n",
       "    LDAvis_load_lib(\"https://d3js.org/d3.v5.js\", function(){\n",
       "         LDAvis_load_lib(\"https://cdn.jsdelivr.net/gh/bmabey/pyLDAvis@3.3.1/pyLDAvis/js/ldavis.v3.0.0.js\", function(){\n",
       "                 new LDAvis(\"#\" + \"ldavis_el1506021819422948966394267984\", ldavis_el1506021819422948966394267984_data);\n",
       "            })\n",
       "         });\n",
       "}\n",
       "</script>"
      ],
      "text/plain": [
       "<IPython.core.display.HTML object>"
      ]
     },
     "execution_count": 47,
     "metadata": {},
     "output_type": "execute_result"
    }
   ],
   "source": [
    "display_ger, doc_term_matrix_ger, ldamodel_ger = LDA(df_ww2_germany, num_topics=3)\n",
    "pyLDAvis.display(display_ger)"
   ]
  },
  {
   "cell_type": "code",
   "execution_count": 49,
   "id": "0caf73be",
   "metadata": {},
   "outputs": [],
   "source": [
    "# assigns the topics to the summaries\n",
    "lda_corpus_ger = ldamodel_ger[doc_term_matrix_ger]"
   ]
  },
  {
   "cell_type": "code",
   "execution_count": 83,
   "id": "2d026fc9",
   "metadata": {},
   "outputs": [],
   "source": [
    "threshold = 1/3\n",
    "\n",
    "cluster1 = [j for i,j in zip(lda_corpus_ger, df_ww2_germany['movie_name']) if i[0][1] > threshold]\n",
    "cluster2 = [j for i,j in zip(lda_corpus_ger, df_ww2_germany['movie_name']) if i[1][1] > threshold]\n",
    "cluster3 = [j for i,j in zip(lda_corpus_ger, df_ww2_germany['movie_name']) if i[2][1] > threshold]"
   ]
  },
  {
   "cell_type": "code",
   "execution_count": 84,
   "id": "2053afba",
   "metadata": {},
   "outputs": [
    {
     "data": {
      "text/plain": [
       "12696         Der Hauptmann von Köpenick\n",
       "73702               The Threepenny Opera\n",
       "73773                     The Blue Light\n",
       "907                      The Living Dead\n",
       "11687          Our Flags Lead Us Forward\n",
       "36299                         Amphitryon\n",
       "50191               Carnival in Flanders\n",
       "29362                        La Habanera\n",
       "25310    The Man Who Was Sherlock Holmes\n",
       "64184                      Der Herrscher\n",
       "25325                            Bel Ami\n",
       "20230                    Der Postmeister\n",
       "2548                     The Rothschilds\n",
       "52208                My Life for Ireland\n",
       "39954               The Fox of Glenarvon\n",
       "70572                  U-Boote westwärts\n",
       "26879                    Friedemann Bach\n",
       "47531                       Ich klage an\n",
       "75502                      The Comedians\n",
       "73403                    The Golden City\n",
       "11750                     The Red Terror\n",
       "26751                     Der Schneemann\n",
       "49711                            Kolberg\n",
       "28242     Momotaro's Divine Sea Warriors\n",
       "17728                           Rotation\n",
       "43616                         The Sinner\n",
       "2497                 The Axe of Wandsbek\n",
       "Name: movie_name, dtype: object"
      ]
     },
     "execution_count": 84,
     "metadata": {},
     "output_type": "execute_result"
    }
   ],
   "source": [
    "df_ww2_germany['movie_name'].apply(lambda x: x if x in cluster1 else np.nan).dropna()"
   ]
  },
  {
   "cell_type": "code",
   "execution_count": null,
   "id": "fbde4581",
   "metadata": {},
   "outputs": [],
   "source": []
  },
  {
   "cell_type": "code",
   "execution_count": null,
   "id": "7420496b",
   "metadata": {},
   "outputs": [],
   "source": []
  }
 ],
 "metadata": {
  "kernelspec": {
   "display_name": "Python 3 (ipykernel)",
   "language": "python",
   "name": "python3"
  },
  "language_info": {
   "codemirror_mode": {
    "name": "ipython",
    "version": 3
   },
   "file_extension": ".py",
   "mimetype": "text/x-python",
   "name": "python",
   "nbconvert_exporter": "python",
   "pygments_lexer": "ipython3",
   "version": "3.9.7"
  }
 },
 "nbformat": 4,
 "nbformat_minor": 5
}
